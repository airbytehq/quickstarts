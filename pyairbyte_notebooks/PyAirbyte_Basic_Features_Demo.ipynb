{
  "cells": [
    {
      "cell_type": "markdown",
      "metadata": {
        "colab_type": "text",
        "id": "view-in-github"
      },
      "source": [
        "<a href=\"https://colab.research.google.com/github/airbytehq/quickstarts/blob/master/pyairbyte_notebooks/PyAirbyte_Basic_Features_Demo.ipynb\" target=\"_parent\"><img src=\"https://colab.research.google.com/assets/colab-badge.svg\" alt=\"Open In Colab\"/></a>\n"
      ]
    },
    {
      "cell_type": "markdown",
      "metadata": {
        "id": "R8XtHKK4PujA"
      },
      "source": [
        "# PyAirbyte Demo\n",
        "\n",
        "Below is a pre-release demo of PyAirbyte.\n"
      ]
    },
    {
      "cell_type": "markdown",
      "metadata": {
        "id": "Lyxh2NLuQJUf"
      },
      "source": [
        "## Install PyAirbyte\n"
      ]
    },
    {
      "cell_type": "code",
      "execution_count": null,
      "metadata": {
        "id": "9DEgu1WpQNt-"
      },
      "outputs": [],
      "source": [
        "# Add virtual environment support for running in Google Colab\n",
        "!apt-get install -qq python3.10-venv\n",
        "\n",
        "# Install PyAirbyte\n",
        "%pip install --quiet airbyte"
      ]
    },
    {
      "cell_type": "markdown",
      "metadata": {
        "id": "cXJ_cRQV7nIb"
      },
      "source": [
        "## Locating your Data Source\n",
        "\n",
        "To see what data sources are available, you can check [our docs](https://docs.airbyte.com/using-airbyte/airbyte-lib/getting-started) or run the following:\n"
      ]
    },
    {
      "cell_type": "code",
      "execution_count": null,
      "metadata": {
        "id": "tfjct5EQ7nIb"
      },
      "outputs": [],
      "source": [
        "# Import PyAirbyte\n",
        "import airbyte as ab\n",
        "\n",
        "# Show all available connectors\n",
        "ab.get_available_connectors()"
      ]
    },
    {
      "cell_type": "markdown",
      "metadata": {
        "id": "JWWeEbTVEDFz"
      },
      "source": [
        "## Load the Source Data using PyAirbyte\n"
      ]
    },
    {
      "cell_type": "markdown",
      "metadata": {
        "id": "1PhfWpS8QVzE"
      },
      "source": [
        "Create and install a source connector:\n"
      ]
    },
    {
      "cell_type": "code",
      "execution_count": 4,
      "metadata": {
        "colab": {
          "base_uri": "https://localhost:8080/",
          "height": 129
        },
        "id": "5BI9hIeUvxXE",
        "outputId": "4d674fb3-25f1-400e-f2e6-c4160cb245e4"
      },
      "outputs": [
        {
          "data": {
            "text/html": [
              "<pre style=\"white-space:pre;overflow-x:auto;line-height:normal;font-family:Menlo,'DejaVu Sans Mono',consolas,'Courier New',monospace\">Installing <span style=\"color: #008000; text-decoration-color: #008000\">'source-faker'</span> into virtual environment <span style=\"color: #008000; text-decoration-color: #008000\">'/content/.venv-source-faker'</span>.\n",
              "Running <span style=\"color: #008000; text-decoration-color: #008000\">'pip install airbyte-source-faker'</span><span style=\"color: #808000; text-decoration-color: #808000\">...</span>\n",
              "\n",
              "</pre>\n"
            ],
            "text/plain": [
              "Installing \u001b[32m'source-faker'\u001b[0m into virtual environment \u001b[32m'/content/.venv-source-faker'\u001b[0m.\n",
              "Running \u001b[32m'pip install airbyte-source-faker'\u001b[0m\u001b[33m...\u001b[0m\n",
              "\n"
            ]
          },
          "metadata": {},
          "output_type": "display_data"
        },
        {
          "data": {
            "text/html": [
              "<pre style=\"white-space:pre;overflow-x:auto;line-height:normal;font-family:Menlo,'DejaVu Sans Mono',consolas,'Courier New',monospace\">Connector <span style=\"color: #008000; text-decoration-color: #008000\">'source-faker'</span> installed successfully!\n",
              "For more information, see the source-faker documentation:\n",
              "<span style=\"color: #0000ff; text-decoration-color: #0000ff; text-decoration: underline\">https://docs.airbyte.com/integrations/sources/faker#reference</span>\n",
              "\n",
              "</pre>\n"
            ],
            "text/plain": [
              "Connector \u001b[32m'source-faker'\u001b[0m installed successfully!\n",
              "For more information, see the source-faker documentation:\n",
              "\u001b[4;94mhttps://docs.airbyte.com/integrations/sources/faker#reference\u001b[0m\n",
              "\n"
            ]
          },
          "metadata": {},
          "output_type": "display_data"
        }
      ],
      "source": [
        "import airbyte as ab\n",
        "\n",
        "# Create and install the source:\n",
        "source: ab.Source = ab.get_source(\"source-faker\")"
      ]
    },
    {
      "cell_type": "code",
      "execution_count": 5,
      "metadata": {
        "colab": {
          "base_uri": "https://localhost:8080/",
          "height": 33
        },
        "id": "Ww7NA9cQQjQI",
        "outputId": "4c355b12-18a6-43ef-ecc7-e6986af6b73a"
      },
      "outputs": [
        {
          "data": {
            "text/html": [
              "<pre style=\"white-space:pre;overflow-x:auto;line-height:normal;font-family:Menlo,'DejaVu Sans Mono',consolas,'Courier New',monospace\">Connection check succeeded for `source-faker`.\n",
              "</pre>\n"
            ],
            "text/plain": [
              "Connection check succeeded for `source-faker`.\n"
            ]
          },
          "metadata": {},
          "output_type": "display_data"
        }
      ],
      "source": [
        "# Configure the source\n",
        "source.set_config(\n",
        "    config={\n",
        "        \"count\": 50_000,  # Adjust this to get a larger or smaller dataset\n",
        "        \"seed\": 123,\n",
        "    },\n",
        ")\n",
        "# Verify the config and creds by running `check`:\n",
        "source.check()"
      ]
    },
    {
      "cell_type": "markdown",
      "metadata": {
        "id": "Que5DAqtEJu0"
      },
      "source": [
        "## Read Data from the PyAirbyte Cache\n",
        "\n",
        "Once data is read, we can do anything we want to with the resulting streams. This includes `to_pandas()` which registers a Pandas dataframe and `to_sql_table()` which gives us a SQLAlchemy `Table` boject, which we can use to run SQL queries.\n"
      ]
    },
    {
      "cell_type": "code",
      "execution_count": 6,
      "metadata": {
        "colab": {
          "base_uri": "https://localhost:8080/",
          "height": 337
        },
        "id": "qQVRO69c2DoA",
        "outputId": "b94fa743-ed48-4242-9344-ee60cee2f225"
      },
      "outputs": [
        {
          "data": {
            "text/markdown": [
              "## Read Progress\n",
              "\n",
              "Started reading at 20:10:41.\n",
              "\n",
              "Read **100,100** records over **1min 17s** (1,300.0 records / second).\n",
              "\n",
              "Wrote **100,100** records over 11 batches.\n",
              "\n",
              "Finished reading at 20:11:59.\n",
              "\n",
              "Started finalizing streams at 20:11:59.\n",
              "\n",
              "Finalized **11** batches over 1 seconds.\n",
              "\n",
              "Completed 3 out of 3 streams:\n",
              "\n",
              "  - users\n",
              "  - purchases\n",
              "  - products\n",
              "\n",
              "\n",
              "Completed writing at 20:12:01. Total time elapsed: 1min 19s\n",
              "\n",
              "\n",
              "------------------------------------------------\n"
            ],
            "text/plain": [
              "<IPython.core.display.Markdown object>"
            ]
          },
          "metadata": {},
          "output_type": "display_data"
        },
        {
          "data": {
            "text/html": [
              "<pre style=\"white-space:pre;overflow-x:auto;line-height:normal;font-family:Menlo,'DejaVu Sans Mono',consolas,'Courier New',monospace\">Completed `source-faker` read operation at <span style=\"color: #00ff00; text-decoration-color: #00ff00; font-weight: bold\">20:12:01</span>.\n",
              "</pre>\n"
            ],
            "text/plain": [
              "Completed `source-faker` read operation at \u001b[1;92m20:12:01\u001b[0m.\n"
            ]
          },
          "metadata": {},
          "output_type": "display_data"
        }
      ],
      "source": [
        "# Select all of the source's streams and read data into the internal cache:\n",
        "source.select_all_streams()\n",
        "read_result: ab.ReadResult = source.read()"
      ]
    },
    {
      "cell_type": "code",
      "execution_count": 7,
      "metadata": {
        "colab": {
          "base_uri": "https://localhost:8080/",
          "height": 424
        },
        "id": "gRuGVOoDEw1R",
        "outputId": "8c221488-54b7-4eed-a882-dc6d776d7b8e"
      },
      "outputs": [
        {
          "data": {
            "text/html": [
              "\n",
              "  <div id=\"df-baa5ab88-f5f2-45d6-8e53-10623dc3e0d5\" class=\"colab-df-container\">\n",
              "    <div>\n",
              "<style scoped>\n",
              "    .dataframe tbody tr th:only-of-type {\n",
              "        vertical-align: middle;\n",
              "    }\n",
              "\n",
              "    .dataframe tbody tr th {\n",
              "        vertical-align: top;\n",
              "    }\n",
              "\n",
              "    .dataframe thead th {\n",
              "        text-align: right;\n",
              "    }\n",
              "</style>\n",
              "<table border=\"1\" class=\"dataframe\">\n",
              "  <thead>\n",
              "    <tr style=\"text-align: right;\">\n",
              "      <th></th>\n",
              "      <th>id</th>\n",
              "      <th>make</th>\n",
              "      <th>model</th>\n",
              "      <th>year</th>\n",
              "      <th>price</th>\n",
              "      <th>created_at</th>\n",
              "      <th>updated_at</th>\n",
              "    </tr>\n",
              "  </thead>\n",
              "  <tbody>\n",
              "    <tr>\n",
              "      <th>0</th>\n",
              "      <td>1</td>\n",
              "      <td>Mazda</td>\n",
              "      <td>MX-5</td>\n",
              "      <td>2008</td>\n",
              "      <td>2869.0</td>\n",
              "      <td>2022-02-01 17:02:19</td>\n",
              "      <td>2024-02-12 20:10:42</td>\n",
              "    </tr>\n",
              "    <tr>\n",
              "      <th>1</th>\n",
              "      <td>2</td>\n",
              "      <td>Mercedes-Benz</td>\n",
              "      <td>C-Class</td>\n",
              "      <td>2009</td>\n",
              "      <td>42397.0</td>\n",
              "      <td>2021-01-25 14:31:33</td>\n",
              "      <td>2024-02-12 20:10:42</td>\n",
              "    </tr>\n",
              "    <tr>\n",
              "      <th>2</th>\n",
              "      <td>3</td>\n",
              "      <td>Honda</td>\n",
              "      <td>Accord Crosstour</td>\n",
              "      <td>2011</td>\n",
              "      <td>63293.0</td>\n",
              "      <td>2021-02-11 05:36:03</td>\n",
              "      <td>2024-02-12 20:10:42</td>\n",
              "    </tr>\n",
              "    <tr>\n",
              "      <th>3</th>\n",
              "      <td>4</td>\n",
              "      <td>GMC</td>\n",
              "      <td>Jimmy</td>\n",
              "      <td>1998</td>\n",
              "      <td>34079.0</td>\n",
              "      <td>2022-01-24 03:00:03</td>\n",
              "      <td>2024-02-12 20:10:42</td>\n",
              "    </tr>\n",
              "    <tr>\n",
              "      <th>4</th>\n",
              "      <td>5</td>\n",
              "      <td>Infiniti</td>\n",
              "      <td>FX</td>\n",
              "      <td>2004</td>\n",
              "      <td>17036.0</td>\n",
              "      <td>2021-10-02 03:55:44</td>\n",
              "      <td>2024-02-12 20:10:42</td>\n",
              "    </tr>\n",
              "    <tr>\n",
              "      <th>...</th>\n",
              "      <td>...</td>\n",
              "      <td>...</td>\n",
              "      <td>...</td>\n",
              "      <td>...</td>\n",
              "      <td>...</td>\n",
              "      <td>...</td>\n",
              "      <td>...</td>\n",
              "    </tr>\n",
              "    <tr>\n",
              "      <th>95</th>\n",
              "      <td>96</td>\n",
              "      <td>BMW</td>\n",
              "      <td>330</td>\n",
              "      <td>2006</td>\n",
              "      <td>14494.0</td>\n",
              "      <td>2021-09-17 20:52:48</td>\n",
              "      <td>2024-02-12 20:10:42</td>\n",
              "    </tr>\n",
              "    <tr>\n",
              "      <th>96</th>\n",
              "      <td>97</td>\n",
              "      <td>Audi</td>\n",
              "      <td>R8</td>\n",
              "      <td>2008</td>\n",
              "      <td>17642.0</td>\n",
              "      <td>2021-09-21 11:56:24</td>\n",
              "      <td>2024-02-12 20:10:42</td>\n",
              "    </tr>\n",
              "    <tr>\n",
              "      <th>97</th>\n",
              "      <td>98</td>\n",
              "      <td>Cadillac</td>\n",
              "      <td>CTS-V</td>\n",
              "      <td>2007</td>\n",
              "      <td>19914.0</td>\n",
              "      <td>2021-09-02 15:38:46</td>\n",
              "      <td>2024-02-12 20:10:42</td>\n",
              "    </tr>\n",
              "    <tr>\n",
              "      <th>98</th>\n",
              "      <td>99</td>\n",
              "      <td>GMC</td>\n",
              "      <td>1500 Club Coupe</td>\n",
              "      <td>1997</td>\n",
              "      <td>82288.0</td>\n",
              "      <td>2021-04-20 18:58:15</td>\n",
              "      <td>2024-02-12 20:10:42</td>\n",
              "    </tr>\n",
              "    <tr>\n",
              "      <th>99</th>\n",
              "      <td>100</td>\n",
              "      <td>Buick</td>\n",
              "      <td>Somerset</td>\n",
              "      <td>1986</td>\n",
              "      <td>64148.0</td>\n",
              "      <td>2021-06-10 19:07:38</td>\n",
              "      <td>2024-02-12 20:10:42</td>\n",
              "    </tr>\n",
              "  </tbody>\n",
              "</table>\n",
              "<p>100 rows × 7 columns</p>\n",
              "</div>\n",
              "    <div class=\"colab-df-buttons\">\n",
              "\n",
              "  <div class=\"colab-df-container\">\n",
              "    <button class=\"colab-df-convert\" onclick=\"convertToInteractive('df-baa5ab88-f5f2-45d6-8e53-10623dc3e0d5')\"\n",
              "            title=\"Convert this dataframe to an interactive table.\"\n",
              "            style=\"display:none;\">\n",
              "\n",
              "  <svg xmlns=\"http://www.w3.org/2000/svg\" height=\"24px\" viewBox=\"0 -960 960 960\">\n",
              "    <path d=\"M120-120v-720h720v720H120Zm60-500h600v-160H180v160Zm220 220h160v-160H400v160Zm0 220h160v-160H400v160ZM180-400h160v-160H180v160Zm440 0h160v-160H620v160ZM180-180h160v-160H180v160Zm440 0h160v-160H620v160Z\"/>\n",
              "  </svg>\n",
              "    </button>\n",
              "\n",
              "  <style>\n",
              "    .colab-df-container {\n",
              "      display:flex;\n",
              "      gap: 12px;\n",
              "    }\n",
              "\n",
              "    .colab-df-convert {\n",
              "      background-color: #E8F0FE;\n",
              "      border: none;\n",
              "      border-radius: 50%;\n",
              "      cursor: pointer;\n",
              "      display: none;\n",
              "      fill: #1967D2;\n",
              "      height: 32px;\n",
              "      padding: 0 0 0 0;\n",
              "      width: 32px;\n",
              "    }\n",
              "\n",
              "    .colab-df-convert:hover {\n",
              "      background-color: #E2EBFA;\n",
              "      box-shadow: 0px 1px 2px rgba(60, 64, 67, 0.3), 0px 1px 3px 1px rgba(60, 64, 67, 0.15);\n",
              "      fill: #174EA6;\n",
              "    }\n",
              "\n",
              "    .colab-df-buttons div {\n",
              "      margin-bottom: 4px;\n",
              "    }\n",
              "\n",
              "    [theme=dark] .colab-df-convert {\n",
              "      background-color: #3B4455;\n",
              "      fill: #D2E3FC;\n",
              "    }\n",
              "\n",
              "    [theme=dark] .colab-df-convert:hover {\n",
              "      background-color: #434B5C;\n",
              "      box-shadow: 0px 1px 3px 1px rgba(0, 0, 0, 0.15);\n",
              "      filter: drop-shadow(0px 1px 2px rgba(0, 0, 0, 0.3));\n",
              "      fill: #FFFFFF;\n",
              "    }\n",
              "  </style>\n",
              "\n",
              "    <script>\n",
              "      const buttonEl =\n",
              "        document.querySelector('#df-baa5ab88-f5f2-45d6-8e53-10623dc3e0d5 button.colab-df-convert');\n",
              "      buttonEl.style.display =\n",
              "        google.colab.kernel.accessAllowed ? 'block' : 'none';\n",
              "\n",
              "      async function convertToInteractive(key) {\n",
              "        const element = document.querySelector('#df-baa5ab88-f5f2-45d6-8e53-10623dc3e0d5');\n",
              "        const dataTable =\n",
              "          await google.colab.kernel.invokeFunction('convertToInteractive',\n",
              "                                                    [key], {});\n",
              "        if (!dataTable) return;\n",
              "\n",
              "        const docLinkHtml = 'Like what you see? Visit the ' +\n",
              "          '<a target=\"_blank\" href=https://colab.research.google.com/notebooks/data_table.ipynb>data table notebook</a>'\n",
              "          + ' to learn more about interactive tables.';\n",
              "        element.innerHTML = '';\n",
              "        dataTable['output_type'] = 'display_data';\n",
              "        await google.colab.output.renderOutput(dataTable, element);\n",
              "        const docLink = document.createElement('div');\n",
              "        docLink.innerHTML = docLinkHtml;\n",
              "        element.appendChild(docLink);\n",
              "      }\n",
              "    </script>\n",
              "  </div>\n",
              "\n",
              "\n",
              "<div id=\"df-74524b38-90a5-4240-ac05-a1307831fd14\">\n",
              "  <button class=\"colab-df-quickchart\" onclick=\"quickchart('df-74524b38-90a5-4240-ac05-a1307831fd14')\"\n",
              "            title=\"Suggest charts\"\n",
              "            style=\"display:none;\">\n",
              "\n",
              "<svg xmlns=\"http://www.w3.org/2000/svg\" height=\"24px\"viewBox=\"0 0 24 24\"\n",
              "     width=\"24px\">\n",
              "    <g>\n",
              "        <path d=\"M19 3H5c-1.1 0-2 .9-2 2v14c0 1.1.9 2 2 2h14c1.1 0 2-.9 2-2V5c0-1.1-.9-2-2-2zM9 17H7v-7h2v7zm4 0h-2V7h2v10zm4 0h-2v-4h2v4z\"/>\n",
              "    </g>\n",
              "</svg>\n",
              "  </button>\n",
              "\n",
              "<style>\n",
              "  .colab-df-quickchart {\n",
              "      --bg-color: #E8F0FE;\n",
              "      --fill-color: #1967D2;\n",
              "      --hover-bg-color: #E2EBFA;\n",
              "      --hover-fill-color: #174EA6;\n",
              "      --disabled-fill-color: #AAA;\n",
              "      --disabled-bg-color: #DDD;\n",
              "  }\n",
              "\n",
              "  [theme=dark] .colab-df-quickchart {\n",
              "      --bg-color: #3B4455;\n",
              "      --fill-color: #D2E3FC;\n",
              "      --hover-bg-color: #434B5C;\n",
              "      --hover-fill-color: #FFFFFF;\n",
              "      --disabled-bg-color: #3B4455;\n",
              "      --disabled-fill-color: #666;\n",
              "  }\n",
              "\n",
              "  .colab-df-quickchart {\n",
              "    background-color: var(--bg-color);\n",
              "    border: none;\n",
              "    border-radius: 50%;\n",
              "    cursor: pointer;\n",
              "    display: none;\n",
              "    fill: var(--fill-color);\n",
              "    height: 32px;\n",
              "    padding: 0;\n",
              "    width: 32px;\n",
              "  }\n",
              "\n",
              "  .colab-df-quickchart:hover {\n",
              "    background-color: var(--hover-bg-color);\n",
              "    box-shadow: 0 1px 2px rgba(60, 64, 67, 0.3), 0 1px 3px 1px rgba(60, 64, 67, 0.15);\n",
              "    fill: var(--button-hover-fill-color);\n",
              "  }\n",
              "\n",
              "  .colab-df-quickchart-complete:disabled,\n",
              "  .colab-df-quickchart-complete:disabled:hover {\n",
              "    background-color: var(--disabled-bg-color);\n",
              "    fill: var(--disabled-fill-color);\n",
              "    box-shadow: none;\n",
              "  }\n",
              "\n",
              "  .colab-df-spinner {\n",
              "    border: 2px solid var(--fill-color);\n",
              "    border-color: transparent;\n",
              "    border-bottom-color: var(--fill-color);\n",
              "    animation:\n",
              "      spin 1s steps(1) infinite;\n",
              "  }\n",
              "\n",
              "  @keyframes spin {\n",
              "    0% {\n",
              "      border-color: transparent;\n",
              "      border-bottom-color: var(--fill-color);\n",
              "      border-left-color: var(--fill-color);\n",
              "    }\n",
              "    20% {\n",
              "      border-color: transparent;\n",
              "      border-left-color: var(--fill-color);\n",
              "      border-top-color: var(--fill-color);\n",
              "    }\n",
              "    30% {\n",
              "      border-color: transparent;\n",
              "      border-left-color: var(--fill-color);\n",
              "      border-top-color: var(--fill-color);\n",
              "      border-right-color: var(--fill-color);\n",
              "    }\n",
              "    40% {\n",
              "      border-color: transparent;\n",
              "      border-right-color: var(--fill-color);\n",
              "      border-top-color: var(--fill-color);\n",
              "    }\n",
              "    60% {\n",
              "      border-color: transparent;\n",
              "      border-right-color: var(--fill-color);\n",
              "    }\n",
              "    80% {\n",
              "      border-color: transparent;\n",
              "      border-right-color: var(--fill-color);\n",
              "      border-bottom-color: var(--fill-color);\n",
              "    }\n",
              "    90% {\n",
              "      border-color: transparent;\n",
              "      border-bottom-color: var(--fill-color);\n",
              "    }\n",
              "  }\n",
              "</style>\n",
              "\n",
              "  <script>\n",
              "    async function quickchart(key) {\n",
              "      const quickchartButtonEl =\n",
              "        document.querySelector('#' + key + ' button');\n",
              "      quickchartButtonEl.disabled = true;  // To prevent multiple clicks.\n",
              "      quickchartButtonEl.classList.add('colab-df-spinner');\n",
              "      try {\n",
              "        const charts = await google.colab.kernel.invokeFunction(\n",
              "            'suggestCharts', [key], {});\n",
              "      } catch (error) {\n",
              "        console.error('Error during call to suggestCharts:', error);\n",
              "      }\n",
              "      quickchartButtonEl.classList.remove('colab-df-spinner');\n",
              "      quickchartButtonEl.classList.add('colab-df-quickchart-complete');\n",
              "    }\n",
              "    (() => {\n",
              "      let quickchartButtonEl =\n",
              "        document.querySelector('#df-74524b38-90a5-4240-ac05-a1307831fd14 button');\n",
              "      quickchartButtonEl.style.display =\n",
              "        google.colab.kernel.accessAllowed ? 'block' : 'none';\n",
              "    })();\n",
              "  </script>\n",
              "</div>\n",
              "    </div>\n",
              "  </div>\n"
            ],
            "text/plain": [
              "     id           make             model  year    price          created_at  \\\n",
              "0     1          Mazda              MX-5  2008   2869.0 2022-02-01 17:02:19   \n",
              "1     2  Mercedes-Benz           C-Class  2009  42397.0 2021-01-25 14:31:33   \n",
              "2     3          Honda  Accord Crosstour  2011  63293.0 2021-02-11 05:36:03   \n",
              "3     4            GMC             Jimmy  1998  34079.0 2022-01-24 03:00:03   \n",
              "4     5       Infiniti                FX  2004  17036.0 2021-10-02 03:55:44   \n",
              "..  ...            ...               ...   ...      ...                 ...   \n",
              "95   96            BMW               330  2006  14494.0 2021-09-17 20:52:48   \n",
              "96   97           Audi                R8  2008  17642.0 2021-09-21 11:56:24   \n",
              "97   98       Cadillac             CTS-V  2007  19914.0 2021-09-02 15:38:46   \n",
              "98   99            GMC   1500 Club Coupe  1997  82288.0 2021-04-20 18:58:15   \n",
              "99  100          Buick          Somerset  1986  64148.0 2021-06-10 19:07:38   \n",
              "\n",
              "            updated_at  \n",
              "0  2024-02-12 20:10:42  \n",
              "1  2024-02-12 20:10:42  \n",
              "2  2024-02-12 20:10:42  \n",
              "3  2024-02-12 20:10:42  \n",
              "4  2024-02-12 20:10:42  \n",
              "..                 ...  \n",
              "95 2024-02-12 20:10:42  \n",
              "96 2024-02-12 20:10:42  \n",
              "97 2024-02-12 20:10:42  \n",
              "98 2024-02-12 20:10:42  \n",
              "99 2024-02-12 20:10:42  \n",
              "\n",
              "[100 rows x 7 columns]"
            ]
          },
          "metadata": {},
          "output_type": "display_data"
        }
      ],
      "source": [
        "# Display or transform the loaded data\n",
        "products_df = read_result[\"products\"].to_pandas()\n",
        "display(products_df)"
      ]
    },
    {
      "cell_type": "markdown",
      "metadata": {
        "id": "VJgl59hBF1rJ"
      },
      "source": [
        "## Creating graphs\n",
        "\n",
        "PyAirbyte integrates with Pandas, which integrates with `matplotlib` as well as many other popular libraries. We can use this as a means of quickly creating graphs.\n"
      ]
    },
    {
      "cell_type": "code",
      "execution_count": 8,
      "metadata": {
        "colab": {
          "base_uri": "https://localhost:8080/",
          "height": 718
        },
        "id": "XcQcBlYjF3oO",
        "outputId": "b8b2ae5f-605d-485a-a3c7-8bf72fd826a9"
      },
      "outputs": [
        {
          "name": "stdout",
          "output_type": "stream",
          "text": [
            "Requirement already satisfied: matplotlib in /usr/local/lib/python3.10/dist-packages (3.7.1)\n",
            "Requirement already satisfied: contourpy>=1.0.1 in /usr/local/lib/python3.10/dist-packages (from matplotlib) (1.2.0)\n",
            "Requirement already satisfied: cycler>=0.10 in /usr/local/lib/python3.10/dist-packages (from matplotlib) (0.12.1)\n",
            "Requirement already satisfied: fonttools>=4.22.0 in /usr/local/lib/python3.10/dist-packages (from matplotlib) (4.48.1)\n",
            "Requirement already satisfied: kiwisolver>=1.0.1 in /usr/local/lib/python3.10/dist-packages (from matplotlib) (1.4.5)\n",
            "Requirement already satisfied: numpy>=1.20 in /usr/local/lib/python3.10/dist-packages (from matplotlib) (1.23.5)\n",
            "Requirement already satisfied: packaging>=20.0 in /usr/local/lib/python3.10/dist-packages (from matplotlib) (23.2)\n",
            "Requirement already satisfied: pillow>=6.2.0 in /usr/local/lib/python3.10/dist-packages (from matplotlib) (9.4.0)\n",
            "Requirement already satisfied: pyparsing>=2.3.1 in /usr/local/lib/python3.10/dist-packages (from matplotlib) (3.1.1)\n",
            "Requirement already satisfied: python-dateutil>=2.7 in /usr/local/lib/python3.10/dist-packages (from matplotlib) (2.8.2)\n",
            "Requirement already satisfied: six>=1.5 in /usr/local/lib/python3.10/dist-packages (from python-dateutil>=2.7->matplotlib) (1.16.0)\n"
          ]
        },
        {
          "name": "stderr",
          "output_type": "stream",
          "text": [
            "/usr/local/lib/python3.10/dist-packages/duckdb_engine/__init__.py:178: DuckDBEngineWarning: duckdb-engine doesn't yet support reflection on indices\n",
            "  warnings.warn(\n"
          ]
        },
        {
          "data": {
            "image/png": "[encoded data removed]",
            "text/plain": [
              "<Figure size 640x480 with 1 Axes>"
            ]
          },
          "metadata": {},
          "output_type": "display_data"
        }
      ],
      "source": [
        "%pip install matplotlib\n",
        "\n",
        "import matplotlib.pyplot as plt\n",
        "\n",
        "users_df = read_result[\"users\"].to_pandas()\n",
        "\n",
        "plt.hist(users_df[\"age\"], bins=10, edgecolor=\"black\")\n",
        "plt.title(\"Histogram of Ages\")\n",
        "plt.xlabel(\"Ages\")\n",
        "plt.ylabel(\"Frequency\")\n",
        "plt.show()"
      ]
    },
    {
      "cell_type": "markdown",
      "metadata": {
        "id": "wSru-wGpHZrh"
      },
      "source": [
        "## Working in SQL\n",
        "\n",
        "Since data is cached in a local DuckDB database, we can query the data with SQL.\n",
        "\n",
        "We can do this in multiple ways. One way is to use the [JupySQL Extension](https://jupysql.ploomber.io/en/latest/user-guide/template.html), which we'll use below.\n"
      ]
    },
    {
      "cell_type": "code",
      "execution_count": 9,
      "metadata": {
        "colab": {
          "base_uri": "https://localhost:8080/"
        },
        "id": "xdotIOg70nuL",
        "outputId": "b4ca91ec-0b36-42fd-d19e-16b8d1f7ae45"
      },
      "outputs": [
        {
          "name": "stdout",
          "output_type": "stream",
          "text": [
            "\u001b[?25l     \u001b[90m━━━━━━━━━━━━━━━━━━━━━━━━━━━━━━━━━━━━━━━━\u001b[0m \u001b[32m0.0/95.7 kB\u001b[0m \u001b[31m?\u001b[0m eta \u001b[36m-:--:--\u001b[0m\r\u001b[2K     \u001b[91m━━━━━━━━━━━━━━━━━━━━━━━━━━━━━━━━━━━━━━\u001b[0m\u001b[91m╸\u001b[0m\u001b[90m━\u001b[0m \u001b[32m92.2/95.7 kB\u001b[0m \u001b[31m2.9 MB/s\u001b[0m eta \u001b[36m0:00:01\u001b[0m\r\u001b[2K     \u001b[90m━━━━━━━━━━━━━━━━━━━━━━━━━━━━━━━━━━━━━━━━\u001b[0m \u001b[32m95.7/95.7 kB\u001b[0m \u001b[31m2.3 MB/s\u001b[0m eta \u001b[36m0:00:00\u001b[0m\n",
            "\u001b[2K     \u001b[90m━━━━━━━━━━━━━━━━━━━━━━━━━━━━━━━━━━━━━━━━\u001b[0m \u001b[32m250.9/250.9 kB\u001b[0m \u001b[31m13.9 MB/s\u001b[0m eta \u001b[36m0:00:00\u001b[0m\n",
            "\u001b[2K     \u001b[90m━━━━━━━━━━━━━━━━━━━━━━━━━━━━━━━━━━━━━━━━\u001b[0m \u001b[32m193.0/193.0 kB\u001b[0m \u001b[31m20.5 MB/s\u001b[0m eta \u001b[36m0:00:00\u001b[0m\n",
            "\u001b[2K     \u001b[90m━━━━━━━━━━━━━━━━━━━━━━━━━━━━━━━━━━━━━━━━\u001b[0m \u001b[32m41.1/41.1 kB\u001b[0m \u001b[31m5.2 MB/s\u001b[0m eta \u001b[36m0:00:00\u001b[0m\n",
            "\u001b[?25hDeploy Panel apps for free on Ploomber Cloud! Learn more: https://ploomber.io/s/signup\n"
          ]
        }
      ],
      "source": [
        "# Install JupySQL to enable SQL cell magics\n",
        "%pip install --quiet jupysql\n",
        "# Load JupySQL extension\n",
        "%load_ext sql\n",
        "# Configure max row limit (optional)\n",
        "%config SqlMagic.displaylimit = 200"
      ]
    },
    {
      "cell_type": "code",
      "execution_count": 10,
      "metadata": {
        "id": "2tA6L1dHZ2w0"
      },
      "outputs": [],
      "source": [
        "# Get the SQLAlchemy 'engine' object for the cache\n",
        "engine = read_result.cache.get_sql_engine()\n",
        "# Pass the engine to JupySQL\n",
        "%sql engine"
      ]
    },
    {
      "cell_type": "code",
      "execution_count": 14,
      "metadata": {
        "colab": {
          "base_uri": "https://localhost:8080/",
          "height": 34
        },
        "id": "0eaYnErPaFsH",
        "outputId": "3c017bfc-adf3-40bc-81af-e6b1478d229f"
      },
      "outputs": [
        {
          "data": {
            "text/plain": [
              "['main.users', 'main.purchases']"
            ]
          },
          "metadata": {},
          "output_type": "display_data"
        }
      ],
      "source": [
        "# Get table objects for the 'users' and 'purchases' streams\n",
        "users_table = read_result.cache[\"users\"].to_sql_table()\n",
        "purchases_table = read_result.cache[\"purchases\"].to_sql_table()\n",
        "display([users_table.fullname, purchases_table.fullname])"
      ]
    },
    {
      "cell_type": "code",
      "execution_count": 18,
      "metadata": {
        "colab": {
          "base_uri": "https://localhost:8080/",
          "height": 271
        },
        "id": "VjeTOtKHHiA5",
        "outputId": "a4bef98d-0572-4535-9b63-a37dba00723d"
      },
      "outputs": [
        {
          "data": {
            "text/html": [
              "<span style=\"None\">Running query in &#x27;duckdb:///.cache/default_cache_db.duckdb&#x27;</span>"
            ],
            "text/plain": [
              "Running query in 'duckdb:///.cache/default_cache_db.duckdb'"
            ]
          },
          "metadata": {},
          "output_type": "display_data"
        },
        {
          "data": {
            "text/html": [
              "<table>\n",
              "    <thead>\n",
              "        <tr>\n",
              "            <th>id</th>\n",
              "            <th>name</th>\n",
              "            <th>product_id</th>\n",
              "            <th>purchased_at</th>\n",
              "        </tr>\n",
              "    </thead>\n",
              "    <tbody>\n",
              "        <tr>\n",
              "            <td>21589</td>\n",
              "            <td>Torie</td>\n",
              "            <td>48</td>\n",
              "            <td>2024-12-10 20:32:08</td>\n",
              "        </tr>\n",
              "        <tr>\n",
              "            <td>39842</td>\n",
              "            <td>Kareen</td>\n",
              "            <td>45</td>\n",
              "            <td>2024-11-28 11:26:13</td>\n",
              "        </tr>\n",
              "        <tr>\n",
              "            <td>19248</td>\n",
              "            <td>Jerry</td>\n",
              "            <td>41</td>\n",
              "            <td>2024-11-05 00:59:42</td>\n",
              "        </tr>\n",
              "        <tr>\n",
              "            <td>30780</td>\n",
              "            <td>Dwana</td>\n",
              "            <td>82</td>\n",
              "            <td>2024-10-20 20:09:11</td>\n",
              "        </tr>\n",
              "        <tr>\n",
              "            <td>4669</td>\n",
              "            <td>Frankie</td>\n",
              "            <td>100</td>\n",
              "            <td>2024-10-15 16:23:02</td>\n",
              "        </tr>\n",
              "        <tr>\n",
              "            <td>42204</td>\n",
              "            <td>Lashaun</td>\n",
              "            <td>9</td>\n",
              "            <td>2024-10-06 08:06:59</td>\n",
              "        </tr>\n",
              "        <tr>\n",
              "            <td>13251</td>\n",
              "            <td>Charlie</td>\n",
              "            <td>46</td>\n",
              "            <td>2024-09-19 17:55:52</td>\n",
              "        </tr>\n",
              "        <tr>\n",
              "            <td>47798</td>\n",
              "            <td>Issac</td>\n",
              "            <td>40</td>\n",
              "            <td>2024-09-13 05:13:17</td>\n",
              "        </tr>\n",
              "        <tr>\n",
              "            <td>34970</td>\n",
              "            <td>Eleni</td>\n",
              "            <td>39</td>\n",
              "            <td>2024-09-13 00:15:55</td>\n",
              "        </tr>\n",
              "        <tr>\n",
              "            <td>24782</td>\n",
              "            <td>Jose</td>\n",
              "            <td>40</td>\n",
              "            <td>2024-09-08 09:49:06</td>\n",
              "        </tr>\n",
              "    </tbody>\n",
              "</table>"
            ],
            "text/plain": [
              "+-------+---------+------------+---------------------+\n",
              "|   id  |   name  | product_id |     purchased_at    |\n",
              "+-------+---------+------------+---------------------+\n",
              "| 21589 |  Torie  |     48     | 2024-12-10 20:32:08 |\n",
              "| 39842 |  Kareen |     45     | 2024-11-28 11:26:13 |\n",
              "| 19248 |  Jerry  |     41     | 2024-11-05 00:59:42 |\n",
              "| 30780 |  Dwana  |     82     | 2024-10-20 20:09:11 |\n",
              "|  4669 | Frankie |    100     | 2024-10-15 16:23:02 |\n",
              "| 42204 | Lashaun |     9      | 2024-10-06 08:06:59 |\n",
              "| 13251 | Charlie |     46     | 2024-09-19 17:55:52 |\n",
              "| 47798 |  Issac  |     40     | 2024-09-13 05:13:17 |\n",
              "| 34970 |  Eleni  |     39     | 2024-09-13 00:15:55 |\n",
              "| 24782 |   Jose  |     40     | 2024-09-08 09:49:06 |\n",
              "+-------+---------+------------+---------------------+"
            ]
          },
          "execution_count": 18,
          "metadata": {},
          "output_type": "execute_result"
        }
      ],
      "source": [
        "%%sql\n",
        "# Show most recent purchases by purchase date:\n",
        "SELECT users.id, users.name, purchases.product_id, purchases.purchased_at\n",
        "FROM {{ users_table.fullname }} AS users\n",
        "JOIN {{ purchases_table.fullname }} AS purchases\n",
        "ON users.id = purchases.user_id\n",
        "ORDER BY purchases.purchased_at DESC\n",
        "LIMIT 10"
      ]
    },
    {
      "cell_type": "code",
      "execution_count": 19,
      "metadata": {
        "colab": {
          "base_uri": "https://localhost:8080/",
          "height": 147
        },
        "id": "nSTpNpRHhk7F",
        "outputId": "a906b74d-9c4a-449e-fef5-08a0c5b8bf08"
      },
      "outputs": [
        {
          "data": {
            "text/html": [
              "<table>\n",
              "    <thead>\n",
              "        <tr>\n",
              "            <th>Name</th>\n",
              "        </tr>\n",
              "    </thead>\n",
              "    <tbody>\n",
              "        <tr>\n",
              "            <td>products</td>\n",
              "        </tr>\n",
              "        <tr>\n",
              "            <td>purchases</td>\n",
              "        </tr>\n",
              "        <tr>\n",
              "            <td>users</td>\n",
              "        </tr>\n",
              "        <tr>\n",
              "            <td>_PyAirbyte_state</td>\n",
              "        </tr>\n",
              "        <tr>\n",
              "            <td>_PyAirbyte_streams</td>\n",
              "        </tr>\n",
              "    </tbody>\n",
              "</table>"
            ],
            "text/plain": [
              "+---------------------+\n",
              "|         Name        |\n",
              "+---------------------+\n",
              "|       products      |\n",
              "|      purchases      |\n",
              "|        users        |\n",
              "|  _PyAirbyte_state  |\n",
              "| _PyAirbyte_streams |\n",
              "+---------------------+"
            ]
          },
          "execution_count": 19,
          "metadata": {},
          "output_type": "execute_result"
        }
      ],
      "source": [
        "# Show tables for the other streams\n",
        "%sqlcmd tables"
      ]
    }
  ],
  "metadata": {
    "colab": {
      "include_colab_link": true,
      "provenance": []
    },
    "kernelspec": {
      "display_name": "Python 3",
      "name": "python3"
    },
    "language_info": {
      "codemirror_mode": {
        "name": "ipython",
        "version": 3
      },
      "file_extension": ".py",
      "mimetype": "text/x-python",
      "name": "python",
      "nbconvert_exporter": "python",
      "pygments_lexer": "ipython3",
      "version": "3.9.6"
    }
  },
  "nbformat": 4,
  "nbformat_minor": 0
}
