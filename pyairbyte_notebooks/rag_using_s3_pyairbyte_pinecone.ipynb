{
  "cells": [
    {
      "cell_type": "markdown",
      "metadata": {
        "id": "3s3Jow7_BjQi"
      },
      "source": [
        "# End-to-End RAG Tutorial Using S3, PyAirbyte, Pinecone, and LangChain\n",
        "\n",
        "This notebook demonstrates an end-to-end Retrieval-Augmented Generation (RAG) pipeline. We will extract data from an S3 bucket using PyAirbyte, store it in a Pinecone vector store, and then use LangChain to perform RAG on the stored data. This workflow showcases how to integrate these tools to build a scalable RAG system.\n",
        "\n",
        "## Prerequisites\n",
        "\n",
        "1. **AWS S3 Bucket**:\n",
        "   - Follow the instructions in the [AWS S3 Source Connector Documentation](https://docs.airbyte.com/integrations/sources/s3) to set up your S3 bucket and obtain the necessary access keys.\n",
        "\n",
        "2. **Pinecone Account**:\n",
        "   - **Create a Pinecone Account**: Sign up for an account on the [Pinecone website](https://www.pinecone.io/).\n",
        "   - **Obtain Pinecone API Key**: Generate a new API key from your Pinecone project settings. For detailed instructions, refer to the [Pinecone documentation](https://docs.pinecone.io/docs/quickstart).\n",
        "\n",
        "3. **OpenAI API Key**:\n",
        "   - **Create an OpenAI Account**: Sign up for an account on [OpenAI](https://platform.openai.com/docs/overview).\n",
        "   - **Generate an API Key**: Go to the API section and generate a new API key. For detailed instructions, refer to the [OpenAI documentation](https://platform.openai.com/api-keys).\n",
        "\n",
        "\n",
        "## Install PyAirbyte and other dependencies"
      ]
    },
    {
      "cell_type": "code",
      "execution_count": null,
      "metadata": {
        "id": "ij3THvimBjQk"
      },
      "outputs": [],
      "source": [
        "# Add virtual environment support in Google Colab\n",
        "!apt-get install -qq python3.10-venv\n",
        "\n",
        "# First, we need to install the necessary libraries.\n",
        "!pip3 install airbyte openai langchain pinecone-client langchain-openai langchain-pinecone python-dotenv langchainhub"
      ]
    },
    {
      "cell_type": "markdown",
      "metadata": {
        "id": "8jDsEZdiBjQl"
      },
      "source": [
        "## Setup Source S3 with PyAirbyte\n",
        "\n",
        "The provided code configures an Airbyte source to extract data from an Amazon S3 bucket containing CSV files.\n",
        "\n",
        "To configure according to your requirements, you can refer to [this references](https://docs.airbyte.com/integrations/sources/s3#reference).\n",
        "\n",
        "Note: The credentials are retrieved securely using the get_secret() method. This will automatically locate a matching Google Colab secret or environment variable, ensuring they are not hard-coded into the notebook. Make sure to add your key to the Secrets section on the left.\n"
      ]
    },
    {
      "cell_type": "code",
      "execution_count": null,
      "metadata": {
        "id": "U7DxyLVUBjQl"
      },
      "outputs": [],
      "source": [
        "import airbyte as ab\n",
        "\n",
        "source = ab.get_source(\n",
        "    \"source-s3\",\n",
        "    config={\n",
        "        \"streams\": [\n",
        "            {\n",
        "                \"name\": \"\",\n",
        "                \"format\": {\n",
        "                    \"filetype\": \"csv\",\n",
        "                    \"ignore_errors_on_fields_mismatch\": True,\n",
        "                },\n",
        "                \"globs\": [\"**\"],\n",
        "                \"legacy_prefix\": \"\",\n",
        "                \"validation_policy\": \"Emit Record\",\n",
        "            }\n",
        "        ],\n",
        "        \"bucket\": ab.get_secret(\"S3_BUCKET_NAME\"),\n",
        "        \"aws_access_key_id\": ab.get_secret(\"AWS_ACCESS_KEY\"),\n",
        "        \"aws_secret_access_key\": ab.get_secret(\"AWS_SECRET_KEY\"),\n",
        "        \"region_name\": ab.get_secret(\"AWS_REGION\")\n",
        "    }\n",
        ")\n",
        "source.check()"
      ]
    },
    {
      "cell_type": "markdown",
      "metadata": {
        "id": "rtSCjGcQBjQl"
      },
      "source": [
        "This is a basic process of fetching data from an S3 bucket using Airbyte and converting it into a format suitable for further processing or analysis."
      ]
    },
    {
      "cell_type": "code",
      "execution_count": null,
      "metadata": {
        "id": "mlg7K8GUBjQm"
      },
      "outputs": [],
      "source": [
        "source.select_all_streams() # Select all streams\n",
        "read_result = source.read() # Read the data\n",
        "documents_list = [doc for value in read_result.values() for doc in value.to_documents()]\n",
        "\n",
        "print(str(documents_list[10]))"
      ]
    },
    {
      "cell_type": "markdown",
      "metadata": {
        "id": "L6KM7KPMBjQm"
      },
      "source": [
        "# Use Langchain to build a RAG pipeline.\n",
        "\n",
        "The code uses RecursiveCharacterTextSplitter to break documents into smaller chunks. Metadata within these chunks is converted to strings. This facilitates efficient processing of large texts, enhancing analysis capabilities."
      ]
    },
    {
      "cell_type": "code",
      "execution_count": null,
      "metadata": {
        "id": "LXvSJoUSBjQm"
      },
      "outputs": [],
      "source": [
        "\n",
        "from langchain.text_splitter import RecursiveCharacterTextSplitter\n",
        "\n",
        "splitter = RecursiveCharacterTextSplitter(chunk_size=512, chunk_overlap=50)\n",
        "chunked_docs = splitter.split_documents(documents_list)\n",
        "print(f\"Created {len(chunked_docs)} document chunks.\")\n",
        "\n",
        "for doc in chunked_docs:\n",
        "    for md in doc.metadata:\n",
        "        doc.metadata[md] = str(doc.metadata[md])"
      ]
    },
    {
      "cell_type": "code",
      "execution_count": null,
      "metadata": {
        "id": "kCF7gZTMBjQm"
      },
      "outputs": [],
      "source": [
        "from langchain_openai import OpenAIEmbeddings\n",
        "import os\n",
        "\n",
        "os.environ['OPENAI_API_KEY'] = ab.get_secret(\"OPENAI_API_KEY\")\n",
        "## Embedding Technique Of OPENAI\n",
        "embeddings=OpenAIEmbeddings()"
      ]
    },
    {
      "cell_type": "markdown",
      "metadata": {
        "id": "5TKCIAhYBjQm"
      },
      "source": [
        "## Setting up Pinecone\n",
        "\n",
        "Pinecone is a managed vector database service designed for storing, indexing, and querying high-dimensional vector data efficiently."
      ]
    },
    {
      "cell_type": "code",
      "execution_count": null,
      "metadata": {
        "id": "iXb5YPnhBjQn"
      },
      "outputs": [],
      "source": [
        "from pinecone import Pinecone, ServerlessSpec\n",
        "from pinecone import Pinecone\n",
        "\n",
        "os.environ['PINECONE_API_KEY'] = ab.get_secret(\"PINECONE_API_KEY\")\n",
        "pc = Pinecone()\n",
        "index_name = \"s3-quickstarts-index\" # Replace with your index name\n",
        "\n",
        "\n",
        "# Uncomment this if you have not created a Pinecone index yet\n",
        "\n",
        "# spec = ServerlessSpec(cloud=\"aws\", region=\"us-east-1\") // Replace with your cloud and region\n",
        "# pc.create_index(\n",
        "#         \"quickstarts\",\n",
        "#         dimension=1536, // Replace with your model dimensions\n",
        "#         metric='cosine', // Replace with your model metric\n",
        "#         spec=spec\n",
        "# )\n",
        "\n",
        "index = pc.Index(index_name)\n",
        "\n",
        "index.describe_index_stats()"
      ]
    },
    {
      "cell_type": "markdown",
      "metadata": {
        "id": "6kRv6s7zBjQn"
      },
      "source": [
        "PineconeVectorStore is a class provided by the LangChain library specifically designed for interacting with Pinecone vector stores.\n",
        "from_documents method of PineconeVectorStore is used to create or update vectors in a Pinecone vector store based on the provided documents and their corresponding embeddings."
      ]
    },
    {
      "cell_type": "code",
      "execution_count": null,
      "metadata": {
        "id": "3hToKOPsBjQn"
      },
      "outputs": [],
      "source": [
        "from langchain_pinecone import PineconeVectorStore\n",
        "\n",
        "pinecone = PineconeVectorStore.from_documents(\n",
        "    chunked_docs, embeddings, index_name=index_name\n",
        ")"
      ]
    },
    {
      "cell_type": "markdown",
      "metadata": {
        "id": "vj0hSWo2BjQn"
      },
      "source": [
        "Now setting up a pipeline for RAG using LangChain, incorporating document retrieval from Pinecone, prompt configuration, and a chat model from OpenAI for response generation."
      ]
    },
    {
      "cell_type": "code",
      "execution_count": null,
      "metadata": {
        "id": "N0gE_LbmBjQn"
      },
      "outputs": [],
      "source": [
        "from langchain_openai import ChatOpenAI\n",
        "from langchain import hub\n",
        "from langchain_core.output_parsers import StrOutputParser\n",
        "from langchain_core.runnables import RunnablePassthrough\n",
        "\n",
        "retriever = pinecone.as_retriever()\n",
        "prompt = hub.pull(\"rlm/rag-prompt\")\n",
        "llm = ChatOpenAI(model_name=\"gpt-3.5-turbo\", temperature=0)\n",
        "\n",
        "\n",
        "def format_docs(docs):\n",
        "    return \"\\n\\n\".join(doc.page_content for doc in docs)\n",
        "\n",
        "rag_chain = (\n",
        "    {\"context\": retriever | format_docs, \"question\": RunnablePassthrough()}\n",
        "    | prompt\n",
        "    | llm\n",
        "    | StrOutputParser()\n",
        ")\n",
        "print(\"Langchain RAG pipeline set up successfully.\")\n"
      ]
    },
    {
      "cell_type": "code",
      "execution_count": null,
      "metadata": {
        "id": "axbwi9j8BjQn"
      },
      "outputs": [],
      "source": [
        "print(rag_chain.invoke(\"What are some best documentaries to watch?\"))\n"
      ]
    }
  ],
  "metadata": {
    "colab": {
      "provenance": []
    },
    "kernelspec": {
      "display_name": "myenv",
      "language": "python",
      "name": "python3"
    },
    "language_info": {
      "codemirror_mode": {
        "name": "ipython",
        "version": 3
      },
      "file_extension": ".py",
      "mimetype": "text/x-python",
      "name": "python",
      "nbconvert_exporter": "python",
      "pygments_lexer": "ipython3",
      "version": "3.10.11"
    }
  },
  "nbformat": 4,
  "nbformat_minor": 0
}
