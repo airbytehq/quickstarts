{
  "nbformat": 4,
  "nbformat_minor": 0,
  "metadata": {
    "colab": {
      "provenance": []
    },
    "kernelspec": {
      "name": "python3",
      "display_name": "Python 3"
    },
    "language_info": {
      "name": "python"
    }
  },
  "cells": [
    {
      "cell_type": "markdown",
      "source": [
        "## Install PyAirbyte and other dependencies"
      ],
      "metadata": {
        "id": "YKwX9XL1aHrY"
      }
    },
    {
      "cell_type": "code",
      "source": [
        "!pip3 install airbyte langchain_openai langchain-experimental\n"
      ],
      "metadata": {
        "id": "9j9kjtEFaKxW"
      },
      "execution_count": null,
      "outputs": []
    },
    {
      "cell_type": "markdown",
      "source": [
        "## Polygon Airbyte Datasource"
      ],
      "metadata": {
        "id": "Q--tVuoMsGU5"
      }
    },
    {
      "cell_type": "code",
      "source": [
        "import airbyte as ab\n",
        "\n",
        "source = ab.get_source(\n",
        "    \"source-polygon-stock-api\",\n",
        "    install_if_missing=True,\n",
        "    config={\n",
        "      \"apiKey\": ab.get_secret(\"POLYGON_API_KEY\"),\n",
        "      \"stocksTicker\": \"AAPL\" ,\n",
        "      \"multiplier\": 1,\n",
        "      \"timespan\": \"day\",\n",
        "      \"start_date\": \"2023-01-01\",\n",
        "      \"end_date\": \"2023-12-31\",\n",
        "      \"adjusted\": \"true\"\n",
        "      },\n",
        "\n",
        ")\n",
        "\n",
        "# Verify the config and creds by running `check`:\n",
        "source.check()"
      ],
      "metadata": {
        "colab": {
          "base_uri": "https://localhost:8080/",
          "height": 34
        },
        "id": "6e5bD7A8cBEx",
        "outputId": "c7a57019-7623-401f-b529-aaa16a69a762"
      },
      "execution_count": null,
      "outputs": [
        {
          "output_type": "display_data",
          "data": {
            "text/plain": [
              "Connection check succeeded for `source-polygon-stock-api`.\n"
            ],
            "text/html": [
              "<pre style=\"white-space:pre;overflow-x:auto;line-height:normal;font-family:Menlo,'DejaVu Sans Mono',consolas,'Courier New',monospace\">Connection check succeeded for `source-polygon-stock-api`.\n",
              "</pre>\n"
            ]
          },
          "metadata": {}
        }
      ]
    },
    {
      "cell_type": "code",
      "source": [
        "source.select_streams(['stock_api']) # Select only issues stream\n",
        "read_result: ab.ReadResult = source.read()"
      ],
      "metadata": {
        "id": "EbFErEv8kgzw",
        "colab": {
          "base_uri": "https://localhost:8080/",
          "height": 303
        },
        "outputId": "54d919d4-c155-4dd3-b0c1-19bbb26e56f5"
      },
      "execution_count": null,
      "outputs": [
        {
          "output_type": "display_data",
          "data": {
            "text/plain": [
              "<IPython.core.display.Markdown object>"
            ],
            "text/markdown": "## Read Progress\n\nStarted reading at 17:27:59.\n\nRead **120** records over **3 seconds** (40.0 records / second).\n\nWrote **120** records over 1 batches.\n\nFinished reading at 17:28:03.\n\nStarted finalizing streams at 17:28:03.\n\nFinalized **1** batches over 1 seconds.\n\nCompleted 1 out of 1 streams:\n\n  - stock_api\n\n\nCompleted writing at 17:28:05. Total time elapsed: 5 seconds\n\n\n------------------------------------------------\n"
          },
          "metadata": {}
        },
        {
          "output_type": "display_data",
          "data": {
            "text/plain": [
              "Completed `source-polygon-stock-api` read operation at \u001b[1;92m17:28:05\u001b[0m.\n"
            ],
            "text/html": [
              "<pre style=\"white-space:pre;overflow-x:auto;line-height:normal;font-family:Menlo,'DejaVu Sans Mono',consolas,'Courier New',monospace\">Completed `source-polygon-stock-api` read operation at <span style=\"color: #00ff00; text-decoration-color: #00ff00; font-weight: bold\">17:28:05</span>.\n",
              "</pre>\n"
            ]
          },
          "metadata": {}
        }
      ]
    },
    {
      "cell_type": "code",
      "source": [
        "stock_data = read_result[\"stock_api\"].to_pandas()\n",
        "stock_data = stock_data.rename(columns={\n",
        "    'c': 'Close',\n",
        "    'h': 'High',\n",
        "    'l': 'Low',\n",
        "    'o': 'Open',\n",
        "    't': 'Timestamp',\n",
        "    'v': 'Volume',\n",
        "    'vw': 'VWAP',\n",
        "\n",
        "})\n",
        "\n",
        "stock_data = stock_data[['Close', 'High', 'Low', 'Open', 'Timestamp', 'Volume', 'VWAP']]\n",
        "\n",
        "\n",
        "display(stock_data)"
      ],
      "metadata": {
        "id": "SyFFmXBjkzcS",
        "colab": {
          "base_uri": "https://localhost:8080/",
          "height": 424
        },
        "outputId": "c14c5248-8786-415d-ccec-1a0bbc4c74d2"
      },
      "execution_count": null,
      "outputs": [
        {
          "output_type": "display_data",
          "data": {
            "text/plain": [
              "      Close      High       Low     Open      Timestamp       Volume      VWAP\n",
              "0    125.07  130.9000  124.1700  130.280  1672722000000  112117471.0  125.7250\n",
              "1    126.36  128.6557  125.0800  126.890  1672808400000   89100633.0  126.6464\n",
              "2    125.02  127.7700  124.7600  127.130  1672894800000   80716808.0  126.0883\n",
              "3    129.62  130.2900  124.8900  126.010  1672981200000   87754715.0  128.1982\n",
              "4    130.15  133.4100  129.8900  130.465  1673240400000   70790813.0  131.6292\n",
              "..      ...       ...       ...      ...            ...          ...       ...\n",
              "115  185.01  186.1000  184.4100  184.410  1687233600000   49799092.0  185.2709\n",
              "116  183.96  185.4100  182.5901  184.900  1687320000000   49515697.0  184.0809\n",
              "117  187.00  187.0450  183.6700  183.740  1687406400000   51245327.0  186.1166\n",
              "118  186.68  187.5600  185.0100  185.550  1687492800000   53112346.0  186.4952\n",
              "119  185.27  188.0500  185.2300  186.830  1687752000000   48088661.0  186.3292\n",
              "\n",
              "[120 rows x 7 columns]"
            ],
            "text/html": [
              "\n",
              "  <div id=\"df-8092a3a9-634b-4a84-8734-509bd4ffa3a2\" class=\"colab-df-container\">\n",
              "    <div>\n",
              "<style scoped>\n",
              "    .dataframe tbody tr th:only-of-type {\n",
              "        vertical-align: middle;\n",
              "    }\n",
              "\n",
              "    .dataframe tbody tr th {\n",
              "        vertical-align: top;\n",
              "    }\n",
              "\n",
              "    .dataframe thead th {\n",
              "        text-align: right;\n",
              "    }\n",
              "</style>\n",
              "<table border=\"1\" class=\"dataframe\">\n",
              "  <thead>\n",
              "    <tr style=\"text-align: right;\">\n",
              "      <th></th>\n",
              "      <th>Close</th>\n",
              "      <th>High</th>\n",
              "      <th>Low</th>\n",
              "      <th>Open</th>\n",
              "      <th>Timestamp</th>\n",
              "      <th>Volume</th>\n",
              "      <th>VWAP</th>\n",
              "    </tr>\n",
              "  </thead>\n",
              "  <tbody>\n",
              "    <tr>\n",
              "      <th>0</th>\n",
              "      <td>125.07</td>\n",
              "      <td>130.9000</td>\n",
              "      <td>124.1700</td>\n",
              "      <td>130.280</td>\n",
              "      <td>1672722000000</td>\n",
              "      <td>112117471.0</td>\n",
              "      <td>125.7250</td>\n",
              "    </tr>\n",
              "    <tr>\n",
              "      <th>1</th>\n",
              "      <td>126.36</td>\n",
              "      <td>128.6557</td>\n",
              "      <td>125.0800</td>\n",
              "      <td>126.890</td>\n",
              "      <td>1672808400000</td>\n",
              "      <td>89100633.0</td>\n",
              "      <td>126.6464</td>\n",
              "    </tr>\n",
              "    <tr>\n",
              "      <th>2</th>\n",
              "      <td>125.02</td>\n",
              "      <td>127.7700</td>\n",
              "      <td>124.7600</td>\n",
              "      <td>127.130</td>\n",
              "      <td>1672894800000</td>\n",
              "      <td>80716808.0</td>\n",
              "      <td>126.0883</td>\n",
              "    </tr>\n",
              "    <tr>\n",
              "      <th>3</th>\n",
              "      <td>129.62</td>\n",
              "      <td>130.2900</td>\n",
              "      <td>124.8900</td>\n",
              "      <td>126.010</td>\n",
              "      <td>1672981200000</td>\n",
              "      <td>87754715.0</td>\n",
              "      <td>128.1982</td>\n",
              "    </tr>\n",
              "    <tr>\n",
              "      <th>4</th>\n",
              "      <td>130.15</td>\n",
              "      <td>133.4100</td>\n",
              "      <td>129.8900</td>\n",
              "      <td>130.465</td>\n",
              "      <td>1673240400000</td>\n",
              "      <td>70790813.0</td>\n",
              "      <td>131.6292</td>\n",
              "    </tr>\n",
              "    <tr>\n",
              "      <th>...</th>\n",
              "      <td>...</td>\n",
              "      <td>...</td>\n",
              "      <td>...</td>\n",
              "      <td>...</td>\n",
              "      <td>...</td>\n",
              "      <td>...</td>\n",
              "      <td>...</td>\n",
              "    </tr>\n",
              "    <tr>\n",
              "      <th>115</th>\n",
              "      <td>185.01</td>\n",
              "      <td>186.1000</td>\n",
              "      <td>184.4100</td>\n",
              "      <td>184.410</td>\n",
              "      <td>1687233600000</td>\n",
              "      <td>49799092.0</td>\n",
              "      <td>185.2709</td>\n",
              "    </tr>\n",
              "    <tr>\n",
              "      <th>116</th>\n",
              "      <td>183.96</td>\n",
              "      <td>185.4100</td>\n",
              "      <td>182.5901</td>\n",
              "      <td>184.900</td>\n",
              "      <td>1687320000000</td>\n",
              "      <td>49515697.0</td>\n",
              "      <td>184.0809</td>\n",
              "    </tr>\n",
              "    <tr>\n",
              "      <th>117</th>\n",
              "      <td>187.00</td>\n",
              "      <td>187.0450</td>\n",
              "      <td>183.6700</td>\n",
              "      <td>183.740</td>\n",
              "      <td>1687406400000</td>\n",
              "      <td>51245327.0</td>\n",
              "      <td>186.1166</td>\n",
              "    </tr>\n",
              "    <tr>\n",
              "      <th>118</th>\n",
              "      <td>186.68</td>\n",
              "      <td>187.5600</td>\n",
              "      <td>185.0100</td>\n",
              "      <td>185.550</td>\n",
              "      <td>1687492800000</td>\n",
              "      <td>53112346.0</td>\n",
              "      <td>186.4952</td>\n",
              "    </tr>\n",
              "    <tr>\n",
              "      <th>119</th>\n",
              "      <td>185.27</td>\n",
              "      <td>188.0500</td>\n",
              "      <td>185.2300</td>\n",
              "      <td>186.830</td>\n",
              "      <td>1687752000000</td>\n",
              "      <td>48088661.0</td>\n",
              "      <td>186.3292</td>\n",
              "    </tr>\n",
              "  </tbody>\n",
              "</table>\n",
              "<p>120 rows × 7 columns</p>\n",
              "</div>\n",
              "    <div class=\"colab-df-buttons\">\n",
              "\n",
              "  <div class=\"colab-df-container\">\n",
              "    <button class=\"colab-df-convert\" onclick=\"convertToInteractive('df-8092a3a9-634b-4a84-8734-509bd4ffa3a2')\"\n",
              "            title=\"Convert this dataframe to an interactive table.\"\n",
              "            style=\"display:none;\">\n",
              "\n",
              "  <svg xmlns=\"http://www.w3.org/2000/svg\" height=\"24px\" viewBox=\"0 -960 960 960\">\n",
              "    <path d=\"M120-120v-720h720v720H120Zm60-500h600v-160H180v160Zm220 220h160v-160H400v160Zm0 220h160v-160H400v160ZM180-400h160v-160H180v160Zm440 0h160v-160H620v160ZM180-180h160v-160H180v160Zm440 0h160v-160H620v160Z\"/>\n",
              "  </svg>\n",
              "    </button>\n",
              "\n",
              "  <style>\n",
              "    .colab-df-container {\n",
              "      display:flex;\n",
              "      gap: 12px;\n",
              "    }\n",
              "\n",
              "    .colab-df-convert {\n",
              "      background-color: #E8F0FE;\n",
              "      border: none;\n",
              "      border-radius: 50%;\n",
              "      cursor: pointer;\n",
              "      display: none;\n",
              "      fill: #1967D2;\n",
              "      height: 32px;\n",
              "      padding: 0 0 0 0;\n",
              "      width: 32px;\n",
              "    }\n",
              "\n",
              "    .colab-df-convert:hover {\n",
              "      background-color: #E2EBFA;\n",
              "      box-shadow: 0px 1px 2px rgba(60, 64, 67, 0.3), 0px 1px 3px 1px rgba(60, 64, 67, 0.15);\n",
              "      fill: #174EA6;\n",
              "    }\n",
              "\n",
              "    .colab-df-buttons div {\n",
              "      margin-bottom: 4px;\n",
              "    }\n",
              "\n",
              "    [theme=dark] .colab-df-convert {\n",
              "      background-color: #3B4455;\n",
              "      fill: #D2E3FC;\n",
              "    }\n",
              "\n",
              "    [theme=dark] .colab-df-convert:hover {\n",
              "      background-color: #434B5C;\n",
              "      box-shadow: 0px 1px 3px 1px rgba(0, 0, 0, 0.15);\n",
              "      filter: drop-shadow(0px 1px 2px rgba(0, 0, 0, 0.3));\n",
              "      fill: #FFFFFF;\n",
              "    }\n",
              "  </style>\n",
              "\n",
              "    <script>\n",
              "      const buttonEl =\n",
              "        document.querySelector('#df-8092a3a9-634b-4a84-8734-509bd4ffa3a2 button.colab-df-convert');\n",
              "      buttonEl.style.display =\n",
              "        google.colab.kernel.accessAllowed ? 'block' : 'none';\n",
              "\n",
              "      async function convertToInteractive(key) {\n",
              "        const element = document.querySelector('#df-8092a3a9-634b-4a84-8734-509bd4ffa3a2');\n",
              "        const dataTable =\n",
              "          await google.colab.kernel.invokeFunction('convertToInteractive',\n",
              "                                                    [key], {});\n",
              "        if (!dataTable) return;\n",
              "\n",
              "        const docLinkHtml = 'Like what you see? Visit the ' +\n",
              "          '<a target=\"_blank\" href=https://colab.research.google.com/notebooks/data_table.ipynb>data table notebook</a>'\n",
              "          + ' to learn more about interactive tables.';\n",
              "        element.innerHTML = '';\n",
              "        dataTable['output_type'] = 'display_data';\n",
              "        await google.colab.output.renderOutput(dataTable, element);\n",
              "        const docLink = document.createElement('div');\n",
              "        docLink.innerHTML = docLinkHtml;\n",
              "        element.appendChild(docLink);\n",
              "      }\n",
              "    </script>\n",
              "  </div>\n",
              "\n",
              "\n",
              "<div id=\"df-fa3e14cf-af35-4675-8475-5701505e454f\">\n",
              "  <button class=\"colab-df-quickchart\" onclick=\"quickchart('df-fa3e14cf-af35-4675-8475-5701505e454f')\"\n",
              "            title=\"Suggest charts\"\n",
              "            style=\"display:none;\">\n",
              "\n",
              "<svg xmlns=\"http://www.w3.org/2000/svg\" height=\"24px\"viewBox=\"0 0 24 24\"\n",
              "     width=\"24px\">\n",
              "    <g>\n",
              "        <path d=\"M19 3H5c-1.1 0-2 .9-2 2v14c0 1.1.9 2 2 2h14c1.1 0 2-.9 2-2V5c0-1.1-.9-2-2-2zM9 17H7v-7h2v7zm4 0h-2V7h2v10zm4 0h-2v-4h2v4z\"/>\n",
              "    </g>\n",
              "</svg>\n",
              "  </button>\n",
              "\n",
              "<style>\n",
              "  .colab-df-quickchart {\n",
              "      --bg-color: #E8F0FE;\n",
              "      --fill-color: #1967D2;\n",
              "      --hover-bg-color: #E2EBFA;\n",
              "      --hover-fill-color: #174EA6;\n",
              "      --disabled-fill-color: #AAA;\n",
              "      --disabled-bg-color: #DDD;\n",
              "  }\n",
              "\n",
              "  [theme=dark] .colab-df-quickchart {\n",
              "      --bg-color: #3B4455;\n",
              "      --fill-color: #D2E3FC;\n",
              "      --hover-bg-color: #434B5C;\n",
              "      --hover-fill-color: #FFFFFF;\n",
              "      --disabled-bg-color: #3B4455;\n",
              "      --disabled-fill-color: #666;\n",
              "  }\n",
              "\n",
              "  .colab-df-quickchart {\n",
              "    background-color: var(--bg-color);\n",
              "    border: none;\n",
              "    border-radius: 50%;\n",
              "    cursor: pointer;\n",
              "    display: none;\n",
              "    fill: var(--fill-color);\n",
              "    height: 32px;\n",
              "    padding: 0;\n",
              "    width: 32px;\n",
              "  }\n",
              "\n",
              "  .colab-df-quickchart:hover {\n",
              "    background-color: var(--hover-bg-color);\n",
              "    box-shadow: 0 1px 2px rgba(60, 64, 67, 0.3), 0 1px 3px 1px rgba(60, 64, 67, 0.15);\n",
              "    fill: var(--button-hover-fill-color);\n",
              "  }\n",
              "\n",
              "  .colab-df-quickchart-complete:disabled,\n",
              "  .colab-df-quickchart-complete:disabled:hover {\n",
              "    background-color: var(--disabled-bg-color);\n",
              "    fill: var(--disabled-fill-color);\n",
              "    box-shadow: none;\n",
              "  }\n",
              "\n",
              "  .colab-df-spinner {\n",
              "    border: 2px solid var(--fill-color);\n",
              "    border-color: transparent;\n",
              "    border-bottom-color: var(--fill-color);\n",
              "    animation:\n",
              "      spin 1s steps(1) infinite;\n",
              "  }\n",
              "\n",
              "  @keyframes spin {\n",
              "    0% {\n",
              "      border-color: transparent;\n",
              "      border-bottom-color: var(--fill-color);\n",
              "      border-left-color: var(--fill-color);\n",
              "    }\n",
              "    20% {\n",
              "      border-color: transparent;\n",
              "      border-left-color: var(--fill-color);\n",
              "      border-top-color: var(--fill-color);\n",
              "    }\n",
              "    30% {\n",
              "      border-color: transparent;\n",
              "      border-left-color: var(--fill-color);\n",
              "      border-top-color: var(--fill-color);\n",
              "      border-right-color: var(--fill-color);\n",
              "    }\n",
              "    40% {\n",
              "      border-color: transparent;\n",
              "      border-right-color: var(--fill-color);\n",
              "      border-top-color: var(--fill-color);\n",
              "    }\n",
              "    60% {\n",
              "      border-color: transparent;\n",
              "      border-right-color: var(--fill-color);\n",
              "    }\n",
              "    80% {\n",
              "      border-color: transparent;\n",
              "      border-right-color: var(--fill-color);\n",
              "      border-bottom-color: var(--fill-color);\n",
              "    }\n",
              "    90% {\n",
              "      border-color: transparent;\n",
              "      border-bottom-color: var(--fill-color);\n",
              "    }\n",
              "  }\n",
              "</style>\n",
              "\n",
              "  <script>\n",
              "    async function quickchart(key) {\n",
              "      const quickchartButtonEl =\n",
              "        document.querySelector('#' + key + ' button');\n",
              "      quickchartButtonEl.disabled = true;  // To prevent multiple clicks.\n",
              "      quickchartButtonEl.classList.add('colab-df-spinner');\n",
              "      try {\n",
              "        const charts = await google.colab.kernel.invokeFunction(\n",
              "            'suggestCharts', [key], {});\n",
              "      } catch (error) {\n",
              "        console.error('Error during call to suggestCharts:', error);\n",
              "      }\n",
              "      quickchartButtonEl.classList.remove('colab-df-spinner');\n",
              "      quickchartButtonEl.classList.add('colab-df-quickchart-complete');\n",
              "    }\n",
              "    (() => {\n",
              "      let quickchartButtonEl =\n",
              "        document.querySelector('#df-fa3e14cf-af35-4675-8475-5701505e454f button');\n",
              "      quickchartButtonEl.style.display =\n",
              "        google.colab.kernel.accessAllowed ? 'block' : 'none';\n",
              "    })();\n",
              "  </script>\n",
              "</div>\n",
              "\n",
              "  <div id=\"id_49aad13c-3672-417c-b21b-8ce795752673\">\n",
              "    <style>\n",
              "      .colab-df-generate {\n",
              "        background-color: #E8F0FE;\n",
              "        border: none;\n",
              "        border-radius: 50%;\n",
              "        cursor: pointer;\n",
              "        display: none;\n",
              "        fill: #1967D2;\n",
              "        height: 32px;\n",
              "        padding: 0 0 0 0;\n",
              "        width: 32px;\n",
              "      }\n",
              "\n",
              "      .colab-df-generate:hover {\n",
              "        background-color: #E2EBFA;\n",
              "        box-shadow: 0px 1px 2px rgba(60, 64, 67, 0.3), 0px 1px 3px 1px rgba(60, 64, 67, 0.15);\n",
              "        fill: #174EA6;\n",
              "      }\n",
              "\n",
              "      [theme=dark] .colab-df-generate {\n",
              "        background-color: #3B4455;\n",
              "        fill: #D2E3FC;\n",
              "      }\n",
              "\n",
              "      [theme=dark] .colab-df-generate:hover {\n",
              "        background-color: #434B5C;\n",
              "        box-shadow: 0px 1px 3px 1px rgba(0, 0, 0, 0.15);\n",
              "        filter: drop-shadow(0px 1px 2px rgba(0, 0, 0, 0.3));\n",
              "        fill: #FFFFFF;\n",
              "      }\n",
              "    </style>\n",
              "    <button class=\"colab-df-generate\" onclick=\"generateWithVariable('stock_data')\"\n",
              "            title=\"Generate code using this dataframe.\"\n",
              "            style=\"display:none;\">\n",
              "\n",
              "  <svg xmlns=\"http://www.w3.org/2000/svg\" height=\"24px\"viewBox=\"0 0 24 24\"\n",
              "       width=\"24px\">\n",
              "    <path d=\"M7,19H8.4L18.45,9,17,7.55,7,17.6ZM5,21V16.75L18.45,3.32a2,2,0,0,1,2.83,0l1.4,1.43a1.91,1.91,0,0,1,.58,1.4,1.91,1.91,0,0,1-.58,1.4L9.25,21ZM18.45,9,17,7.55Zm-12,3A5.31,5.31,0,0,0,4.9,8.1,5.31,5.31,0,0,0,1,6.5,5.31,5.31,0,0,0,4.9,4.9,5.31,5.31,0,0,0,6.5,1,5.31,5.31,0,0,0,8.1,4.9,5.31,5.31,0,0,0,12,6.5,5.46,5.46,0,0,0,6.5,12Z\"/>\n",
              "  </svg>\n",
              "    </button>\n",
              "    <script>\n",
              "      (() => {\n",
              "      const buttonEl =\n",
              "        document.querySelector('#id_49aad13c-3672-417c-b21b-8ce795752673 button.colab-df-generate');\n",
              "      buttonEl.style.display =\n",
              "        google.colab.kernel.accessAllowed ? 'block' : 'none';\n",
              "\n",
              "      buttonEl.onclick = () => {\n",
              "        google.colab.notebook.generateWithVariable('stock_data');\n",
              "      }\n",
              "      })();\n",
              "    </script>\n",
              "  </div>\n",
              "\n",
              "    </div>\n",
              "  </div>\n"
            ],
            "application/vnd.google.colaboratory.intrinsic+json": {
              "type": "dataframe",
              "variable_name": "stock_data",
              "summary": "{\n  \"name\": \"stock_data\",\n  \"rows\": 120,\n  \"fields\": [\n    {\n      \"column\": \"Close\",\n      \"properties\": {\n        \"dtype\": \"number\",\n        \"std\": 15.539265956564279,\n        \"min\": 125.02,\n        \"max\": 187.0,\n        \"num_unique_values\": 118,\n        \"samples\": [\n          160.25,\n          172.57,\n          130.15\n        ],\n        \"semantic_type\": \"\",\n        \"description\": \"\"\n      }\n    },\n    {\n      \"column\": \"High\",\n      \"properties\": {\n        \"dtype\": \"number\",\n        \"std\": 15.372639153874227,\n        \"min\": 127.77,\n        \"max\": 188.05,\n        \"num_unique_values\": 119,\n        \"samples\": [\n          160.34,\n          174.59,\n          133.41\n        ],\n        \"semantic_type\": \"\",\n        \"description\": \"\"\n      }\n    },\n    {\n      \"column\": \"Low\",\n      \"properties\": {\n        \"dtype\": \"number\",\n        \"std\": 15.741200261457518,\n        \"min\": 124.17,\n        \"max\": 185.23,\n        \"num_unique_values\": 120,\n        \"samples\": [\n          151.83,\n          147.7,\n          129.89\n        ],\n        \"semantic_type\": \"\",\n        \"description\": \"\"\n      }\n    },\n    {\n      \"column\": \"Open\",\n      \"properties\": {\n        \"dtype\": \"number\",\n        \"std\": 15.608952409500736,\n        \"min\": 126.01,\n        \"max\": 186.83,\n        \"num_unique_values\": 119,\n        \"samples\": [\n          158.86,\n          173.62,\n          130.465\n        ],\n        \"semantic_type\": \"\",\n        \"description\": \"\"\n      }\n    },\n    {\n      \"column\": \"Timestamp\",\n      \"properties\": {\n        \"dtype\": \"number\",\n        \"std\": 4351425628,\n        \"min\": 1672722000000,\n        \"max\": 1687752000000,\n        \"num_unique_values\": 120,\n        \"samples\": [\n          1678251600000,\n          1678680000000,\n          1673240400000\n        ],\n        \"semantic_type\": \"\",\n        \"description\": \"\"\n      }\n    },\n    {\n      \"column\": \"Volume\",\n      \"properties\": {\n        \"dtype\": \"number\",\n        \"std\": 18456132.44353353,\n        \"min\": 37264259.0,\n        \"max\": 154338835.0,\n        \"num_unique_values\": 120,\n        \"samples\": [\n          47204791.0,\n          84457122.0,\n          70790813.0\n        ],\n        \"semantic_type\": \"\",\n        \"description\": \"\"\n      }\n    },\n    {\n      \"column\": \"VWAP\",\n      \"properties\": {\n        \"dtype\": \"number\",\n        \"std\": 15.589473557357758,\n        \"min\": 125.725,\n        \"max\": 186.4952,\n        \"num_unique_values\": 120,\n        \"samples\": [\n          152.6973,\n          151.1835,\n          131.6292\n        ],\n        \"semantic_type\": \"\",\n        \"description\": \"\"\n      }\n    }\n  ]\n}"
            }
          },
          "metadata": {}
        }
      ]
    },
    {
      "cell_type": "markdown",
      "source": [
        "## Chat with your data"
      ],
      "metadata": {
        "id": "b91ASLVSsKwx"
      }
    },
    {
      "cell_type": "code",
      "source": [
        "from langchain.agents.agent_types import AgentType\n",
        "from langchain_experimental.agents.agent_toolkits import create_pandas_dataframe_agent\n",
        "from langchain_openai import ChatOpenAI\n",
        "from IPython.display import display"
      ],
      "metadata": {
        "id": "K_vft4losRiO"
      },
      "execution_count": null,
      "outputs": []
    },
    {
      "cell_type": "code",
      "source": [
        "import os\n",
        "\n",
        "os.environ['OPENAI_API_KEY'] = ab.get_secret(\"OPENAI_API_KEY\")\n",
        "agent = create_pandas_dataframe_agent(\n",
        "        ChatOpenAI(model=\"gpt-3.5-turbo\"),\n",
        "        stock_data,\n",
        "        verbose=True,\n",
        "        agent_type=AgentType.OPENAI_FUNCTIONS,\n",
        "    )"
      ],
      "metadata": {
        "id": "VjP_PfhEscBk"
      },
      "execution_count": null,
      "outputs": []
    },
    {
      "cell_type": "code",
      "source": [
        "output = agent.invoke(\"what is the given data is about?\")\n",
        "print(output['output'])"
      ],
      "metadata": {
        "colab": {
          "base_uri": "https://localhost:8080/"
        },
        "id": "K8lQaOretq5S",
        "outputId": "76ea1ddc-f3bb-4db6-bf7f-87b00747b804"
      },
      "execution_count": null,
      "outputs": [
        {
          "output_type": "stream",
          "name": "stdout",
          "text": [
            "\n",
            "\n",
            "\u001b[1m> Entering new AgentExecutor chain...\u001b[0m\n",
            "\u001b[32;1m\u001b[1;3mBased on the columns in the dataframe `df`, the data appears to be financial market data related to trading. Here are the columns and their potential meanings:\n",
            "\n",
            "- `Close`: Closing price of a financial asset\n",
            "- `High`: High price of a financial asset during a specific time period\n",
            "- `Low`: Low price of a financial asset during a specific time period\n",
            "- `Open`: Opening price of a financial asset\n",
            "- `Timestamp`: Timestamp of the data point\n",
            "- `Volume`: Volume of the financial asset traded\n",
            "- `VWAP`: Volume Weighted Average Price\n",
            "\n",
            "Therefore, the data in the dataframe `df` seems to represent price and volume data of a financial asset over different timestamps.\u001b[0m\n",
            "\n",
            "\u001b[1m> Finished chain.\u001b[0m\n",
            "Based on the columns in the dataframe `df`, the data appears to be financial market data related to trading. Here are the columns and their potential meanings:\n",
            "\n",
            "- `Close`: Closing price of a financial asset\n",
            "- `High`: High price of a financial asset during a specific time period\n",
            "- `Low`: Low price of a financial asset during a specific time period\n",
            "- `Open`: Opening price of a financial asset\n",
            "- `Timestamp`: Timestamp of the data point\n",
            "- `Volume`: Volume of the financial asset traded\n",
            "- `VWAP`: Volume Weighted Average Price\n",
            "\n",
            "Therefore, the data in the dataframe `df` seems to represent price and volume data of a financial asset over different timestamps.\n"
          ]
        }
      ]
    },
    {
      "cell_type": "code",
      "source": [
        "output = agent.invoke(\"what is the yearly returns of the given stock?\")\n",
        "print(output['output'])"
      ],
      "metadata": {
        "colab": {
          "base_uri": "https://localhost:8080/"
        },
        "id": "zb9B_glfuYN0",
        "outputId": "4f91af29-f371-4c60-b9e5-92e44884b9df"
      },
      "execution_count": null,
      "outputs": [
        {
          "output_type": "stream",
          "name": "stdout",
          "text": [
            "\n",
            "\n",
            "\u001b[1m> Entering new AgentExecutor chain...\u001b[0m\n",
            "\u001b[32;1m\u001b[1;3m\n",
            "Invoking: `python_repl_ast` with `{'query': \"df['Year'] = pd.to_datetime(df['Timestamp'], unit='ms').dt.year\\nyearly_returns = df.groupby('Year')['Close'].last() / df.groupby('Year')['Close'].first() - 1\\nyearly_returns\"}`\n",
            "\n",
            "\n",
            "\u001b[0m\u001b[36;1m\u001b[1;3mYear\n",
            "2023    0.48133\n",
            "Name: Close, dtype: float64\u001b[0m\u001b[32;1m\u001b[1;3mThe yearly returns of the given stock for the year 2023 are approximately 48.13%.\u001b[0m\n",
            "\n",
            "\u001b[1m> Finished chain.\u001b[0m\n",
            "The yearly returns of the given stock for the year 2023 are approximately 48.13%.\n"
          ]
        }
      ]
    },
    {
      "cell_type": "code",
      "source": [
        "output = agent.invoke(\"what is the 50-day moving average of the entire data?\")\n",
        "print(output['output'])"
      ],
      "metadata": {
        "colab": {
          "base_uri": "https://localhost:8080/"
        },
        "id": "pf41wXkuumnp",
        "outputId": "59088435-3391-4d64-ec84-87429e47eda5"
      },
      "execution_count": null,
      "outputs": [
        {
          "output_type": "stream",
          "name": "stdout",
          "text": [
            "\n",
            "\n",
            "\u001b[1m> Entering new AgentExecutor chain...\u001b[0m\n",
            "\u001b[32;1m\u001b[1;3m\n",
            "Invoking: `python_repl_ast` with `{'query': \"df['Close'].rolling(window=50).mean().iloc[-1]\"}`\n",
            "\n",
            "\n",
            "\u001b[0m\u001b[36;1m\u001b[1;3m174.67870000000002\u001b[0m\u001b[32;1m\u001b[1;3mThe 50-day moving average of the entire data is approximately 174.68.\u001b[0m\n",
            "\n",
            "\u001b[1m> Finished chain.\u001b[0m\n",
            "The 50-day moving average of the entire data is approximately 174.68.\n"
          ]
        }
      ]
    }
  ]
}