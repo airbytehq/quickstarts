{
  "cells": [
    {
      "cell_type": "markdown",
      "source": [
        "# End-to-End RAG Tutorial Using Github, PyAirbyte, Weaviate\n",
        "\n",
        "In this notebook, we'll illustrate how to load data from github into Weaviate using PyAirbyte, then afterward retrieving In this, we've used source-github and stream 'issues' of it, but you can replace the source according to your requirements.\n",
        "\n",
        "## Prerequisites\n",
        "\n",
        "1. **Github**:\n",
        "   - Follow the instructions in the [Github Connector Docs](https://docs.airbyte.com/integrations/sources/github) to set up your github and get api_token.\n",
        "\n",
        "2. **Weaviate Account**:\n",
        "   - **Create a Weaviate Account**: Sign up for an account on the [Weaviate website](https://weaviate.io/).\n",
        "   - **Create a Cluster**: Follow this [instruction](https://weaviate.io/developers/weaviate/quickstart#step-1-create-a-weaviate-database) to create database and obatain weaviate API_KEY and URL.\n",
        "\n",
        "3. **OpenAI API Key**:\n",
        "   - **Create an OpenAI Account**: Sign up for an acco\n",
        "   unt on [OpenAI](https://www.openai.com/).\n",
        "   - **Generate an API Key**: Go to the API section and generate a new API key. For detailed instructions, refer to the [OpenAI documentation](https://beta.openai.com/docs/quickstart).\n",
        "\n",
        "\n",
        "## Install PyAirbyte and other dependencies"
      ],
      "metadata": {
        "id": "5pBIRIujjIw4"
      }
    },
    {
      "cell_type": "code",
      "execution_count": null,
      "metadata": {
        "id": "4dv5cOvKi7xH"
      },
      "outputs": [],
      "source": [
        "# Add virtual environment support for running in Google Colab\n",
        "!apt-get install -qq python3.10-venv\n",
        "\n",
        "# First, we need to install the necessary libraries.\n",
        "!pip3 install airbyte weaviate-client python-dotenv"
      ]
    },
    {
      "cell_type": "markdown",
      "source": [
        "#Setup Source Github\n",
        "\n",
        "Note: The credentials are retrieved securely using the get_secret() method. This will automatically locate a matching Google Colab secret or environment variable, ensuring they are not hard-coded into the notebook. Make sure to add your key to the Secrets section on the left."
      ],
      "metadata": {
        "id": "p-S0HQbWlqiM"
      }
    },
    {
      "cell_type": "code",
      "execution_count": null,
      "metadata": {
        "id": "wo8v-XcGi7xI"
      },
      "outputs": [],
      "source": [
        "import airbyte as ab\n",
        "\n",
        "source = ab.get_source(\n",
        "    \"source-github\",\n",
        "    config={\n",
        "        \"repositories\": ab.get_secret('GITHUB_REPOSITORY'),\n",
        "        \"credentials\": {\n",
        "            \"personal_access_token\": ab.get_secret('GITHUB_ACCESS_TOKEN'),\n",
        "        },\n",
        "    },\n",
        ")\n",
        "source.check()"
      ]
    },
    {
      "cell_type": "markdown",
      "source": [
        "Reads the data from the selected issues stream, extracting the GitHub issues data for further processing."
      ],
      "metadata": {
        "id": "mScNlHAMlzpR"
      }
    },
    {
      "cell_type": "code",
      "execution_count": null,
      "metadata": {
        "id": "FV9E_J09i7xJ"
      },
      "outputs": [],
      "source": [
        "# In this notebook we are focused on only issues stream\n",
        "# checkout all stream here : https://docs.airbyte.com/integrations/sources/gitlab#supported-streams\n",
        "\n",
        "print(source.get_available_streams())\n",
        "source.select_streams([\"issues\"])\n",
        "cache = ab.get_default_cache()\n",
        "result = source.read(cache=cache,force_full_refresh=True)\n"
      ]
    },
    {
      "cell_type": "code",
      "execution_count": null,
      "metadata": {
        "id": "X45nwGPAi7xJ"
      },
      "outputs": [],
      "source": [
        "issues_details = result['issues'].to_pandas() #coverting data from issues stream to pandas dataframe\n",
        "\n",
        "print(issues_details.columns)\n",
        "print(issues_details[10])"
      ]
    },
    {
      "cell_type": "markdown",
      "source": [
        "#Setting up Weaviate\n",
        "Connect to the weaviate instance, Enter your weaviate cluster url and API_KEY"
      ],
      "metadata": {
        "id": "s7Z8OTeOmFS_"
      }
    },
    {
      "cell_type": "code",
      "execution_count": null,
      "metadata": {
        "id": "UyzpsIKPi7xK"
      },
      "outputs": [],
      "source": [
        "import weaviate\n",
        "\n",
        "client = weaviate.Client(\n",
        "    url = ab.get_secret('WCD_URL'),  # Replace with your Weaviate endpoint\n",
        "    auth_client_secret=weaviate.auth.AuthApiKey(api_key=ab.get_secret('WCD_API_KEY')),  # Replace with your Weaviate instance API key\n",
        "    additional_headers = {\n",
        "        \"X-OpenAI-Api-Key\": ab.get_secret('OPENAI_API_KEY')  # Replace with your Openai API key\n",
        "    }\n",
        ")"
      ]
    },
    {
      "cell_type": "markdown",
      "source": [
        "Weaviate stores data in collections. Each data object in a collection has a set of properties and a vector representation."
      ],
      "metadata": {
        "id": "RcUwvnBHnLO0"
      }
    },
    {
      "cell_type": "code",
      "execution_count": null,
      "metadata": {
        "id": "CQm5WxEzi7xK"
      },
      "outputs": [],
      "source": [
        "collection_name = \"issues\" # name of collection\n",
        "class_obj = {\n",
        "    \"class\": collection_name,\n",
        "    \"vectorizer\": \"text2vec-openai\",  # If set to \"none\" you must always provide vectors yourself. Could be any other \"text2vec-*\" also.\n",
        "    \"moduleConfig\": {\n",
        "        \"text2vec-openai\": {},\n",
        "        \"generative-openai\": {}  # Ensure the `generative-openai` module is used for generative queries\n",
        "    }\n",
        "}\n",
        "\n",
        "client.schema.create_class(class_obj)"
      ]
    },
    {
      "cell_type": "code",
      "execution_count": null,
      "metadata": {
        "id": "vMxfH8r8i7xL"
      },
      "outputs": [],
      "source": [
        "\n",
        "# Batch imports are an efficient way to add multiple data objects and cross-references.\n",
        "client.batch.configure(batch_size=100)  # Configure batch\n",
        "\n",
        "#The following example adds objects to the collection.\n",
        "with client.batch as batch:  # Initialize a batch process\n",
        "    for i,d in enumerate(issues_details):  # Batch import data\n",
        "        properties = {\n",
        "            \"issue_details\": d, # You can also change property name here and also add multiple property\n",
        "        }\n",
        "        batch.add_data_object(\n",
        "            data_object=properties,\n",
        "            class_name=collection_name\n",
        "        )"
      ]
    },
    {
      "cell_type": "markdown",
      "source": [
        "Weaviate has integrated generative search capabilities, so that the retrieval and generation steps are combined into a single query. This means that you can use Weaviate's search capabilities to retrieve the data you need, and then in the same query, prompt the LLM with the same data.\n",
        "\n",
        "This makes it easier, faster and more efficient to implement generative search workflows in your application.\n",
        "\n",
        "You can checkout more ways of query [here](https://weaviate.io/developers/weaviate/starter-guides/generative#data-retrieval)."
      ],
      "metadata": {
        "id": "ihPrmv3DqRL6"
      }
    },
    {
      "cell_type": "code",
      "execution_count": null,
      "metadata": {
        "id": "4YnIQV_pi7xL",
        "outputId": "287b69a9-2789-40b7-b1e5-c03754068638"
      },
      "outputs": [
        {
          "name": "stdout",
          "output_type": "stream",
          "text": [
            "/*\n",
            "Summary of Pagination Handling in Github Connector issues in airbytehq/quickstarts repository:\n",
            "\n",
            "- Pagination handling in the Github Connector issues involves retrieving a limited number of issues at a time from the Github API and then using pagination to fetch the next set of issues.\n",
            "- This ensures that large datasets of issues can be efficiently retrieved without overwhelming the API or the system.\n",
            "- The Github Connector in the airbytehq/quickstarts repository likely implements pagination logic to handle the retrieval of issues in a systematic and efficient manner.\n",
            "- Pagination parameters such as page number and page size are typically used to control the retrieval of issues in batches.\n",
            "- Proper pagination handling is crucial for managing large volumes of data and ensuring smooth and efficient data retrieval from the Github API.\n",
            "*/\n"
          ]
        }
      ],
      "source": [
        "response = (\n",
        "    client.query\n",
        "    .get(class_name=collection_name, properties=[\"issue_details\"])\n",
        "    .with_near_text({\"concepts\": [\"title\",\"comments\"]})\n",
        "    .with_generate(single_prompt=\"Use {issue_details}, Give me summary of Pagination Handling in Github COnnector issues in airbytehq/quickstarts repository\") # do not forget to add USE {property_names} in prompt\n",
        "    .with_limit(1)\n",
        "    .do()\n",
        ")\n",
        "\n",
        "print(response[\"data\"][\"Get\"][\"Issues\"][0][\"_additional\"][\"generate\"][\"singleResult\"])"
      ]
    }
  ],
  "metadata": {
    "kernelspec": {
      "display_name": "Python 3",
      "language": "python",
      "name": "python3"
    },
    "language_info": {
      "codemirror_mode": {
        "name": "ipython",
        "version": 3
      },
      "file_extension": ".py",
      "mimetype": "text/x-python",
      "name": "python",
      "nbconvert_exporter": "python",
      "pygments_lexer": "ipython3",
      "version": "3.10.11"
    },
    "colab": {
      "provenance": []
    }
  },
  "nbformat": 4,
  "nbformat_minor": 0
}