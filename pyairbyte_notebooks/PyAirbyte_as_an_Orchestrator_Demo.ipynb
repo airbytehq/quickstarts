{
  "nbformat": 4,
  "nbformat_minor": 0,
  "metadata": {
    "colab": {
      "provenance": []
    },
    "kernelspec": {
      "name": "python3",
      "display_name": "Python 3"
    },
    "language_info": {
      "name": "python"
    }
  },
  "cells": [
    {
      "cell_type": "markdown",
      "source": [
        "# Using PyAirbyte as a data orchestrator for hosted Airbyte connections\n",
        "This demo showcases how to automate and monitor Airbyte Cloud sync jobs using PyAirbyte. It includes setting up job executions, handling dependencies, sending real-time status updates, and visually representing job details and outcomes on a timeline."
      ],
      "metadata": {
        "id": "zSQIhJC1wTt4"
      }
    },
    {
      "cell_type": "code",
      "execution_count": null,
      "metadata": {
        "id": "Anj2W5pm0n8E"
      },
      "outputs": [],
      "source": [
        "# Add virtual environment support for running in Google Colab\n",
        "!apt-get install -qq python3.10-venv\n",
        "\n",
        "# Install PyAirbyte\n",
        "%pip install --quiet airbyte"
      ]
    },
    {
      "cell_type": "markdown",
      "source": [
        "## Job execution and notifications using PyAirbyte\n",
        "Here, we initialize an Airbyte Cloud workspace with PyAirbyte to manage data sync jobs. We show how Slack can be used for real-time notifications on job statuses.\n",
        "\n",
        "The code below does the following:\n",
        "\n",
        "- Workspace initialization: Sets up the workspace with necessary credentials.\n",
        "- Slack notifications: Configures a webhook for sending job statuses to a Slack channel.\n",
        "- Job data tracking: Collects and stores execution details like start time, duration, and status for visualization.\n",
        "- Run syncs: Executes jobs sequentially based on dependency success and sends detailed outcomes to Slack (or simply print them)."
      ],
      "metadata": {
        "id": "QtUXa_7tuXks"
      }
    },
    {
      "cell_type": "code",
      "source": [
        "import requests\n",
        "from airbyte import cloud\n",
        "from datetime import datetime\n",
        "from google.colab import userdata\n",
        "\n",
        "# Initialize the Airbyte Cloud workspace\n",
        "workspace = cloud.CloudWorkspace(\n",
        "    workspace_id=userdata.get(\"AIRBYTE_WORKSPACE_ID\"),\n",
        "    api_key=userdata.get(\"AIRBYTE_API_KEY\"),\n",
        ")\n",
        "\n",
        "# Slack webhook URL - replace with your actual Slack webhook URL\n",
        "slack_webhook_url = \"https://hooks.slack.com/services/XXX/YYY/ZZZ\"\n",
        "\n",
        "# Initialize job data for visualization\n",
        "job_data = []\n",
        "\n",
        "def send_slack_message(message, webhook_url):\n",
        "    \"\"\"Sends a message to a Slack channel specified by the webhook URL.\"\"\"\n",
        "    payload = {'text': message}\n",
        "    response = requests.post(webhook_url, json=payload)\n",
        "    return response.status_code\n",
        "\n",
        "def trigger_sync_and_check(connection_id):\n",
        "    \"\"\"Triggers a sync job for a specified connection ID and checks the job status.\"\"\"\n",
        "    start_time = datetime.now()\n",
        "    connection = workspace.get_connection(connection_id=connection_id)\n",
        "    sync_result = connection.run_sync()\n",
        "    end_time = datetime.now()\n",
        "    duration = (end_time - start_time).total_seconds()\n",
        "    status = str(sync_result.get_job_status())\n",
        "\n",
        "    # Store job data for visualization\n",
        "    job_data.append({\n",
        "        'connection_id': connection_id,\n",
        "        'start_time': start_time,\n",
        "        'end_time': end_time,\n",
        "        'duration': duration,\n",
        "        'status': status\n",
        "    })\n",
        "\n",
        "    return status, sync_result, start_time, duration\n",
        "\n",
        "def format_sync_details(sync_result, start_time, duration):\n",
        "    \"\"\"Format sync details for Slack message, including start time and duration.\"\"\"\n",
        "    details = (\n",
        "        f\"Job ID: {sync_result.job_id}\\n\"\n",
        "        f\"Start Time: {start_time.strftime('%Y-%m-%d %H:%M:%S')}\\n\"\n",
        "        f\"Duration: {duration:.2f} seconds\\n\"\n",
        "        f\"Records Synced: {sync_result.records_synced}\\n\"\n",
        "        f\"Bytes Synced: {sync_result.bytes_synced}\\n\"\n",
        "        f\"Job URL: {sync_result.job_url}\"\n",
        "    )\n",
        "    return details\n",
        "\n",
        "def run_syncs():\n",
        "    \"\"\"Handle sequential sync jobs where the second job depends on the success of the first.\"\"\"\n",
        "    # Connection IDs for the two jobs. Replace with your connection IDs\n",
        "    first_connection_id = \"df2898ce-b21f-43c0-8c82-bd8c6dd24931\"\n",
        "    second_connection_id = \"86075252-9004-41fc-b5e3-f61f20388ff5\"\n",
        "\n",
        "    first_status, first_sync_result, first_start, first_duration = trigger_sync_and_check(first_connection_id)\n",
        "    if \"SUCCEEDED\" in first_status:\n",
        "        message = f\"First sync succeeded (Connection ID: {first_connection_id}).\\nDetails:\\n{format_sync_details(first_sync_result, first_start, first_duration)}\\nProceeding to second sync.\"\n",
        "        send_slack_message(message, slack_webhook_url)\n",
        "        print(message)\n",
        "\n",
        "        second_status, second_sync_result, second_start, second_duration = trigger_sync_and_check(second_connection_id)\n",
        "        if \"SUCCEEDED\" in second_status:\n",
        "            message = f\"Second sync succeeded (Connection ID: {second_connection_id}).\\nDetails:\\n{format_sync_details(second_sync_result, second_start, second_duration)}\"\n",
        "        else:\n",
        "            message = f\"Second sync failed (Connection ID: {second_connection_id}). Status: {second_status}\\nDetails:\\n{format_sync_details(second_sync_result, second_start, second_duration)}\"\n",
        "    else:\n",
        "        message = f\"First sync failed (Connection ID: {first_connection_id}). Status: {first_status}\\nDetails:\\n{format_sync_details(first_sync_result, first_start, first_duration)}\\nSecond sync not initiated.\"\n",
        "\n",
        "    send_slack_message(message, slack_webhook_url)\n",
        "    print(message)"
      ],
      "metadata": {
        "id": "geGeKxan8jc1"
      },
      "execution_count": null,
      "outputs": []
    },
    {
      "cell_type": "code",
      "source": [
        "run_syncs()"
      ],
      "metadata": {
        "colab": {
          "base_uri": "https://localhost:8080/"
        },
        "id": "bOODO9mw850l",
        "outputId": "b431b0db-ad1e-4e9a-eb96-823910d66b54"
      },
      "execution_count": null,
      "outputs": [
        {
          "output_type": "stream",
          "name": "stdout",
          "text": [
            "First sync succeeded (Connection ID: df2898ce-b21f-43c0-8c82-bd8c6dd24931).\n",
            "Details:\n",
            "Job ID: 10575770\n",
            "Start Time: 2024-04-16 20:08:57\n",
            "Duration: 155.78 seconds\n",
            "Records Synced: 2100\n",
            "Bytes Synced: 766685\n",
            "Job URL: https://api.airbyte.com/v1/workspaces/ab2f3ba2-94e6-45b9-9d26-58b3f1d52295/connections/df2898ce-b21f-43c0-8c82-bd8c6dd24931/job-history/10575770\n",
            "Proceeding to second sync.\n",
            "Second sync succeeded (Connection ID: 86075252-9004-41fc-b5e3-f61f20388ff5).\n",
            "Details:\n",
            "Job ID: 10575853\n",
            "Start Time: 2024-04-16 20:11:32\n",
            "Duration: 123.54 seconds\n",
            "Records Synced: 1\n",
            "Bytes Synced: 214665\n",
            "Job URL: https://api.airbyte.com/v1/workspaces/ab2f3ba2-94e6-45b9-9d26-58b3f1d52295/connections/86075252-9004-41fc-b5e3-f61f20388ff5/job-history/10575853\n"
          ]
        }
      ]
    },
    {
      "cell_type": "markdown",
      "source": [
        "## Job execution timeline visualization\n",
        "With the data collected from the syncs we previously ran using PyAirbyte, we can create a visualization that provides a clear and intuitive representation of a series of job executions over time.\n",
        "\n",
        "Each job is displayed as a rectangle along a timeline, where the width of each rectangle corresponds to the job's duration. The colors indicate the status of each job—green for successful completions and yellow for failures. This graph is particularly useful for quickly assessing the overall health and efficiency of a workflow. It allows viewers to see at a glance:\n",
        "\n",
        "- Job Durations: How long each job took to complete.\n",
        "- Job Start Times: When each job began relative to the start of the timeline.\n",
        "- Job Outcomes: The success or failure of each job."
      ],
      "metadata": {
        "id": "rPhUDRYOtPcr"
      }
    },
    {
      "cell_type": "code",
      "source": [
        "import matplotlib.pyplot as plt\n",
        "import matplotlib.patches as patches\n",
        "from datetime import datetime, timedelta\n",
        "\n",
        "def get_color(status):\n",
        "    \"\"\"Returns color based on the job status.\"\"\"\n",
        "    if \"SUCCEEDED\" in status:\n",
        "        return 'green'  # Green for success\n",
        "    elif \"FAILED\" in status:\n",
        "        return 'yellow'  # Yellow for failure\n",
        "    else:\n",
        "        return 'gray'  # Gray for any other status\n",
        "\n",
        "def draw_job_graph(job_data):\n",
        "    \"\"\"Draws a graph of job executions where rectangles represent the duration and color indicates status.\"\"\"\n",
        "    fig, ax = plt.subplots(figsize=(14, 3))\n",
        "\n",
        "    # Start position and time tracking\n",
        "    start_time = min(job['start_time'] for job in job_data)  # Find the earliest start time\n",
        "    end_time = max(job['start_time'] + timedelta(seconds=job['duration']) for job in job_data)  # Find the latest end time\n",
        "    total_duration = (end_time - start_time).total_seconds()\n",
        "\n",
        "    for job in job_data:\n",
        "        start_offset = (job['start_time'] - start_time).total_seconds()\n",
        "        width = job['duration']  # Duration in seconds\n",
        "        color = get_color(job['status'])  # Get color based on job status\n",
        "        rect = patches.Rectangle((start_offset, 0), width, 1, linewidth=1, edgecolor='black', facecolor=color)\n",
        "        ax.add_patch(rect)\n",
        "\n",
        "        # Adding text inside the rectangle\n",
        "        ax.text(start_offset + width / 2, 0.5, f\"{job['connection_id']} ({job['duration']}s)\",\n",
        "                verticalalignment='center', horizontalalignment='center', color='black', fontweight='bold')\n",
        "\n",
        "    # Set the limits and labels of the x-axis\n",
        "    ax.set_xlim(0, total_duration)\n",
        "    ax.set_ylim(-0.5, 1.5)\n",
        "    ax.set_xlabel(\"Time (seconds from start)\")\n",
        "    ax.set_title('Job Execution Timeline')\n",
        "    plt.xticks(range(0, int(total_duration) + 1, 20))  # Set x-ticks to appear every 20 seconds\n",
        "    plt.yticks([])\n",
        "    plt.grid(True, which='both', axis='x', linestyle='--', linewidth=0.5)\n",
        "    plt.show()"
      ],
      "metadata": {
        "id": "AsOSYXuMi1mS"
      },
      "execution_count": null,
      "outputs": []
    },
    {
      "cell_type": "markdown",
      "source": [
        "## Visualize sync results"
      ],
      "metadata": {
        "id": "eWejfDkBv07x"
      }
    },
    {
      "cell_type": "code",
      "source": [
        "draw_job_graph(job_data)"
      ],
      "metadata": {
        "colab": {
          "base_uri": "https://localhost:8080/",
          "height": 333
        },
        "id": "dGIhuTDxjAPF",
        "outputId": "cf09410f-3b6b-4037-d152-2e6b5a7f0499"
      },
      "execution_count": null,
      "outputs": [
        {
          "output_type": "display_data",
          "data": {
            "text/plain": [
              "<Figure size 1400x300 with 1 Axes>"
            ],
            "image/png": "[encoded data removed]"
          },
          "metadata": {}
        }
      ]
    }
  ]
}