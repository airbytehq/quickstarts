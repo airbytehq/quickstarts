{
  "cells": [
    {
      "cell_type": "markdown",
      "metadata": {
        "id": "3s3Jow7_BjQi"
      },
      "source": [
        "# Scraping Web Data from Apify Source into Airbyte for LangChain\n",
        "\n",
        "This tutorial will demonstrate how to scrape data from a website using Apify, load the scraped data using PyAirbyte, and store the data in a database using LangChain.\n",
        "Integrating web data into LLMs can enhance their performance by providing up-to-date and relevant information. This process can be complex, and this guide aims to simplify it for users.\n",
        "\n",
        "## Prerequisites\n",
        "\n",
        "1. **Apify Account**:\n",
        "   - Follow the instructions in the [Apify](https://docs.airbyte.com/integrations/sources/apify-dataset) to set up your apify account and obtain the necessary access keys.\n",
        "\n",
        "2. **Pinecone Account**:\n",
        "   - **Create a Pinecone Account**: Sign up for an account on the [Pinecone website](https://www.pinecone.io/).\n",
        "   - **Obtain Pinecone API Key**: Generate a new API key from your Pinecone project settings. For detailed instructions, refer to the [Pinecone documentation](https://docs.pinecone.io/docs/quickstart).\n",
        "\n",
        "3. **OpenAI API Key**:\n",
        "   - **Create an OpenAI Account**: Sign up for an account on [OpenAI](https://platform.openai.com/docs/overview).\n",
        "   - **Generate an API Key**: Go to the API section and generate a new API key. For detailed instructions, refer to the [OpenAI documentation](https://platform.openai.com/api-keys).\n",
        "\n",
        "\n",
        "## Install PyAirbyte and other dependencies"
      ]
    },
    {
      "cell_type": "code",
      "execution_count": null,
      "metadata": {
        "id": "ij3THvimBjQk"
      },
      "outputs": [],
      "source": [
        "# Add virtual environment support in Google Colab\n",
        "!apt-get install -qq python3.10-venv\n",
        "\n",
        "# First, we need to install the necessary libraries.\n",
        "!pip3 install airbyte openai langchain pinecone-client langchain-openai langchain-pinecone python-dotenv langchainhub"
      ]
    },
    {
      "cell_type": "markdown",
      "metadata": {
        "id": "8jDsEZdiBjQl"
      },
      "source": [
        "## Setup Source Apify with PyAirbyte\n",
        "\n",
        "The provided code configures an Airbyte source to extract data from specific dataset in apify.\n",
        "\n",
        "To configure according to your requirements, you can refer to [this references](https://docs.airbyte.com/integrations/sources/apify-dataset#reference).\n",
        "\n",
        "Note: The credentials are retrieved securely using the get_secret() method. This will automatically locate a matching Google Colab secret or environment variable, ensuring they are not hard-coded into the notebook. Make sure to add your key to the Secrets section on the left.\n"
      ]
    },
    {
      "cell_type": "code",
      "execution_count": null,
      "metadata": {
        "id": "U7DxyLVUBjQl"
      },
      "outputs": [],
      "source": [
        "import airbyte as ab\n",
        "\n",
        "source = ab.get_source(\n",
        "    \"source-apify-dataset\",\n",
        "    config={\n",
        "        \"token\": ab.get_secret(\"API_TOKEN\"),\n",
        "        \"dataset_id\": ab.get_secret(\"DATASET_ID\"),\n",
        "    }\n",
        ")\n",
        "source.check()"
      ]
    },
    {
      "cell_type": "markdown",
      "metadata": {
        "id": "rtSCjGcQBjQl"
      },
      "source": [
        "This is a basic process of fetching data from Apify dataset using Airbyte and converting it into a format suitable for further processing or analysis."
      ]
    },
    {
      "cell_type": "code",
      "execution_count": null,
      "metadata": {
        "id": "mlg7K8GUBjQm"
      },
      "outputs": [],
      "source": [
        "source.select_all_streams() # Select all streams\n",
        "read_result = source.read() # Read the data\n",
        "review_list = [doc for doc in read_result[\"item_collection\"].to_documents()] # We are only intrested in item_collection stream only\n",
        "\n",
        "print(str(review_list[10]))"
      ]
    },
    {
      "cell_type": "markdown",
      "metadata": {
        "id": "L6KM7KPMBjQm"
      },
      "source": [
        "# Use Langchain to build a RAG pipeline.\n",
        "\n",
        "The code uses RecursiveCharacterTextSplitter to break documents into smaller chunks. Metadata within these chunks is converted to strings. This facilitates efficient processing of large texts, enhancing analysis capabilities."
      ]
    },
    {
      "cell_type": "code",
      "execution_count": null,
      "metadata": {
        "id": "LXvSJoUSBjQm",
        "colab": {
          "base_uri": "https://localhost:8080/"
        },
        "outputId": "eb25babf-f917-4f1d-8970-5e8acd132776"
      },
      "outputs": [
        {
          "output_type": "stream",
          "name": "stdout",
          "text": [
            "Created 493 document chunks.\n"
          ]
        }
      ],
      "source": [
        "\n",
        "from langchain.text_splitter import RecursiveCharacterTextSplitter\n",
        "\n",
        "splitter = RecursiveCharacterTextSplitter(chunk_size=512, chunk_overlap=50)\n",
        "chunked_docs = splitter.split_documents(review_list)\n",
        "print(f\"Created {len(chunked_docs)} document chunks.\")\n",
        "\n",
        "for doc in chunked_docs:\n",
        "    for md in doc.metadata:\n",
        "        doc.metadata[md] = str(doc.metadata[md])"
      ]
    },
    {
      "cell_type": "code",
      "execution_count": null,
      "metadata": {
        "id": "kCF7gZTMBjQm"
      },
      "outputs": [],
      "source": [
        "from langchain_openai import OpenAIEmbeddings\n",
        "import os\n",
        "\n",
        "os.environ['OPENAI_API_KEY'] = ab.get_secret(\"OPENAI_API_KEY\")\n",
        "## Embedding Technique Of OPENAI\n",
        "embeddings=OpenAIEmbeddings()"
      ]
    },
    {
      "cell_type": "markdown",
      "metadata": {
        "id": "5TKCIAhYBjQm"
      },
      "source": [
        "## Setting up Pinecone\n",
        "\n",
        "Pinecone is a managed vector database service designed for storing, indexing, and querying high-dimensional vector data efficiently."
      ]
    },
    {
      "cell_type": "code",
      "execution_count": null,
      "metadata": {
        "id": "iXb5YPnhBjQn"
      },
      "outputs": [],
      "source": [
        "from pinecone import Pinecone, ServerlessSpec\n",
        "from pinecone import Pinecone\n",
        "\n",
        "os.environ['PINECONE_API_KEY'] = ab.get_secret(\"PINECONE_API_KEY\")\n",
        "pc = Pinecone()\n",
        "index_name = \"apifyproductreview\" # Replace with your index name\n",
        "\n",
        "\n",
        "# Uncomment this if you have not created a Pinecone index yet\n",
        "\n",
        "spec = ServerlessSpec(cloud=\"aws\", region=\"us-east-1\") # Replace with your cloud and region\n",
        "pc.create_index(\n",
        "        name = index_name,\n",
        "        dimension=1536, # Replace with your model dimensions\n",
        "        metric='cosine', # Replace with your model metric\n",
        "        spec=spec\n",
        ")\n",
        "\n",
        "index = pc.Index(index_name)\n",
        "\n",
        "index.describe_index_stats()"
      ]
    },
    {
      "cell_type": "markdown",
      "metadata": {
        "id": "6kRv6s7zBjQn"
      },
      "source": [
        "PineconeVectorStore is a class provided by the LangChain library specifically designed for interacting with Pinecone vector stores.\n",
        "from_documents method of PineconeVectorStore is used to create or update vectors in a Pinecone vector store based on the provided documents and their corresponding embeddings."
      ]
    },
    {
      "cell_type": "code",
      "execution_count": null,
      "metadata": {
        "id": "3hToKOPsBjQn"
      },
      "outputs": [],
      "source": [
        "from langchain_pinecone import PineconeVectorStore\n",
        "\n",
        "pinecone = PineconeVectorStore.from_documents(\n",
        "    chunked_docs, embeddings, index_name=index_name\n",
        ")"
      ]
    },
    {
      "cell_type": "markdown",
      "metadata": {
        "id": "vj0hSWo2BjQn"
      },
      "source": [
        "Now setting up a pipeline for RAG using LangChain, incorporating document retrieval from Pinecone, prompt configuration, and a chat model from OpenAI for response generation."
      ]
    },
    {
      "cell_type": "code",
      "execution_count": null,
      "metadata": {
        "id": "N0gE_LbmBjQn"
      },
      "outputs": [],
      "source": [
        "from langchain_openai import ChatOpenAI\n",
        "from langchain import hub\n",
        "from langchain_core.output_parsers import StrOutputParser\n",
        "from langchain_core.runnables import RunnablePassthrough\n",
        "\n",
        "retriever = pinecone.as_retriever()\n",
        "prompt = hub.pull(\"rlm/rag-prompt\")\n",
        "llm = ChatOpenAI(model_name=\"gpt-3.5-turbo\", temperature=0)\n",
        "\n",
        "\n",
        "def format_docs(docs):\n",
        "    return \"\\n\\n\".join(doc.page_content for doc in docs)\n",
        "\n",
        "rag_chain = (\n",
        "    {\"context\": retriever | format_docs, \"question\": RunnablePassthrough()}\n",
        "    | prompt\n",
        "    | llm\n",
        "    | StrOutputParser()\n",
        ")\n",
        "print(\"Langchain RAG pipeline set up successfully.\")\n"
      ]
    },
    {
      "cell_type": "code",
      "execution_count": null,
      "metadata": {
        "id": "axbwi9j8BjQn"
      },
      "outputs": [],
      "source": [
        "print(rag_chain.invoke(\"What is overall review of products\"))\n"
      ]
    }
  ],
  "metadata": {
    "colab": {
      "provenance": []
    },
    "kernelspec": {
      "display_name": "myenv",
      "language": "python",
      "name": "python3"
    },
    "language_info": {
      "codemirror_mode": {
        "name": "ipython",
        "version": 3
      },
      "file_extension": ".py",
      "mimetype": "text/x-python",
      "name": "python",
      "nbconvert_exporter": "python",
      "pygments_lexer": "ipython3",
      "version": "3.10.11"
    }
  },
  "nbformat": 4,
  "nbformat_minor": 0
}