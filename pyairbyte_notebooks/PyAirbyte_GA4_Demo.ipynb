{
  "cells": [
    {
      "cell_type": "markdown",
      "metadata": {
        "colab_type": "text",
        "id": "view-in-github"
      },
      "source": [
        "<a href=\"https://colab.research.google.com/github/airbytehq/quickstarts/blob/master/airbyte_lib_notebooks/AirbyteLib_GA4_Demo.ipynb\" target=\"_parent\"><img src=\"https://colab.research.google.com/assets/colab-badge.svg\" alt=\"Open In Colab\"/></a>\n"
      ]
    },
    {
      "cell_type": "markdown",
      "metadata": {
        "id": "En5baAhvYE_y"
      },
      "source": [
        "In this demo, we use PyAirbyte to extract data from Google Analytics 4, followed by a series of transformations and analyses to derive meaningful insights from this data.\n",
        "\n",
        "#### Prerequisites:\n",
        "\n",
        "-   A Google Analytics account with access to a GA4 property. For details on configuring authetication credentials, refer to the [documentation](https://docs.airbyte.com/integrations/sources/google-analytics-data-api).\n"
      ]
    },
    {
      "cell_type": "markdown",
      "metadata": {
        "id": "8awBDcLvRW2g"
      },
      "source": [
        "### Installing PyAirbyte\n"
      ]
    },
    {
      "cell_type": "code",
      "execution_count": null,
      "metadata": {
        "id": "xrhNw5kK5Lvx"
      },
      "outputs": [],
      "source": [
        "# Add virtual environment support in Google Colab\n",
        "!apt-get install -qq python3.10-venv\n",
        "\n",
        "# Install PyAirbyte\n",
        "%pip install airbyte"
      ]
    },
    {
      "cell_type": "markdown",
      "metadata": {
        "id": "mYsTAS1wRgO_"
      },
      "source": [
        "### Load source data from Google Analytics 4 to local cache\n",
        "\n",
        "In this section, we establish a connection to GA4 via PyAirbyte. The source connector is configured with necessary parameters like the GA4 property ID, the service account JSON key, and the data period we are interested in. Check the [docs](https://docs.airbyte.com/integrations/sources/google-analytics-data-api) for more details on these parameters.\n",
        "\n",
        "After configuring the source connector, we perform a `check()` to ensure that the configuration is correct and the connection to the API is successful. Then, we list the available streams for this source and select the ones we are interested in syncing. In this case, we are only syncing the `pages` stream.\n",
        "\n",
        "Then, we proceed to read from the source into the internal DuckDB cache.\n",
        "\n",
        "Note: The credentials are retrieved securely using the `get_secret()` method. This will automatically locate a matching Google Colab secret or environment variable, ensuring they are not hard-coded into the notebook. Make sure to add your key to the Secrets section on the left.\n"
      ]
    },
    {
      "cell_type": "code",
      "execution_count": null,
      "metadata": {
        "colab": {
          "base_uri": "https://localhost:8080/",
          "height": 166
        },
        "id": "9em82J2Q5WzN",
        "outputId": "f1b3fc28-cb4b-4f0f-d412-b702005c2e72"
      },
      "outputs": [
        {
          "data": {
            "text/html": [
              "<pre style=\"white-space:pre;overflow-x:auto;line-height:normal;font-family:Menlo,'DejaVu Sans Mono',consolas,'Courier New',monospace\">Installing <span style=\"color: #008000; text-decoration-color: #008000\">'source-google-analytics-data-api'</span> into virtual environment \n",
              "<span style=\"color: #008000; text-decoration-color: #008000\">'/content/.venv-source-google-analytics-data-api'</span>.\n",
              "Running <span style=\"color: #008000; text-decoration-color: #008000\">'pip install airbyte-source-google-analytics-data-api'</span><span style=\"color: #808000; text-decoration-color: #808000\">...</span>\n",
              "\n",
              "</pre>\n"
            ],
            "text/plain": [
              "Installing \u001b[32m'source-google-analytics-data-api'\u001b[0m into virtual environment \n",
              "\u001b[32m'/content/.venv-source-google-analytics-data-api'\u001b[0m.\n",
              "Running \u001b[32m'pip install airbyte-source-google-analytics-data-api'\u001b[0m\u001b[33m...\u001b[0m\n",
              "\n"
            ]
          },
          "metadata": {},
          "output_type": "display_data"
        },
        {
          "data": {
            "text/html": [
              "<pre style=\"white-space:pre;overflow-x:auto;line-height:normal;font-family:Menlo,'DejaVu Sans Mono',consolas,'Courier New',monospace\">Connector <span style=\"color: #008000; text-decoration-color: #008000\">'source-google-analytics-data-api'</span> installed successfully!\n",
              "For more information, see the source-google-analytics-data-api documentation:\n",
              "<span style=\"color: #0000ff; text-decoration-color: #0000ff; text-decoration: underline\">https://docs.airbyte.com/integrations/sources/google-analytics-data-api#reference</span>\n",
              "\n",
              "</pre>\n"
            ],
            "text/plain": [
              "Connector \u001b[32m'source-google-analytics-data-api'\u001b[0m installed successfully!\n",
              "For more information, see the source-google-analytics-data-api documentation:\n",
              "\u001b[4;94mhttps://docs.airbyte.com/integrations/sources/google-analytics-data-api#reference\u001b[0m\n",
              "\n"
            ]
          },
          "metadata": {},
          "output_type": "display_data"
        },
        {
          "data": {
            "text/html": [
              "<pre style=\"white-space:pre;overflow-x:auto;line-height:normal;font-family:Menlo,'DejaVu Sans Mono',consolas,'Courier New',monospace\">Connection check succeeded for `source-google-analytics-data-api`.\n",
              "</pre>\n"
            ],
            "text/plain": [
              "Connection check succeeded for `source-google-analytics-data-api`.\n"
            ]
          },
          "metadata": {},
          "output_type": "display_data"
        }
      ],
      "source": [
        "import airbyte as ab\n",
        "\n",
        "# Create and configure the source connector:\n",
        "source = ab.get_source(\n",
        "    \"source-google-analytics-data-api\",\n",
        "    install_if_missing=True,\n",
        "    config={\n",
        "        \"property_ids\": [ab.get_secret(\"GA4_PROPERTY_ID\")],\n",
        "        \"date_ranges_start_date\": \"2023-10-01\",\n",
        "        \"credentials\": {\n",
        "            \"credentials_json\": ab.get_secret(\"GA4_JSON_KEY\"),\n",
        "            \"auth_type\": \"Service\",\n",
        "        },\n",
        "    },\n",
        ")\n",
        "\n",
        "# Verify the config and creds by running `check`:\n",
        "source.check()"
      ]
    },
    {
      "cell_type": "code",
      "execution_count": null,
      "metadata": {
        "colab": {
          "base_uri": "https://localhost:8080/"
        },
        "id": "Y5H9BNlgOT6J",
        "outputId": "3557acb8-6d15-4d97-9b69-5595201c0a85"
      },
      "outputs": [
        {
          "data": {
            "text/plain": [
              "['daily_active_users',\n",
              " 'weekly_active_users',\n",
              " 'four_weekly_active_users',\n",
              " 'devices',\n",
              " 'locations',\n",
              " 'pages',\n",
              " 'traffic_sources',\n",
              " 'website_overview',\n",
              " 'user_acquisition_first_user_medium_report',\n",
              " 'user_acquisition_first_user_source_report',\n",
              " 'user_acquisition_first_user_source_medium_report',\n",
              " 'user_acquisition_first_user_source_platform_report',\n",
              " 'user_acquisition_first_user_campaign_report',\n",
              " 'user_acquisition_first_user_google_ads_ad_network_type_report',\n",
              " 'user_acquisition_first_user_google_ads_ad_group_name_report',\n",
              " 'traffic_acquisition_session_source_medium_report',\n",
              " 'traffic_acquisition_session_medium_report',\n",
              " 'traffic_acquisition_session_source_report',\n",
              " 'traffic_acquisition_session_campaign_report',\n",
              " 'traffic_acquisition_session_default_channel_grouping_report',\n",
              " 'traffic_acquisition_session_source_platform_report',\n",
              " 'events_report',\n",
              " 'weekly_events_report',\n",
              " 'conversions_report',\n",
              " 'pages_title_and_screen_class_report',\n",
              " 'pages_path_report',\n",
              " 'pages_title_and_screen_name_report',\n",
              " 'content_group_report',\n",
              " 'ecommerce_purchases_item_name_report',\n",
              " 'ecommerce_purchases_item_id_report',\n",
              " 'ecommerce_purchases_item_category_report_combined',\n",
              " 'ecommerce_purchases_item_category_report',\n",
              " 'ecommerce_purchases_item_category_2_report',\n",
              " 'ecommerce_purchases_item_category_3_report',\n",
              " 'ecommerce_purchases_item_category_4_report',\n",
              " 'ecommerce_purchases_item_category_5_report',\n",
              " 'ecommerce_purchases_item_brand_report',\n",
              " 'publisher_ads_ad_unit_report',\n",
              " 'publisher_ads_page_path_report',\n",
              " 'publisher_ads_ad_format_report',\n",
              " 'publisher_ads_ad_source_report',\n",
              " 'demographic_country_report',\n",
              " 'demographic_region_report',\n",
              " 'demographic_city_report',\n",
              " 'demographic_language_report',\n",
              " 'demographic_age_report',\n",
              " 'demographic_gender_report',\n",
              " 'demographic_interest_report',\n",
              " 'tech_browser_report',\n",
              " 'tech_device_category_report',\n",
              " 'tech_device_model_report',\n",
              " 'tech_screen_resolution_report',\n",
              " 'tech_app_version_report',\n",
              " 'tech_platform_report',\n",
              " 'tech_platform_device_category_report',\n",
              " 'tech_operating_system_report',\n",
              " 'tech_os_with_version_report']"
            ]
          },
          "execution_count": 3,
          "metadata": {},
          "output_type": "execute_result"
        }
      ],
      "source": [
        "# List the available streams available for GA4 source\n",
        "source.get_available_streams()"
      ]
    },
    {
      "cell_type": "code",
      "execution_count": null,
      "metadata": {
        "colab": {
          "base_uri": "https://localhost:8080/",
          "height": 303,
          "referenced_widgets": [
            "733f09d5b4584b0382560faab0629b0c",
            "3330876bb7d547b28191270cb53c3e57",
            "42b10528846241e0aac16458a1b8655f",
            "d7c54b0aaa4442a19254501027caf793",
            "24a7bb9210cc4c00b19f12715f36ef8a",
            "3031c476bc464ed08e90b5e91ee6393b"
          ]
        },
        "id": "4btpDgjkulF0",
        "outputId": "bbedf001-9441-432d-9f69-7d9b5ae121fc"
      },
      "outputs": [
        {
          "data": {
            "text/markdown": [
              "## Read Progress\n",
              "\n",
              "Started reading at 21:14:13.\n",
              "\n",
              "Read **901,527** records over **8min 0s** (1,878.2 records / second).\n",
              "\n",
              "Wrote **901,527** records over 91 batches.\n",
              "\n",
              "Finished reading at 21:22:14.\n",
              "\n",
              "Started finalizing streams at 21:22:14.\n",
              "\n",
              "Finalized **91** batches over 6 seconds.\n",
              "\n",
              "Completed 1 out of 1 streams:\n",
              "\n",
              "  - pages\n",
              "\n",
              "\n",
              "Completed writing at 21:22:21. Total time elapsed: 8min 7s\n",
              "\n",
              "\n",
              "------------------------------------------------\n"
            ],
            "text/plain": [
              "<IPython.core.display.Markdown object>"
            ]
          },
          "metadata": {},
          "output_type": "display_data"
        },
        {
          "data": {
            "text/html": [
              "<pre style=\"white-space:pre;overflow-x:auto;line-height:normal;font-family:Menlo,'DejaVu Sans Mono',consolas,'Courier New',monospace\">Completed `source-google-analytics-data-api` read operation at <span style=\"color: #00ff00; text-decoration-color: #00ff00; font-weight: bold\">21:22:21</span>.\n",
              "</pre>\n"
            ],
            "text/plain": [
              "Completed `source-google-analytics-data-api` read operation at \u001b[1;92m21:22:21\u001b[0m.\n"
            ]
          },
          "metadata": {},
          "output_type": "display_data"
        }
      ],
      "source": [
        "# Select the streams we are interested in loading to cache\n",
        "source.select_streams([\"pages\"])\n",
        "\n",
        "# Read into DuckDB local default cache\n",
        "cache = ab.get_default_cache()\n",
        "result = source.read(cache=cache)"
      ]
    },
    {
      "cell_type": "markdown",
      "metadata": {
        "id": "Y98iL4XxtINW"
      },
      "source": [
        "### Read data from the cache\n",
        "\n",
        "Read from the already-written DuckDB cache into a pandas Dataframe. After the data is in the cache, you can read it without re-configuring or re-creating the source object. You can also select a stream to read from.\n"
      ]
    },
    {
      "cell_type": "code",
      "execution_count": null,
      "metadata": {
        "id": "yjzVJH6BtOpW"
      },
      "outputs": [],
      "source": [
        "# Read from the cache into a pandas Dataframe:\n",
        "pages_df = cache.get_pandas_dataframe(stream_name=\"pages\")"
      ]
    },
    {
      "cell_type": "markdown",
      "metadata": {
        "id": "nUXbpYeuvKEf"
      },
      "source": [
        "### Transform and analyze the data\n",
        "\n",
        "Let's take our pages data and run some analysis with `pandas` and `matplotlib`.\n"
      ]
    },
    {
      "cell_type": "code",
      "execution_count": null,
      "metadata": {
        "id": "8HHsoj07vvHV"
      },
      "outputs": [],
      "source": [
        "import pandas as pd\n",
        "import matplotlib.pyplot as plt\n",
        "\n",
        "# Convert 'date' to datetime format\n",
        "pages_df[\"date\"] = pd.to_datetime(pages_df[\"date\"], format=\"%Y%m%d\")\n",
        "\n",
        "# Convert 'screenpageviews' to integers\n",
        "pages_df[\"screenpageviews\"] = pd.to_numeric(\n",
        "    pages_df[\"screenpageviews\"], errors=\"coerce\"\n",
        ")\n",
        "\n",
        "# Convert 'bouncerate' to floats\n",
        "pages_df[\"bouncerate\"] = pd.to_numeric(pages_df[\"bouncerate\"], errors=\"coerce\")"
      ]
    },
    {
      "cell_type": "markdown",
      "metadata": {
        "id": "DUfKikLt6bCF"
      },
      "source": [
        "#### Trend Analysis Over Time\n",
        "\n",
        "Let's aggregate data by date and observe trends in total pageviews and average bounce rate over time.\n"
      ]
    },
    {
      "cell_type": "code",
      "execution_count": null,
      "metadata": {
        "colab": {
          "base_uri": "https://localhost:8080/",
          "height": 564
        },
        "id": "8sMWEbrFxum0",
        "outputId": "be947d1e-0656-41ea-9601-9ff15ecc0e89"
      },
      "outputs": [],
      "source": [
        "# Aggregate data by date\n",
        "trends = pages_df.groupby(\"date\").agg(\n",
        "    total_pageviews=(\"screenpageviews\", \"sum\"),\n",
        "    average_bounce_rate=(\"bouncerate\", \"mean\"),\n",
        ")\n",
        "\n",
        "# Plotting the trends\n",
        "fig, ax1 = plt.subplots(figsize=(12, 6))\n",
        "\n",
        "ax1.set_xlabel(\"Date\")\n",
        "ax1.set_ylabel(\"Total Pageviews\", color=\"tab:blue\")\n",
        "ax1.plot(trends.index, trends[\"total_pageviews\"], color=\"tab:blue\")\n",
        "ax1.tick_params(axis=\"y\", labelcolor=\"tab:blue\")\n",
        "\n",
        "ax2 = ax1.twinx()\n",
        "ax2.set_ylabel(\"Average Bounce Rate\", color=\"tab:green\")\n",
        "ax2.plot(trends.index, trends[\"average_bounce_rate\"], color=\"tab:green\")\n",
        "ax2.tick_params(axis=\"y\", labelcolor=\"tab:green\")\n",
        "\n",
        "plt.title(\"Trends in Total Pageviews and Average Bounce Rate Over Time\")\n",
        "plt.show()"
      ]
    },
    {
      "cell_type": "markdown",
      "metadata": {
        "id": "xLEqImdc8kf9"
      },
      "source": [
        "#### Segmentation of Data by Date or Page Type\n",
        "\n",
        "Compare metrics on weekdays versus weekends or across different types of pages.\n"
      ]
    },
    {
      "cell_type": "code",
      "execution_count": null,
      "metadata": {
        "colab": {
          "base_uri": "https://localhost:8080/",
          "height": 1000
        },
        "id": "dekYkkauAL6K",
        "outputId": "40ddf88c-d2b7-4d85-dda4-31b29589b5d7"
      },
      "outputs": [],
      "source": [
        "import seaborn as sns\n",
        "\n",
        "# Label rows as 'Weekday' or 'Weekend'\n",
        "pages_df[\"day_type\"] = pages_df[\"day_of_week\"].apply(\n",
        "    lambda x: \"Weekend\" if x in [\"Saturday\", \"Sunday\"] else \"Weekday\"\n",
        ")\n",
        "\n",
        "# Aggregating data for weekday vs weekend\n",
        "day_type_agg = (\n",
        "    pages_df.groupby(\"day_type\")\n",
        "    .agg(\n",
        "        average_pageviews=(\"screenpageviews\", \"mean\"),\n",
        "        average_bounce_rate=(\"bouncerate\", \"mean\"),\n",
        "    )\n",
        "    .reset_index()\n",
        ")\n",
        "\n",
        "# Plotting Average Pageviews\n",
        "plt.figure(figsize=(12, 6))\n",
        "sns.barplot(x=\"day_type\", y=\"average_pageviews\", data=day_type_agg, palette=\"coolwarm\")\n",
        "plt.title(\"Average Pageviews: Weekdays vs Weekends\")\n",
        "plt.ylabel(\"Average Pageviews\")\n",
        "plt.show()\n",
        "\n",
        "# Plotting Average Bounce Rate\n",
        "plt.figure(figsize=(12, 6))\n",
        "sns.barplot(x=\"day_type\", y=\"average_bounce_rate\", data=day_type_agg, palette=\"viridis\")\n",
        "plt.title(\"Average Bounce Rate: Weekdays vs Weekends\")\n",
        "plt.ylabel(\"Average Bounce Rate\")\n",
        "plt.show()"
      ]
    }
  ],
  "metadata": {
    "colab": {
      "include_colab_link": true,
      "provenance": []
    },
    "kernelspec": {
      "display_name": "Python 3",
      "name": "python3"
    },
    "language_info": {
      "name": "python"
    },
    "widgets": {
      "application/vnd.jupyter.widget-state+json": {
        "24a7bb9210cc4c00b19f12715f36ef8a": {
          "model_module": "@jupyter-widgets/base",
          "model_module_version": "1.2.0",
          "model_name": "LayoutModel",
          "state": {
            "_model_module": "@jupyter-widgets/base",
            "_model_module_version": "1.2.0",
            "_model_name": "LayoutModel",
            "_view_count": null,
            "_view_module": "@jupyter-widgets/base",
            "_view_module_version": "1.2.0",
            "_view_name": "LayoutView",
            "align_content": null,
            "align_items": null,
            "align_self": null,
            "border": null,
            "bottom": null,
            "display": null,
            "flex": null,
            "flex_flow": null,
            "grid_area": null,
            "grid_auto_columns": null,
            "grid_auto_flow": null,
            "grid_auto_rows": null,
            "grid_column": null,
            "grid_gap": null,
            "grid_row": null,
            "grid_template_areas": null,
            "grid_template_columns": null,
            "grid_template_rows": null,
            "height": null,
            "justify_content": null,
            "justify_items": null,
            "left": null,
            "margin": null,
            "max_height": null,
            "max_width": null,
            "min_height": null,
            "min_width": null,
            "object_fit": null,
            "object_position": null,
            "order": null,
            "overflow": null,
            "overflow_x": null,
            "overflow_y": null,
            "padding": null,
            "right": null,
            "top": null,
            "visibility": null,
            "width": "auto"
          }
        },
        "3031c476bc464ed08e90b5e91ee6393b": {
          "model_module": "@jupyter-widgets/controls",
          "model_module_version": "1.5.0",
          "model_name": "ProgressStyleModel",
          "state": {
            "_model_module": "@jupyter-widgets/controls",
            "_model_module_version": "1.5.0",
            "_model_name": "ProgressStyleModel",
            "_view_count": null,
            "_view_module": "@jupyter-widgets/base",
            "_view_module_version": "1.2.0",
            "_view_name": "StyleView",
            "bar_color": "black",
            "description_width": ""
          }
        },
        "3330876bb7d547b28191270cb53c3e57": {
          "model_module": "@jupyter-widgets/base",
          "model_module_version": "1.2.0",
          "model_name": "LayoutModel",
          "state": {
            "_model_module": "@jupyter-widgets/base",
            "_model_module_version": "1.2.0",
            "_model_name": "LayoutModel",
            "_view_count": null,
            "_view_module": "@jupyter-widgets/base",
            "_view_module_version": "1.2.0",
            "_view_name": "LayoutView",
            "align_content": null,
            "align_items": null,
            "align_self": null,
            "border": null,
            "bottom": null,
            "display": null,
            "flex": null,
            "flex_flow": null,
            "grid_area": null,
            "grid_auto_columns": null,
            "grid_auto_flow": null,
            "grid_auto_rows": null,
            "grid_column": null,
            "grid_gap": null,
            "grid_row": null,
            "grid_template_areas": null,
            "grid_template_columns": null,
            "grid_template_rows": null,
            "height": null,
            "justify_content": null,
            "justify_items": null,
            "left": null,
            "margin": null,
            "max_height": null,
            "max_width": null,
            "min_height": null,
            "min_width": null,
            "object_fit": null,
            "object_position": null,
            "order": null,
            "overflow": null,
            "overflow_x": null,
            "overflow_y": null,
            "padding": null,
            "right": null,
            "top": null,
            "visibility": null,
            "width": "auto"
          }
        },
        "42b10528846241e0aac16458a1b8655f": {
          "model_module": "@jupyter-widgets/controls",
          "model_module_version": "1.5.0",
          "model_name": "ProgressStyleModel",
          "state": {
            "_model_module": "@jupyter-widgets/controls",
            "_model_module_version": "1.5.0",
            "_model_name": "ProgressStyleModel",
            "_view_count": null,
            "_view_module": "@jupyter-widgets/base",
            "_view_module_version": "1.2.0",
            "_view_name": "StyleView",
            "bar_color": "black",
            "description_width": ""
          }
        },
        "733f09d5b4584b0382560faab0629b0c": {
          "model_module": "@jupyter-widgets/controls",
          "model_module_version": "1.5.0",
          "model_name": "FloatProgressModel",
          "state": {
            "_dom_classes": [],
            "_model_module": "@jupyter-widgets/controls",
            "_model_module_version": "1.5.0",
            "_model_name": "FloatProgressModel",
            "_view_count": null,
            "_view_module": "@jupyter-widgets/controls",
            "_view_module_version": "1.5.0",
            "_view_name": "ProgressView",
            "bar_style": "",
            "description": "",
            "description_tooltip": null,
            "layout": "IPY_MODEL_3330876bb7d547b28191270cb53c3e57",
            "max": 100,
            "min": 0,
            "orientation": "horizontal",
            "style": "IPY_MODEL_42b10528846241e0aac16458a1b8655f",
            "value": 100
          }
        },
        "d7c54b0aaa4442a19254501027caf793": {
          "model_module": "@jupyter-widgets/controls",
          "model_module_version": "1.5.0",
          "model_name": "FloatProgressModel",
          "state": {
            "_dom_classes": [],
            "_model_module": "@jupyter-widgets/controls",
            "_model_module_version": "1.5.0",
            "_model_name": "FloatProgressModel",
            "_view_count": null,
            "_view_module": "@jupyter-widgets/controls",
            "_view_module_version": "1.5.0",
            "_view_name": "ProgressView",
            "bar_style": "",
            "description": "",
            "description_tooltip": null,
            "layout": "IPY_MODEL_24a7bb9210cc4c00b19f12715f36ef8a",
            "max": 100,
            "min": 0,
            "orientation": "horizontal",
            "style": "IPY_MODEL_3031c476bc464ed08e90b5e91ee6393b",
            "value": 100
          }
        }
      }
    }
  },
  "nbformat": 4,
  "nbformat_minor": 0
}
