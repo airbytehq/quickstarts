{
  "cells": [
    {
      "cell_type": "markdown",
      "metadata": {
        "colab_type": "text",
        "id": "view-in-github"
      },
      "source": [
        "<a href=\"https://colab.research.google.com/github/airbytehq/quickstarts/blob/aj%2Fairbyte-lib-quickstart/airbyte_lib_notebooks/AirbyteLib_Basic_Features_Demo.ipynb\" target=\"_parent\"><img src=\"https://colab.research.google.com/assets/colab-badge.svg\" alt=\"Open In Colab\"/></a>"
      ]
    },
    {
      "cell_type": "markdown",
      "metadata": {
        "id": "R8XtHKK4PujA"
      },
      "source": [
        "# AirbyteLib Demo\n",
        "\n",
        "Below is a pre-release demo of AirbyteLib."
      ]
    },
    {
      "cell_type": "markdown",
      "metadata": {
        "id": "Lyxh2NLuQJUf"
      },
      "source": [
        "## Install AirbyteLib"
      ]
    },
    {
      "cell_type": "code",
      "execution_count": 2,
      "metadata": {
        "colab": {
          "base_uri": "https://localhost:8080/"
        },
        "id": "9DEgu1WpQNt-",
        "outputId": "d6b1237a-7c83-43a6-9efb-4b9324217d45"
      },
      "outputs": [
        {
          "name": "stdout",
          "output_type": "stream",
          "text": [
            "E: Could not open lock file /var/lib/dpkg/lock-frontend - open (13: Permission denied)\n",
            "E: Unable to acquire the dpkg frontend lock (/var/lib/dpkg/lock-frontend), are you root?\n",
            "Found existing installation: airbyte-lib 0.1.0.dev2\n",
            "Uninstalling airbyte-lib-0.1.0.dev2:\n",
            "  Successfully uninstalled airbyte-lib-0.1.0.dev2\n",
            "Note: you may need to restart the kernel to use updated packages.\n",
            "\n",
            "\u001b[1m[\u001b[0m\u001b[34;49mnotice\u001b[0m\u001b[1;39;49m]\u001b[0m\u001b[39;49m A new release of pip is available: \u001b[0m\u001b[31;49m23.0.1\u001b[0m\u001b[39;49m -> \u001b[0m\u001b[32;49m23.3.2\u001b[0m\n",
            "\u001b[1m[\u001b[0m\u001b[34;49mnotice\u001b[0m\u001b[1;39;49m]\u001b[0m\u001b[39;49m To update, run: \u001b[0m\u001b[32;49mpip install --upgrade pip\u001b[0m\n",
            "Note: you may need to restart the kernel to use updated packages.\n"
          ]
        }
      ],
      "source": [
        "# Add virtual environment support for running in Google Colab ()\n",
        "!apt-get install -qq python3.10-venv\n",
        "\n",
        "# Declare airbyte-lib source repo\n",
        "airbyte_repo = \"https://github.com/airbytehq/airbyte\"\n",
        "airbytelib_branch = \"master\"\n",
        "\n",
        "# Uninstall/reinstall airbyte-lib\n",
        "%pip uninstall -y airbyte-lib\n",
        "%pip install --quiet 'git+{airbyte_repo}.git@{airbytelib_branch}#egg=airbyte-lib&subdirectory=airbyte-lib'"
      ]
    },
    {
      "cell_type": "code",
      "execution_count": 27,
      "metadata": {
        "id": "myO8qaSKt_S4"
      },
      "outputs": [],
      "source": [
        "# Test that the install was successful\n",
        "import airbyte_lib as ab"
      ]
    },
    {
      "cell_type": "markdown",
      "metadata": {
        "id": "JWWeEbTVEDFz"
      },
      "source": [
        "## Load the Source Data using AirbyteLib"
      ]
    },
    {
      "cell_type": "markdown",
      "metadata": {
        "id": "1PhfWpS8QVzE"
      },
      "source": [
        "Create and install a source connector:"
      ]
    },
    {
      "cell_type": "code",
      "execution_count": 28,
      "metadata": {
        "id": "5BI9hIeUvxXE"
      },
      "outputs": [
        {
          "name": "stderr",
          "output_type": "stream",
          "text": [
            "Traceback (most recent call last):\n",
            "  File \"<string>\", line 1, in <module>\n",
            "  File \"/usr/local/lib/python3.10/importlib/metadata/__init__.py\", line 996, in version\n",
            "    return distribution(distribution_name).version\n",
            "  File \"/usr/local/lib/python3.10/importlib/metadata/__init__.py\", line 969, in distribution\n",
            "    return Distribution.from_name(distribution_name)\n",
            "  File \"/usr/local/lib/python3.10/importlib/metadata/__init__.py\", line 548, in from_name\n",
            "    raise PackageNotFoundError(name)\n",
            "importlib.metadata.PackageNotFoundError: No package metadata was found for airbyte-source-faker\n"
          ]
        }
      ],
      "source": [
        "import airbyte_lib as ab\n",
        "\n",
        "# Create and configure the source:\n",
        "source: ab.Source = ab.get_connector(\n",
        "    \"source-faker\",\n",
        "    pip_url=f\"git+{airbyte_repo}.git@master#egg=source-faker&subdirectory=airbyte-integrations/connectors/source-faker\",\n",
        "    install_if_missing=True,\n",
        "    config={\n",
        "        \"count\": 50_000, # Adjust this to get a larger or smaller dataset\n",
        "        \"seed\": 123,\n",
        "    },\n",
        ")"
      ]
    },
    {
      "cell_type": "code",
      "execution_count": 29,
      "metadata": {
        "id": "Ww7NA9cQQjQI"
      },
      "outputs": [
        {
          "name": "stderr",
          "output_type": "stream",
          "text": [
            "Traceback (most recent call last):\n",
            "  File \"<string>\", line 1, in <module>\n",
            "  File \"/usr/local/lib/python3.10/importlib/metadata/__init__.py\", line 996, in version\n",
            "    return distribution(distribution_name).version\n",
            "  File \"/usr/local/lib/python3.10/importlib/metadata/__init__.py\", line 969, in distribution\n",
            "    return Distribution.from_name(distribution_name)\n",
            "  File \"/usr/local/lib/python3.10/importlib/metadata/__init__.py\", line 548, in from_name\n",
            "    raise PackageNotFoundError(name)\n",
            "importlib.metadata.PackageNotFoundError: No package metadata was found for airbyte-source-faker\n"
          ]
        }
      ],
      "source": [
        "# Verify the config and creds by running `check`:\n",
        "source.check()"
      ]
    },
    {
      "cell_type": "markdown",
      "metadata": {
        "id": "Que5DAqtEJu0"
      },
      "source": [
        "## Read Data from the AirbyteLib Cache\n",
        "\n",
        "Once data is read, we can do anything we want to with the resulting streams. This includes `to_pandas()` which registers a Pandas dataframe and `to_sql_table()` which gives us a SQLAlchemy `Table` boject, which we can use to run SQL queries."
      ]
    },
    {
      "cell_type": "code",
      "execution_count": 30,
      "metadata": {
        "colab": {
          "base_uri": "https://localhost:8080/",
          "height": 298
        },
        "id": "qQVRO69c2DoA",
        "outputId": "ba2eec13-e7dc-484a-91d5-91005a8b527a"
      },
      "outputs": [
        {
          "data": {
            "text/markdown": [
              "## Read Progress\n",
              "\n",
              "Started reading at 00:54:17.\n",
              "\n",
              "Read **100,135** records over **34 seconds** (2,945.1 records / second).\n",
              "\n",
              "Wrote **100,100** records over 11 batches.\n",
              "\n",
              "Finished reading at 00:54:52.\n",
              "\n",
              "Started finalizing streams at 00:54:52.\n",
              "\n",
              "Finalized **11** batches over 1 seconds.\n",
              "\n",
              "Completed 3 streams:\n",
              "\n",
              "  - purchases\n",
              "  - users\n",
              "  - products\n",
              "\n",
              "\n",
              "\n",
              "------------------------------------------------\n"
            ],
            "text/plain": [
              "<IPython.core.display.Markdown object>"
            ]
          },
          "metadata": {},
          "output_type": "display_data"
        }
      ],
      "source": [
        "# Read data from the source into the internal cache:\n",
        "read_result: ab.ReadResult = source.read()"
      ]
    },
    {
      "cell_type": "code",
      "execution_count": null,
      "metadata": {
        "colab": {
          "base_uri": "https://localhost:8080/",
          "height": 597
        },
        "id": "gRuGVOoDEw1R",
        "outputId": "47f41f4e-12db-457e-c939-2d748f3c8f94"
      },
      "outputs": [
        {
          "data": {
            "text/html": [
              "\n",
              "  <div id=\"df-d5d9e664-271b-47eb-a7fe-c3a5bde82a89\" class=\"colab-df-container\">\n",
              "    <div>\n",
              "<style scoped>\n",
              "    .dataframe tbody tr th:only-of-type {\n",
              "        vertical-align: middle;\n",
              "    }\n",
              "\n",
              "    .dataframe tbody tr th {\n",
              "        vertical-align: top;\n",
              "    }\n",
              "\n",
              "    .dataframe thead th {\n",
              "        text-align: right;\n",
              "    }\n",
              "</style>\n",
              "<table border=\"1\" class=\"dataframe\">\n",
              "  <thead>\n",
              "    <tr style=\"text-align: right;\">\n",
              "      <th></th>\n",
              "      <th>id</th>\n",
              "      <th>make</th>\n",
              "      <th>model</th>\n",
              "      <th>year</th>\n",
              "      <th>price</th>\n",
              "      <th>created_at</th>\n",
              "      <th>updated_at</th>\n",
              "    </tr>\n",
              "  </thead>\n",
              "  <tbody>\n",
              "    <tr>\n",
              "      <th>0</th>\n",
              "      <td>1</td>\n",
              "      <td>Mazda</td>\n",
              "      <td>MX-5</td>\n",
              "      <td>2008</td>\n",
              "      <td>2869.0</td>\n",
              "      <td>2022-02-01 17:02:19</td>\n",
              "      <td>2024-01-30 16:19:32</td>\n",
              "    </tr>\n",
              "    <tr>\n",
              "      <th>1</th>\n",
              "      <td>2</td>\n",
              "      <td>Mercedes-Benz</td>\n",
              "      <td>C-Class</td>\n",
              "      <td>2009</td>\n",
              "      <td>42397.0</td>\n",
              "      <td>2021-01-25 14:31:33</td>\n",
              "      <td>2024-01-30 16:19:32</td>\n",
              "    </tr>\n",
              "    <tr>\n",
              "      <th>2</th>\n",
              "      <td>3</td>\n",
              "      <td>Honda</td>\n",
              "      <td>Accord Crosstour</td>\n",
              "      <td>2011</td>\n",
              "      <td>63293.0</td>\n",
              "      <td>2021-02-11 05:36:03</td>\n",
              "      <td>2024-01-30 16:19:32</td>\n",
              "    </tr>\n",
              "    <tr>\n",
              "      <th>3</th>\n",
              "      <td>4</td>\n",
              "      <td>GMC</td>\n",
              "      <td>Jimmy</td>\n",
              "      <td>1998</td>\n",
              "      <td>34079.0</td>\n",
              "      <td>2022-01-24 03:00:03</td>\n",
              "      <td>2024-01-30 16:19:32</td>\n",
              "    </tr>\n",
              "    <tr>\n",
              "      <th>4</th>\n",
              "      <td>5</td>\n",
              "      <td>Infiniti</td>\n",
              "      <td>FX</td>\n",
              "      <td>2004</td>\n",
              "      <td>17036.0</td>\n",
              "      <td>2021-10-02 03:55:44</td>\n",
              "      <td>2024-01-30 16:19:32</td>\n",
              "    </tr>\n",
              "    <tr>\n",
              "      <th>...</th>\n",
              "      <td>...</td>\n",
              "      <td>...</td>\n",
              "      <td>...</td>\n",
              "      <td>...</td>\n",
              "      <td>...</td>\n",
              "      <td>...</td>\n",
              "      <td>...</td>\n",
              "    </tr>\n",
              "    <tr>\n",
              "      <th>95</th>\n",
              "      <td>96</td>\n",
              "      <td>BMW</td>\n",
              "      <td>330</td>\n",
              "      <td>2006</td>\n",
              "      <td>14494.0</td>\n",
              "      <td>2021-09-17 20:52:48</td>\n",
              "      <td>2024-01-30 16:19:32</td>\n",
              "    </tr>\n",
              "    <tr>\n",
              "      <th>96</th>\n",
              "      <td>97</td>\n",
              "      <td>Audi</td>\n",
              "      <td>R8</td>\n",
              "      <td>2008</td>\n",
              "      <td>17642.0</td>\n",
              "      <td>2021-09-21 11:56:24</td>\n",
              "      <td>2024-01-30 16:19:32</td>\n",
              "    </tr>\n",
              "    <tr>\n",
              "      <th>97</th>\n",
              "      <td>98</td>\n",
              "      <td>Cadillac</td>\n",
              "      <td>CTS-V</td>\n",
              "      <td>2007</td>\n",
              "      <td>19914.0</td>\n",
              "      <td>2021-09-02 15:38:46</td>\n",
              "      <td>2024-01-30 16:19:32</td>\n",
              "    </tr>\n",
              "    <tr>\n",
              "      <th>98</th>\n",
              "      <td>99</td>\n",
              "      <td>GMC</td>\n",
              "      <td>1500 Club Coupe</td>\n",
              "      <td>1997</td>\n",
              "      <td>82288.0</td>\n",
              "      <td>2021-04-20 18:58:15</td>\n",
              "      <td>2024-01-30 16:19:32</td>\n",
              "    </tr>\n",
              "    <tr>\n",
              "      <th>99</th>\n",
              "      <td>100</td>\n",
              "      <td>Buick</td>\n",
              "      <td>Somerset</td>\n",
              "      <td>1986</td>\n",
              "      <td>64148.0</td>\n",
              "      <td>2021-06-10 19:07:38</td>\n",
              "      <td>2024-01-30 16:19:32</td>\n",
              "    </tr>\n",
              "  </tbody>\n",
              "</table>\n",
              "<p>100 rows × 7 columns</p>\n",
              "</div>\n",
              "    <div class=\"colab-df-buttons\">\n",
              "\n",
              "  <div class=\"colab-df-container\">\n",
              "    <button class=\"colab-df-convert\" onclick=\"convertToInteractive('df-d5d9e664-271b-47eb-a7fe-c3a5bde82a89')\"\n",
              "            title=\"Convert this dataframe to an interactive table.\"\n",
              "            style=\"display:none;\">\n",
              "\n",
              "  <svg xmlns=\"http://www.w3.org/2000/svg\" height=\"24px\" viewBox=\"0 -960 960 960\">\n",
              "    <path d=\"M120-120v-720h720v720H120Zm60-500h600v-160H180v160Zm220 220h160v-160H400v160Zm0 220h160v-160H400v160ZM180-400h160v-160H180v160Zm440 0h160v-160H620v160ZM180-180h160v-160H180v160Zm440 0h160v-160H620v160Z\"/>\n",
              "  </svg>\n",
              "    </button>\n",
              "\n",
              "  <style>\n",
              "    .colab-df-container {\n",
              "      display:flex;\n",
              "      gap: 12px;\n",
              "    }\n",
              "\n",
              "    .colab-df-convert {\n",
              "      background-color: #E8F0FE;\n",
              "      border: none;\n",
              "      border-radius: 50%;\n",
              "      cursor: pointer;\n",
              "      display: none;\n",
              "      fill: #1967D2;\n",
              "      height: 32px;\n",
              "      padding: 0 0 0 0;\n",
              "      width: 32px;\n",
              "    }\n",
              "\n",
              "    .colab-df-convert:hover {\n",
              "      background-color: #E2EBFA;\n",
              "      box-shadow: 0px 1px 2px rgba(60, 64, 67, 0.3), 0px 1px 3px 1px rgba(60, 64, 67, 0.15);\n",
              "      fill: #174EA6;\n",
              "    }\n",
              "\n",
              "    .colab-df-buttons div {\n",
              "      margin-bottom: 4px;\n",
              "    }\n",
              "\n",
              "    [theme=dark] .colab-df-convert {\n",
              "      background-color: #3B4455;\n",
              "      fill: #D2E3FC;\n",
              "    }\n",
              "\n",
              "    [theme=dark] .colab-df-convert:hover {\n",
              "      background-color: #434B5C;\n",
              "      box-shadow: 0px 1px 3px 1px rgba(0, 0, 0, 0.15);\n",
              "      filter: drop-shadow(0px 1px 2px rgba(0, 0, 0, 0.3));\n",
              "      fill: #FFFFFF;\n",
              "    }\n",
              "  </style>\n",
              "\n",
              "    <script>\n",
              "      const buttonEl =\n",
              "        document.querySelector('#df-d5d9e664-271b-47eb-a7fe-c3a5bde82a89 button.colab-df-convert');\n",
              "      buttonEl.style.display =\n",
              "        google.colab.kernel.accessAllowed ? 'block' : 'none';\n",
              "\n",
              "      async function convertToInteractive(key) {\n",
              "        const element = document.querySelector('#df-d5d9e664-271b-47eb-a7fe-c3a5bde82a89');\n",
              "        const dataTable =\n",
              "          await google.colab.kernel.invokeFunction('convertToInteractive',\n",
              "                                                    [key], {});\n",
              "        if (!dataTable) return;\n",
              "\n",
              "        const docLinkHtml = 'Like what you see? Visit the ' +\n",
              "          '<a target=\"_blank\" href=https://colab.research.google.com/notebooks/data_table.ipynb>data table notebook</a>'\n",
              "          + ' to learn more about interactive tables.';\n",
              "        element.innerHTML = '';\n",
              "        dataTable['output_type'] = 'display_data';\n",
              "        await google.colab.output.renderOutput(dataTable, element);\n",
              "        const docLink = document.createElement('div');\n",
              "        docLink.innerHTML = docLinkHtml;\n",
              "        element.appendChild(docLink);\n",
              "      }\n",
              "    </script>\n",
              "  </div>\n",
              "\n",
              "\n",
              "<div id=\"df-7b1dfdd3-74c6-48d4-8b48-72afcea58dc1\">\n",
              "  <button class=\"colab-df-quickchart\" onclick=\"quickchart('df-7b1dfdd3-74c6-48d4-8b48-72afcea58dc1')\"\n",
              "            title=\"Suggest charts\"\n",
              "            style=\"display:none;\">\n",
              "\n",
              "<svg xmlns=\"http://www.w3.org/2000/svg\" height=\"24px\"viewBox=\"0 0 24 24\"\n",
              "     width=\"24px\">\n",
              "    <g>\n",
              "        <path d=\"M19 3H5c-1.1 0-2 .9-2 2v14c0 1.1.9 2 2 2h14c1.1 0 2-.9 2-2V5c0-1.1-.9-2-2-2zM9 17H7v-7h2v7zm4 0h-2V7h2v10zm4 0h-2v-4h2v4z\"/>\n",
              "    </g>\n",
              "</svg>\n",
              "  </button>\n",
              "\n",
              "<style>\n",
              "  .colab-df-quickchart {\n",
              "      --bg-color: #E8F0FE;\n",
              "      --fill-color: #1967D2;\n",
              "      --hover-bg-color: #E2EBFA;\n",
              "      --hover-fill-color: #174EA6;\n",
              "      --disabled-fill-color: #AAA;\n",
              "      --disabled-bg-color: #DDD;\n",
              "  }\n",
              "\n",
              "  [theme=dark] .colab-df-quickchart {\n",
              "      --bg-color: #3B4455;\n",
              "      --fill-color: #D2E3FC;\n",
              "      --hover-bg-color: #434B5C;\n",
              "      --hover-fill-color: #FFFFFF;\n",
              "      --disabled-bg-color: #3B4455;\n",
              "      --disabled-fill-color: #666;\n",
              "  }\n",
              "\n",
              "  .colab-df-quickchart {\n",
              "    background-color: var(--bg-color);\n",
              "    border: none;\n",
              "    border-radius: 50%;\n",
              "    cursor: pointer;\n",
              "    display: none;\n",
              "    fill: var(--fill-color);\n",
              "    height: 32px;\n",
              "    padding: 0;\n",
              "    width: 32px;\n",
              "  }\n",
              "\n",
              "  .colab-df-quickchart:hover {\n",
              "    background-color: var(--hover-bg-color);\n",
              "    box-shadow: 0 1px 2px rgba(60, 64, 67, 0.3), 0 1px 3px 1px rgba(60, 64, 67, 0.15);\n",
              "    fill: var(--button-hover-fill-color);\n",
              "  }\n",
              "\n",
              "  .colab-df-quickchart-complete:disabled,\n",
              "  .colab-df-quickchart-complete:disabled:hover {\n",
              "    background-color: var(--disabled-bg-color);\n",
              "    fill: var(--disabled-fill-color);\n",
              "    box-shadow: none;\n",
              "  }\n",
              "\n",
              "  .colab-df-spinner {\n",
              "    border: 2px solid var(--fill-color);\n",
              "    border-color: transparent;\n",
              "    border-bottom-color: var(--fill-color);\n",
              "    animation:\n",
              "      spin 1s steps(1) infinite;\n",
              "  }\n",
              "\n",
              "  @keyframes spin {\n",
              "    0% {\n",
              "      border-color: transparent;\n",
              "      border-bottom-color: var(--fill-color);\n",
              "      border-left-color: var(--fill-color);\n",
              "    }\n",
              "    20% {\n",
              "      border-color: transparent;\n",
              "      border-left-color: var(--fill-color);\n",
              "      border-top-color: var(--fill-color);\n",
              "    }\n",
              "    30% {\n",
              "      border-color: transparent;\n",
              "      border-left-color: var(--fill-color);\n",
              "      border-top-color: var(--fill-color);\n",
              "      border-right-color: var(--fill-color);\n",
              "    }\n",
              "    40% {\n",
              "      border-color: transparent;\n",
              "      border-right-color: var(--fill-color);\n",
              "      border-top-color: var(--fill-color);\n",
              "    }\n",
              "    60% {\n",
              "      border-color: transparent;\n",
              "      border-right-color: var(--fill-color);\n",
              "    }\n",
              "    80% {\n",
              "      border-color: transparent;\n",
              "      border-right-color: var(--fill-color);\n",
              "      border-bottom-color: var(--fill-color);\n",
              "    }\n",
              "    90% {\n",
              "      border-color: transparent;\n",
              "      border-bottom-color: var(--fill-color);\n",
              "    }\n",
              "  }\n",
              "</style>\n",
              "\n",
              "  <script>\n",
              "    async function quickchart(key) {\n",
              "      const quickchartButtonEl =\n",
              "        document.querySelector('#' + key + ' button');\n",
              "      quickchartButtonEl.disabled = true;  // To prevent multiple clicks.\n",
              "      quickchartButtonEl.classList.add('colab-df-spinner');\n",
              "      try {\n",
              "        const charts = await google.colab.kernel.invokeFunction(\n",
              "            'suggestCharts', [key], {});\n",
              "      } catch (error) {\n",
              "        console.error('Error during call to suggestCharts:', error);\n",
              "      }\n",
              "      quickchartButtonEl.classList.remove('colab-df-spinner');\n",
              "      quickchartButtonEl.classList.add('colab-df-quickchart-complete');\n",
              "    }\n",
              "    (() => {\n",
              "      let quickchartButtonEl =\n",
              "        document.querySelector('#df-7b1dfdd3-74c6-48d4-8b48-72afcea58dc1 button');\n",
              "      quickchartButtonEl.style.display =\n",
              "        google.colab.kernel.accessAllowed ? 'block' : 'none';\n",
              "    })();\n",
              "  </script>\n",
              "</div>\n",
              "    </div>\n",
              "  </div>\n"
            ],
            "text/plain": [
              "     id           make             model  year    price          created_at  \\\n",
              "0     1          Mazda              MX-5  2008   2869.0 2022-02-01 17:02:19   \n",
              "1     2  Mercedes-Benz           C-Class  2009  42397.0 2021-01-25 14:31:33   \n",
              "2     3          Honda  Accord Crosstour  2011  63293.0 2021-02-11 05:36:03   \n",
              "3     4            GMC             Jimmy  1998  34079.0 2022-01-24 03:00:03   \n",
              "4     5       Infiniti                FX  2004  17036.0 2021-10-02 03:55:44   \n",
              "..  ...            ...               ...   ...      ...                 ...   \n",
              "95   96            BMW               330  2006  14494.0 2021-09-17 20:52:48   \n",
              "96   97           Audi                R8  2008  17642.0 2021-09-21 11:56:24   \n",
              "97   98       Cadillac             CTS-V  2007  19914.0 2021-09-02 15:38:46   \n",
              "98   99            GMC   1500 Club Coupe  1997  82288.0 2021-04-20 18:58:15   \n",
              "99  100          Buick          Somerset  1986  64148.0 2021-06-10 19:07:38   \n",
              "\n",
              "            updated_at  \n",
              "0  2024-01-30 16:19:32  \n",
              "1  2024-01-30 16:19:32  \n",
              "2  2024-01-30 16:19:32  \n",
              "3  2024-01-30 16:19:32  \n",
              "4  2024-01-30 16:19:32  \n",
              "..                 ...  \n",
              "95 2024-01-30 16:19:32  \n",
              "96 2024-01-30 16:19:32  \n",
              "97 2024-01-30 16:19:32  \n",
              "98 2024-01-30 16:19:32  \n",
              "99 2024-01-30 16:19:32  \n",
              "\n",
              "[100 rows x 7 columns]"
            ]
          },
          "metadata": {},
          "output_type": "display_data"
        }
      ],
      "source": [
        "# Display or transform the loaded data\n",
        "products_df = read_result[\"products\"].to_pandas()\n",
        "display(products_df)"
      ]
    },
    {
      "cell_type": "markdown",
      "metadata": {
        "id": "VJgl59hBF1rJ"
      },
      "source": [
        "## Creating graphs\n",
        "\n",
        "AirbyteLib integrates with Pandas, which integrates with `matplotlib` as well as many other popular libraries. We can use this as a means of quickly creating graphs."
      ]
    },
    {
      "cell_type": "code",
      "execution_count": 9,
      "metadata": {
        "colab": {
          "base_uri": "https://localhost:8080/",
          "height": 527
        },
        "id": "XcQcBlYjF3oO",
        "outputId": "37c1846b-e3b2-48af-e604-01abe9f14841"
      },
      "outputs": [
        {
          "name": "stdout",
          "output_type": "stream",
          "text": [
            "Defaulting to user installation because normal site-packages is not writeable\n",
            "Collecting matplotlib\n",
            "  Downloading matplotlib-3.8.2-cp310-cp310-manylinux_2_17_x86_64.manylinux2014_x86_64.whl (11.6 MB)\n",
            "\u001b[2K     \u001b[90m━━━━━━━━━━━━━━━━━━━━━━━━━━━━━━━━━━━━━━━━\u001b[0m \u001b[32m11.6/11.6 MB\u001b[0m \u001b[31m65.4 MB/s\u001b[0m eta \u001b[36m0:00:00\u001b[0m00:01\u001b[0m00:01\u001b[0m\n",
            "\u001b[?25hRequirement already satisfied: packaging>=20.0 in /home/vscode/.local/lib/python3.10/site-packages (from matplotlib) (23.2)\n",
            "Requirement already satisfied: numpy<2,>=1.21 in /home/vscode/.local/lib/python3.10/site-packages (from matplotlib) (1.26.3)\n",
            "Requirement already satisfied: python-dateutil>=2.7 in /home/vscode/.local/lib/python3.10/site-packages (from matplotlib) (2.8.2)\n",
            "Collecting pyparsing>=2.3.1\n",
            "  Downloading pyparsing-3.1.1-py3-none-any.whl (103 kB)\n",
            "\u001b[2K     \u001b[90m━━━━━━━━━━━━━━━━━━━━━━━━━━━━━━━━━━━━━━━\u001b[0m \u001b[32m103.1/103.1 kB\u001b[0m \u001b[31m6.2 MB/s\u001b[0m eta \u001b[36m0:00:00\u001b[0m\n",
            "\u001b[?25hCollecting contourpy>=1.0.1\n",
            "  Downloading contourpy-1.2.0-cp310-cp310-manylinux_2_17_x86_64.manylinux2014_x86_64.whl (310 kB)\n",
            "\u001b[2K     \u001b[90m━━━━━━━━━━━━━━━━━━━━━━━━━━━━━━━━━━━━━━\u001b[0m \u001b[32m310.7/310.7 kB\u001b[0m \u001b[31m14.9 MB/s\u001b[0m eta \u001b[36m0:00:00\u001b[0m\n",
            "\u001b[?25hCollecting pillow>=8\n",
            "  Downloading pillow-10.2.0-cp310-cp310-manylinux_2_28_x86_64.whl (4.5 MB)\n",
            "\u001b[2K     \u001b[90m━━━━━━━━━━━━━━━━━━━━━━━━━━━━━━━━━━━━━━━━\u001b[0m \u001b[32m4.5/4.5 MB\u001b[0m \u001b[31m59.1 MB/s\u001b[0m eta \u001b[36m0:00:00\u001b[0m:00:01\u001b[0m\n",
            "\u001b[?25hCollecting fonttools>=4.22.0\n",
            "  Downloading fonttools-4.47.2-cp310-cp310-manylinux_2_17_x86_64.manylinux2014_x86_64.whl (4.6 MB)\n",
            "\u001b[2K     \u001b[90m━━━━━━━━━━━━━━━━━━━━━━━━━━━━━━━━━━━━━━━━\u001b[0m \u001b[32m4.6/4.6 MB\u001b[0m \u001b[31m59.9 MB/s\u001b[0m eta \u001b[36m0:00:00\u001b[0m:00:01\u001b[0m\n",
            "\u001b[?25hCollecting cycler>=0.10\n",
            "  Downloading cycler-0.12.1-py3-none-any.whl (8.3 kB)\n",
            "Collecting kiwisolver>=1.3.1\n",
            "  Downloading kiwisolver-1.4.5-cp310-cp310-manylinux_2_12_x86_64.manylinux2010_x86_64.whl (1.6 MB)\n",
            "\u001b[2K     \u001b[90m━━━━━━━━━━━━━━━━━━━━━━━━━━━━━━━━━━━━━━━━\u001b[0m \u001b[32m1.6/1.6 MB\u001b[0m \u001b[31m38.5 MB/s\u001b[0m eta \u001b[36m0:00:00\u001b[0m:00:01\u001b[0m\n",
            "\u001b[?25hRequirement already satisfied: six>=1.5 in /home/vscode/.local/lib/python3.10/site-packages (from python-dateutil>=2.7->matplotlib) (1.16.0)\n",
            "Installing collected packages: pyparsing, pillow, kiwisolver, fonttools, cycler, contourpy, matplotlib\n",
            "Successfully installed contourpy-1.2.0 cycler-0.12.1 fonttools-4.47.2 kiwisolver-1.4.5 matplotlib-3.8.2 pillow-10.2.0 pyparsing-3.1.1\n",
            "\n",
            "\u001b[1m[\u001b[0m\u001b[34;49mnotice\u001b[0m\u001b[1;39;49m]\u001b[0m\u001b[39;49m A new release of pip is available: \u001b[0m\u001b[31;49m23.0.1\u001b[0m\u001b[39;49m -> \u001b[0m\u001b[32;49m23.3.2\u001b[0m\n",
            "\u001b[1m[\u001b[0m\u001b[34;49mnotice\u001b[0m\u001b[1;39;49m]\u001b[0m\u001b[39;49m To update, run: \u001b[0m\u001b[32;49mpip install --upgrade pip\u001b[0m\n",
            "Note: you may need to restart the kernel to use updated packages.\n"
          ]
        },
        {
          "name": "stderr",
          "output_type": "stream",
          "text": [
            "/home/vscode/.local/lib/python3.10/site-packages/duckdb_engine/__init__.py:178: DuckDBEngineWarning: duckdb-engine doesn't yet support reflection on indices\n",
            "  warnings.warn(\n"
          ]
        },
        {
          "data": {
            "image/png": "[encoded data removed]",
            "text/plain": [
              "<Figure size 640x480 with 1 Axes>"
            ]
          },
          "metadata": {},
          "output_type": "display_data"
        }
      ],
      "source": [
        "%pip install matplotlib\n",
        "\n",
        "import matplotlib.pyplot as plt\n",
        "\n",
        "users_df = read_result[\"users\"].to_pandas()\n",
        "\n",
        "plt.hist(users_df['age'], bins=10, edgecolor='black')\n",
        "plt.title('Histogram of Ages')\n",
        "plt.xlabel('Ages')\n",
        "plt.ylabel('Frequency')\n",
        "plt.show()"
      ]
    },
    {
      "cell_type": "markdown",
      "metadata": {
        "id": "wSru-wGpHZrh"
      },
      "source": [
        "## Working in SQL\n",
        "\n",
        "Since data is cached in a local DuckDB database, we can query the data with SQL.\n",
        "\n",
        "We can do this in multiple ways. One way is to use the [JupySQL Extension](https://jupysql.ploomber.io/en/latest/user-guide/template.html), which we'll use below."
      ]
    },
    {
      "cell_type": "code",
      "execution_count": 10,
      "metadata": {
        "colab": {
          "base_uri": "https://localhost:8080/"
        },
        "id": "xdotIOg70nuL",
        "outputId": "386c7561-1cfd-4920-b0cf-2094b35cd017"
      },
      "outputs": [
        {
          "name": "stdout",
          "output_type": "stream",
          "text": [
            "\n",
            "\u001b[1m[\u001b[0m\u001b[34;49mnotice\u001b[0m\u001b[1;39;49m]\u001b[0m\u001b[39;49m A new release of pip is available: \u001b[0m\u001b[31;49m23.0.1\u001b[0m\u001b[39;49m -> \u001b[0m\u001b[32;49m23.3.2\u001b[0m\n",
            "\u001b[1m[\u001b[0m\u001b[34;49mnotice\u001b[0m\u001b[1;39;49m]\u001b[0m\u001b[39;49m To update, run: \u001b[0m\u001b[32;49mpip install --upgrade pip\u001b[0m\n",
            "Note: you may need to restart the kernel to use updated packages.\n",
            "The sql extension is already loaded. To reload it, use:\n",
            "  %reload_ext sql\n"
          ]
        }
      ],
      "source": [
        "# Install JupySQL to enable SQL cell magics\n",
        "%pip install --quiet jupysql\n",
        "# Load JupySQL extension\n",
        "%load_ext sql\n",
        "# Configure max row limit (optional)\n",
        "%config SqlMagic.displaylimit = 200"
      ]
    },
    {
      "cell_type": "code",
      "execution_count": 11,
      "metadata": {
        "id": "2tA6L1dHZ2w0"
      },
      "outputs": [],
      "source": [
        "# Get the SQLAlchemy 'engine' object for the cache\n",
        "engine = read_result.cache.get_sql_engine()\n",
        "# Pass the engine to JupySQL\n",
        "%sql engine"
      ]
    },
    {
      "cell_type": "code",
      "execution_count": 12,
      "metadata": {
        "colab": {
          "base_uri": "https://localhost:8080/",
          "height": 90
        },
        "id": "0eaYnErPaFsH",
        "outputId": "1e730d2b-31b1-4279-8c24-f5a430a327bb"
      },
      "outputs": [
        {
          "name": "stderr",
          "output_type": "stream",
          "text": [
            "/home/vscode/.local/lib/python3.10/site-packages/duckdb_engine/__init__.py:178: DuckDBEngineWarning: duckdb-engine doesn't yet support reflection on indices\n",
            "  warnings.warn(\n"
          ]
        },
        {
          "data": {
            "text/plain": [
              "'main.users'"
            ]
          },
          "metadata": {},
          "output_type": "display_data"
        }
      ],
      "source": [
        "# Get the table for the 'users' stream\n",
        "users_table = read_result.cache.get_sql_table(\"users\")\n",
        "display(users_table.fullname)"
      ]
    },
    {
      "cell_type": "code",
      "execution_count": 23,
      "metadata": {
        "colab": {
          "base_uri": "https://localhost:8080/",
          "height": 485
        },
        "id": "VjeTOtKHHiA5",
        "outputId": "832dd61b-789f-4065-f949-3e62d02fee25"
      },
      "outputs": [
        {
          "data": {
            "text/html": [
              "<span style=\"None\">Running query in &#x27;duckdb:///.cache/default_cache_db.duckdb&#x27;</span>"
            ],
            "text/plain": [
              "Running query in 'duckdb:///.cache/default_cache_db.duckdb'"
            ]
          },
          "metadata": {},
          "output_type": "display_data"
        },
        {
          "data": {
            "text/html": [
              "<table>\n",
              "    <thead>\n",
              "        <tr>\n",
              "            <th>name</th>\n",
              "            <th>occupation</th>\n",
              "            <th>age</th>\n",
              "            <th>nationality</th>\n",
              "        </tr>\n",
              "    </thead>\n",
              "    <tbody>\n",
              "        <tr>\n",
              "            <td>Murray</td>\n",
              "            <td>Reporter</td>\n",
              "            <td>36</td>\n",
              "            <td>Uruguayan</td>\n",
              "        </tr>\n",
              "        <tr>\n",
              "            <td>Danyell</td>\n",
              "            <td>Brewery Manager</td>\n",
              "            <td>63</td>\n",
              "            <td>Latvian</td>\n",
              "        </tr>\n",
              "        <tr>\n",
              "            <td>Shirleen</td>\n",
              "            <td>Recovery Vehicle Coordinator</td>\n",
              "            <td>46</td>\n",
              "            <td>Ecuadorian</td>\n",
              "        </tr>\n",
              "        <tr>\n",
              "            <td>Carroll</td>\n",
              "            <td>Tug Skipper</td>\n",
              "            <td>63</td>\n",
              "            <td>Bolivian</td>\n",
              "        </tr>\n",
              "        <tr>\n",
              "            <td>Osvaldo</td>\n",
              "            <td>Genealogist</td>\n",
              "            <td>63</td>\n",
              "            <td>Japanese</td>\n",
              "        </tr>\n",
              "        <tr>\n",
              "            <td>Cicely</td>\n",
              "            <td>Tattooist</td>\n",
              "            <td>59</td>\n",
              "            <td>Portuguese</td>\n",
              "        </tr>\n",
              "        <tr>\n",
              "            <td>Kyle</td>\n",
              "            <td>Park Attendant</td>\n",
              "            <td>65</td>\n",
              "            <td>Mexican</td>\n",
              "        </tr>\n",
              "        <tr>\n",
              "            <td>Shizue</td>\n",
              "            <td>Laundry Worker</td>\n",
              "            <td>24</td>\n",
              "            <td>Dominican</td>\n",
              "        </tr>\n",
              "        <tr>\n",
              "            <td>Travis</td>\n",
              "            <td>Technical Clerk</td>\n",
              "            <td>42</td>\n",
              "            <td>Argentinian</td>\n",
              "        </tr>\n",
              "        <tr>\n",
              "            <td>Joan</td>\n",
              "            <td>Aerobic Instructor</td>\n",
              "            <td>49</td>\n",
              "            <td>Japanese</td>\n",
              "        </tr>\n",
              "        <tr>\n",
              "            <td>Enoch</td>\n",
              "            <td>Legal Executive</td>\n",
              "            <td>62</td>\n",
              "            <td>Greek</td>\n",
              "        </tr>\n",
              "        <tr>\n",
              "            <td>Shelby</td>\n",
              "            <td>Sales Assistant</td>\n",
              "            <td>61</td>\n",
              "            <td>Portuguese</td>\n",
              "        </tr>\n",
              "        <tr>\n",
              "            <td>Mitchel</td>\n",
              "            <td>Physician</td>\n",
              "            <td>20</td>\n",
              "            <td>Chilean</td>\n",
              "        </tr>\n",
              "        <tr>\n",
              "            <td>Darwin</td>\n",
              "            <td>Premises</td>\n",
              "            <td>48</td>\n",
              "            <td>Latvian</td>\n",
              "        </tr>\n",
              "        <tr>\n",
              "            <td>Leland</td>\n",
              "            <td>Turkey Farmer</td>\n",
              "            <td>20</td>\n",
              "            <td>Russian</td>\n",
              "        </tr>\n",
              "        <tr>\n",
              "            <td>Christia</td>\n",
              "            <td>Tour Guide</td>\n",
              "            <td>18</td>\n",
              "            <td>Spanish</td>\n",
              "        </tr>\n",
              "        <tr>\n",
              "            <td>Bennie</td>\n",
              "            <td>Cafe Worker</td>\n",
              "            <td>45</td>\n",
              "            <td>Costa Rican</td>\n",
              "        </tr>\n",
              "        <tr>\n",
              "            <td>Shanice</td>\n",
              "            <td>Refrigeration Engineer</td>\n",
              "            <td>52</td>\n",
              "            <td>Uruguayan</td>\n",
              "        </tr>\n",
              "        <tr>\n",
              "            <td>Marquitta</td>\n",
              "            <td>Travel Agent</td>\n",
              "            <td>42</td>\n",
              "            <td>Uruguayan</td>\n",
              "        </tr>\n",
              "        <tr>\n",
              "            <td>Gala</td>\n",
              "            <td>Body Fitter</td>\n",
              "            <td>46</td>\n",
              "            <td>Iranian</td>\n",
              "        </tr>\n",
              "    </tbody>\n",
              "</table>"
            ],
            "text/plain": [
              "+-----------+------------------------------+-----+-------------+\n",
              "|    name   |          occupation          | age | nationality |\n",
              "+-----------+------------------------------+-----+-------------+\n",
              "|   Murray  |           Reporter           |  36 |  Uruguayan  |\n",
              "|  Danyell  |       Brewery Manager        |  63 |   Latvian   |\n",
              "|  Shirleen | Recovery Vehicle Coordinator |  46 |  Ecuadorian |\n",
              "|  Carroll  |         Tug Skipper          |  63 |   Bolivian  |\n",
              "|  Osvaldo  |         Genealogist          |  63 |   Japanese  |\n",
              "|   Cicely  |          Tattooist           |  59 |  Portuguese |\n",
              "|    Kyle   |        Park Attendant        |  65 |   Mexican   |\n",
              "|   Shizue  |        Laundry Worker        |  24 |  Dominican  |\n",
              "|   Travis  |       Technical Clerk        |  42 | Argentinian |\n",
              "|    Joan   |      Aerobic Instructor      |  49 |   Japanese  |\n",
              "|   Enoch   |       Legal Executive        |  62 |    Greek    |\n",
              "|   Shelby  |       Sales Assistant        |  61 |  Portuguese |\n",
              "|  Mitchel  |          Physician           |  20 |   Chilean   |\n",
              "|   Darwin  |           Premises           |  48 |   Latvian   |\n",
              "|   Leland  |        Turkey Farmer         |  20 |   Russian   |\n",
              "|  Christia |          Tour Guide          |  18 |   Spanish   |\n",
              "|   Bennie  |         Cafe Worker          |  45 | Costa Rican |\n",
              "|  Shanice  |    Refrigeration Engineer    |  52 |  Uruguayan  |\n",
              "| Marquitta |         Travel Agent         |  42 |  Uruguayan  |\n",
              "|    Gala   |         Body Fitter          |  46 |   Iranian   |\n",
              "+-----------+------------------------------+-----+-------------+"
            ]
          },
          "execution_count": 23,
          "metadata": {},
          "output_type": "execute_result"
        }
      ],
      "source": [
        "%%sql\n",
        "# We can now dynamically pass the table reference into a SQL query\n",
        "\n",
        "SELECT name, occupation, age, nationality \n",
        "FROM {{ users_table.fullname }}\n",
        "LIMIT 20"
      ]
    },
    {
      "cell_type": "code",
      "execution_count": 24,
      "metadata": {
        "colab": {
          "base_uri": "https://localhost:8080/",
          "height": 126
        },
        "id": "nSTpNpRHhk7F",
        "outputId": "19b754e9-4853-4267-a321-023a9759f254"
      },
      "outputs": [
        {
          "data": {
            "text/html": [
              "<table>\n",
              "    <thead>\n",
              "        <tr>\n",
              "            <th>Name</th>\n",
              "        </tr>\n",
              "    </thead>\n",
              "    <tbody>\n",
              "        <tr>\n",
              "            <td>products</td>\n",
              "        </tr>\n",
              "        <tr>\n",
              "            <td>purchases</td>\n",
              "        </tr>\n",
              "        <tr>\n",
              "            <td>users</td>\n",
              "        </tr>\n",
              "        <tr>\n",
              "            <td>_airbytelib_streams</td>\n",
              "        </tr>\n",
              "    </tbody>\n",
              "</table>"
            ],
            "text/plain": [
              "+---------------------+\n",
              "|         Name        |\n",
              "+---------------------+\n",
              "|       products      |\n",
              "|      purchases      |\n",
              "|        users        |\n",
              "| _airbytelib_streams |\n",
              "+---------------------+"
            ]
          },
          "execution_count": 24,
          "metadata": {},
          "output_type": "execute_result"
        }
      ],
      "source": [
        "# Show tables for the other streams\n",
        "%sqlcmd tables"
      ]
    }
  ],
  "metadata": {
    "colab": {
      "authorship_tag": "ABX9TyPYLwN+O7NtMePhrmc69lJe",
      "include_colab_link": true,
      "provenance": []
    },
    "kernelspec": {
      "display_name": "Python 3",
      "name": "python3"
    },
    "language_info": {
      "codemirror_mode": {
        "name": "ipython",
        "version": 3
      },
      "file_extension": ".py",
      "mimetype": "text/x-python",
      "name": "python",
      "nbconvert_exporter": "python",
      "pygments_lexer": "ipython3",
      "version": "3.10.12"
    }
  },
  "nbformat": 4,
  "nbformat_minor": 0
}
