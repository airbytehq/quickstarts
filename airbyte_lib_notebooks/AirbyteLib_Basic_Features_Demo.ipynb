{
  "cells": [
    {
      "cell_type": "markdown",
      "metadata": {
        "colab_type": "text",
        "id": "view-in-github"
      },
      "source": [
        "<a href=\"https://colab.research.google.com/github/airbytehq/quickstarts/blob/aj%2Fairbyte-lib-quickstart/airbyte_lib_notebooks/AirbyteLib_Basic_Features_Demo.ipynb\" target=\"_parent\"><img src=\"https://colab.research.google.com/assets/colab-badge.svg\" alt=\"Open In Colab\"/></a>\n"
      ]
    },
    {
      "cell_type": "markdown",
      "metadata": {
        "id": "R8XtHKK4PujA"
      },
      "source": [
        "# AirbyteLib Demo\n",
        "\n",
        "Below is a pre-release demo of AirbyteLib.\n"
      ]
    },
    {
      "cell_type": "markdown",
      "metadata": {
        "id": "Lyxh2NLuQJUf"
      },
      "source": [
        "## Install AirbyteLib\n"
      ]
    },
    {
      "cell_type": "code",
      "execution_count": null,
      "metadata": {
        "colab": {
          "base_uri": "https://localhost:8080/"
        },
        "id": "9DEgu1WpQNt-",
        "outputId": "d6b1237a-7c83-43a6-9efb-4b9324217d45"
      },
      "outputs": [],
      "source": [
        "# Add virtual environment support for running in Google Colab ()\n",
        "!apt-get install -qq python3.10-venv\n",
        "\n",
        "# Install airbyte-lib\n",
        "%pip install --quiet 'git+https://github.com/airbytehq/airbyte.git@master#egg=airbyte-lib&subdirectory=airbyte-lib'"
      ]
    },
    {
      "cell_type": "code",
      "execution_count": null,
      "metadata": {
        "id": "myO8qaSKt_S4"
      },
      "outputs": [],
      "source": [
        "# Test that the install was successful\n",
        "import airbyte_lib as ab"
      ]
    },
    {
      "cell_type": "markdown",
      "metadata": {
        "id": "JWWeEbTVEDFz"
      },
      "source": [
        "## Load the Source Data using AirbyteLib\n"
      ]
    },
    {
      "cell_type": "markdown",
      "metadata": {
        "id": "1PhfWpS8QVzE"
      },
      "source": [
        "Create and install a source connector:\n"
      ]
    },
    {
      "cell_type": "code",
      "execution_count": null,
      "metadata": {
        "id": "5BI9hIeUvxXE"
      },
      "outputs": [],
      "source": [
        "import airbyte_lib as ab\n",
        "\n",
        "# Create and configure the source:\n",
        "source: ab.Source = ab.get_connector(\"source-faker\")"
      ]
    },
    {
      "cell_type": "code",
      "execution_count": null,
      "metadata": {
        "id": "Ww7NA9cQQjQI"
      },
      "outputs": [],
      "source": [
        "source.set_config(\n",
        "    config={\n",
        "        \"count\": 50_000, # Adjust this to get a larger or smaller dataset\n",
        "        \"seed\": 123,\n",
        "    },\n",
        ")\n",
        "# Verify the config and creds by running `check`:\n",
        "source.check()"
      ]
    },
    {
      "cell_type": "markdown",
      "metadata": {
        "id": "Que5DAqtEJu0"
      },
      "source": [
        "## Read Data from the AirbyteLib Cache\n",
        "\n",
        "Once data is read, we can do anything we want to with the resulting streams. This includes `to_pandas()` which registers a Pandas dataframe and `to_sql_table()` which gives us a SQLAlchemy `Table` boject, which we can use to run SQL queries.\n"
      ]
    },
    {
      "cell_type": "code",
      "execution_count": null,
      "metadata": {
        "colab": {
          "base_uri": "https://localhost:8080/",
          "height": 298
        },
        "id": "qQVRO69c2DoA",
        "outputId": "ba2eec13-e7dc-484a-91d5-91005a8b527a"
      },
      "outputs": [],
      "source": [
        "# Read data from the source into the internal cache:\n",
        "read_result: ab.ReadResult = source.read()"
      ]
    },
    {
      "cell_type": "code",
      "execution_count": null,
      "metadata": {
        "colab": {
          "base_uri": "https://localhost:8080/",
          "height": 597
        },
        "id": "gRuGVOoDEw1R",
        "outputId": "47f41f4e-12db-457e-c939-2d748f3c8f94"
      },
      "outputs": [],
      "source": [
        "# Display or transform the loaded data\n",
        "products_df = read_result[\"products\"].to_pandas()\n",
        "display(products_df)"
      ]
    },
    {
      "cell_type": "markdown",
      "metadata": {
        "id": "VJgl59hBF1rJ"
      },
      "source": [
        "## Creating graphs\n",
        "\n",
        "AirbyteLib integrates with Pandas, which integrates with `matplotlib` as well as many other popular libraries. We can use this as a means of quickly creating graphs.\n"
      ]
    },
    {
      "cell_type": "code",
      "execution_count": null,
      "metadata": {
        "colab": {
          "base_uri": "https://localhost:8080/",
          "height": 527
        },
        "id": "XcQcBlYjF3oO",
        "outputId": "37c1846b-e3b2-48af-e604-01abe9f14841"
      },
      "outputs": [],
      "source": [
        "%pip install matplotlib\n",
        "\n",
        "import matplotlib.pyplot as plt\n",
        "\n",
        "users_df = read_result[\"users\"].to_pandas()\n",
        "\n",
        "plt.hist(users_df['age'], bins=10, edgecolor='black')\n",
        "plt.title('Histogram of Ages')\n",
        "plt.xlabel('Ages')\n",
        "plt.ylabel('Frequency')\n",
        "plt.show()"
      ]
    },
    {
      "cell_type": "markdown",
      "metadata": {
        "id": "wSru-wGpHZrh"
      },
      "source": [
        "## Working in SQL\n",
        "\n",
        "Since data is cached in a local DuckDB database, we can query the data with SQL.\n",
        "\n",
        "We can do this in multiple ways. One way is to use the [JupySQL Extension](https://jupysql.ploomber.io/en/latest/user-guide/template.html), which we'll use below.\n"
      ]
    },
    {
      "cell_type": "code",
      "execution_count": null,
      "metadata": {
        "colab": {
          "base_uri": "https://localhost:8080/"
        },
        "id": "xdotIOg70nuL",
        "outputId": "386c7561-1cfd-4920-b0cf-2094b35cd017"
      },
      "outputs": [],
      "source": [
        "# Install JupySQL to enable SQL cell magics\n",
        "%pip install --quiet jupysql\n",
        "# Load JupySQL extension\n",
        "%load_ext sql\n",
        "# Configure max row limit (optional)\n",
        "%config SqlMagic.displaylimit = 200"
      ]
    },
    {
      "cell_type": "code",
      "execution_count": null,
      "metadata": {
        "id": "2tA6L1dHZ2w0"
      },
      "outputs": [],
      "source": [
        "# Get the SQLAlchemy 'engine' object for the cache\n",
        "engine = read_result.cache.get_sql_engine()\n",
        "# Pass the engine to JupySQL\n",
        "%sql engine"
      ]
    },
    {
      "cell_type": "code",
      "execution_count": null,
      "metadata": {
        "colab": {
          "base_uri": "https://localhost:8080/",
          "height": 90
        },
        "id": "0eaYnErPaFsH",
        "outputId": "1e730d2b-31b1-4279-8c24-f5a430a327bb"
      },
      "outputs": [],
      "source": [
        "# Get the table for the 'users' stream\n",
        "users_table = read_result.cache.get_sql_table(\"users\")\n",
        "display(users_table.fullname)"
      ]
    },
    {
      "cell_type": "code",
      "execution_count": null,
      "metadata": {
        "colab": {
          "base_uri": "https://localhost:8080/",
          "height": 485
        },
        "id": "VjeTOtKHHiA5",
        "outputId": "832dd61b-789f-4065-f949-3e62d02fee25"
      },
      "outputs": [],
      "source": [
        "%%sql\n",
        "# We can now dynamically pass the table reference into a SQL query\n",
        "\n",
        "SELECT name, occupation, age, nationality\n",
        "FROM {{ users_table.fullname }}\n",
        "LIMIT 20"
      ]
    },
    {
      "cell_type": "code",
      "execution_count": null,
      "metadata": {
        "colab": {
          "base_uri": "https://localhost:8080/",
          "height": 126
        },
        "id": "nSTpNpRHhk7F",
        "outputId": "19b754e9-4853-4267-a321-023a9759f254"
      },
      "outputs": [],
      "source": [
        "# Show tables for the other streams\n",
        "%sqlcmd tables"
      ]
    }
  ],
  "metadata": {
    "colab": {
      "authorship_tag": "ABX9TyPYLwN+O7NtMePhrmc69lJe",
      "include_colab_link": true,
      "provenance": []
    },
    "kernelspec": {
      "display_name": "Python 3",
      "name": "python3"
    },
    "language_info": {
      "codemirror_mode": {
        "name": "ipython",
        "version": 3
      },
      "file_extension": ".py",
      "mimetype": "text/x-python",
      "name": "python",
      "nbconvert_exporter": "python",
      "pygments_lexer": "ipython3",
      "version": "3.9.6"
    }
  },
  "nbformat": 4,
  "nbformat_minor": 0
}
