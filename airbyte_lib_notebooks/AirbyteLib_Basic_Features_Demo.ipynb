{
  "cells": [
    {
      "cell_type": "markdown",
      "metadata": {
        "colab_type": "text",
        "id": "view-in-github"
      },
      "source": [
        "<a href=\"https://colab.research.google.com/github/airbytehq/quickstarts/blob/aj%2Fairbyte-lib-quickstart/airbyte_lib_notebooks/AirbyteLib_Basic_Features_Demo.ipynb\" target=\"_parent\"><img src=\"https://colab.research.google.com/assets/colab-badge.svg\" alt=\"Open In Colab\"/></a>\n"
      ]
    },
    {
      "cell_type": "markdown",
      "metadata": {
        "id": "R8XtHKK4PujA"
      },
      "source": [
        "# AirbyteLib Demo\n",
        "\n",
        "Below is a pre-release demo of AirbyteLib.\n"
      ]
    },
    {
      "cell_type": "markdown",
      "metadata": {
        "id": "Lyxh2NLuQJUf"
      },
      "source": [
        "## Install AirbyteLib\n"
      ]
    },
    {
      "cell_type": "code",
      "execution_count": 1,
      "metadata": {
        "colab": {
          "base_uri": "https://localhost:8080/"
        },
        "id": "9DEgu1WpQNt-",
        "outputId": "b3124d2a-6987-46de-a3a7-97c19d1a54b1"
      },
      "outputs": [
        {
          "name": "stdout",
          "output_type": "stream",
          "text": [
            "Selecting previously unselected package python3-pip-whl.\n",
            "(Reading database ... 121730 files and directories currently installed.)\n",
            "Preparing to unpack .../python3-pip-whl_22.0.2+dfsg-1ubuntu0.4_all.deb ...\n",
            "Unpacking python3-pip-whl (22.0.2+dfsg-1ubuntu0.4) ...\n",
            "Selecting previously unselected package python3-setuptools-whl.\n",
            "Preparing to unpack .../python3-setuptools-whl_59.6.0-1.2ubuntu0.22.04.1_all.deb ...\n",
            "Unpacking python3-setuptools-whl (59.6.0-1.2ubuntu0.22.04.1) ...\n",
            "Selecting previously unselected package python3.10-venv.\n",
            "Preparing to unpack .../python3.10-venv_3.10.12-1~22.04.3_amd64.deb ...\n",
            "Unpacking python3.10-venv (3.10.12-1~22.04.3) ...\n",
            "Setting up python3-setuptools-whl (59.6.0-1.2ubuntu0.22.04.1) ...\n",
            "Setting up python3-pip-whl (22.0.2+dfsg-1ubuntu0.4) ...\n",
            "Setting up python3.10-venv (3.10.12-1~22.04.3) ...\n",
            "  Installing build dependencies ... \u001b[?25l\u001b[?25hdone\n",
            "  Getting requirements to build wheel ... \u001b[?25l\u001b[?25hdone\n",
            "  Preparing metadata (pyproject.toml) ... \u001b[?25l\u001b[?25hdone\n",
            "\u001b[2K     \u001b[90m━━━━━━━━━━━━━━━━━━━━━━━━━━━━━━━━━━━━━━━━\u001b[0m \u001b[32m670.9/670.9 kB\u001b[0m \u001b[31m10.1 MB/s\u001b[0m eta \u001b[36m0:00:00\u001b[0m\n",
            "\u001b[2K     \u001b[90m━━━━━━━━━━━━━━━━━━━━━━━━━━━━━━━━━━━━━━━━\u001b[0m \u001b[32m46.0/46.0 kB\u001b[0m \u001b[31m4.6 MB/s\u001b[0m eta \u001b[36m0:00:00\u001b[0m\n",
            "\u001b[2K     \u001b[90m━━━━━━━━━━━━━━━━━━━━━━━━━━━━━━━━━━━━━━━━\u001b[0m \u001b[32m56.3/56.3 kB\u001b[0m \u001b[31m4.8 MB/s\u001b[0m eta \u001b[36m0:00:00\u001b[0m\n",
            "\u001b[2K     \u001b[90m━━━━━━━━━━━━━━━━━━━━━━━━━━━━━━━━━━━━━━━━\u001b[0m \u001b[32m139.8/139.8 kB\u001b[0m \u001b[31m4.0 MB/s\u001b[0m eta \u001b[36m0:00:00\u001b[0m\n",
            "\u001b[2K     \u001b[90m━━━━━━━━━━━━━━━━━━━━━━━━━━━━━━━━━━━━━━━━\u001b[0m \u001b[32m12.3/12.3 MB\u001b[0m \u001b[31m56.9 MB/s\u001b[0m eta \u001b[36m0:00:00\u001b[0m\n",
            "\u001b[2K     \u001b[90m━━━━━━━━━━━━━━━━━━━━━━━━━━━━━━━━━━━━━━━━\u001b[0m \u001b[32m3.0/3.0 MB\u001b[0m \u001b[31m69.3 MB/s\u001b[0m eta \u001b[36m0:00:00\u001b[0m\n",
            "\u001b[2K     \u001b[90m━━━━━━━━━━━━━━━━━━━━━━━━━━━━━━━━━━━━━━━━\u001b[0m \u001b[32m38.0/38.0 MB\u001b[0m \u001b[31m13.1 MB/s\u001b[0m eta \u001b[36m0:00:00\u001b[0m\n",
            "\u001b[2K     \u001b[90m━━━━━━━━━━━━━━━━━━━━━━━━━━━━━━━━━━━━━━━━\u001b[0m \u001b[32m2.5/2.5 MB\u001b[0m \u001b[31m63.5 MB/s\u001b[0m eta \u001b[36m0:00:00\u001b[0m\n",
            "\u001b[2K     \u001b[90m━━━━━━━━━━━━━━━━━━━━━━━━━━━━━━━━━━━━━━━━\u001b[0m \u001b[32m1.6/1.6 MB\u001b[0m \u001b[31m64.7 MB/s\u001b[0m eta \u001b[36m0:00:00\u001b[0m\n",
            "\u001b[?25h  Preparing metadata (setup.py) ... \u001b[?25l\u001b[?25hdone\n",
            "\u001b[2K     \u001b[90m━━━━━━━━━━━━━━━━━━━━━━━━━━━━━━━━━━━━━━━━\u001b[0m \u001b[32m117.7/117.7 kB\u001b[0m \u001b[31m10.9 MB/s\u001b[0m eta \u001b[36m0:00:00\u001b[0m\n",
            "\u001b[2K     \u001b[90m━━━━━━━━━━━━━━━━━━━━━━━━━━━━━━━━━━━━━━━━\u001b[0m \u001b[32m346.6/346.6 kB\u001b[0m \u001b[31m25.9 MB/s\u001b[0m eta \u001b[36m0:00:00\u001b[0m\n",
            "\u001b[2K     \u001b[90m━━━━━━━━━━━━━━━━━━━━━━━━━━━━━━━━━━━━━━━━\u001b[0m \u001b[32m105.0/105.0 kB\u001b[0m \u001b[31m10.0 MB/s\u001b[0m eta \u001b[36m0:00:00\u001b[0m\n",
            "\u001b[2K     \u001b[90m━━━━━━━━━━━━━━━━━━━━━━━━━━━━━━━━━━━━━━━━\u001b[0m \u001b[32m4.4/4.4 MB\u001b[0m \u001b[31m47.1 MB/s\u001b[0m eta \u001b[36m0:00:00\u001b[0m\n",
            "\u001b[2K     \u001b[90m━━━━━━━━━━━━━━━━━━━━━━━━━━━━━━━━━━━━━━━━\u001b[0m \u001b[32m58.8/58.8 kB\u001b[0m \u001b[31m4.7 MB/s\u001b[0m eta \u001b[36m0:00:00\u001b[0m\n",
            "\u001b[2K     \u001b[90m━━━━━━━━━━━━━━━━━━━━━━━━━━━━━━━━━━━━━━━━\u001b[0m \u001b[32m41.7/41.7 kB\u001b[0m \u001b[31m3.7 MB/s\u001b[0m eta \u001b[36m0:00:00\u001b[0m\n",
            "\u001b[2K     \u001b[90m━━━━━━━━━━━━━━━━━━━━━━━━━━━━━━━━━━━━━━━━\u001b[0m \u001b[32m81.2/81.2 kB\u001b[0m \u001b[31m8.3 MB/s\u001b[0m eta \u001b[36m0:00:00\u001b[0m\n",
            "\u001b[?25h  Installing build dependencies ... \u001b[?25l\u001b[?25hdone\n",
            "  Getting requirements to build wheel ... \u001b[?25l\u001b[?25hdone\n",
            "  Preparing metadata (pyproject.toml) ... \u001b[?25l\u001b[?25hdone\n",
            "  Preparing metadata (setup.py) ... \u001b[?25l\u001b[?25hdone\n",
            "\u001b[2K     \u001b[90m━━━━━━━━━━━━━━━━━━━━━━━━━━━━━━━━━━━━━━━━\u001b[0m \u001b[32m60.3/60.3 kB\u001b[0m \u001b[31m5.6 MB/s\u001b[0m eta \u001b[36m0:00:00\u001b[0m\n",
            "\u001b[2K     \u001b[90m━━━━━━━━━━━━━━━━━━━━━━━━━━━━━━━━━━━━━━━━\u001b[0m \u001b[32m40.0/40.0 kB\u001b[0m \u001b[31m3.7 MB/s\u001b[0m eta \u001b[36m0:00:00\u001b[0m\n",
            "\u001b[2K     \u001b[90m━━━━━━━━━━━━━━━━━━━━━━━━━━━━━━━━━━━━━━━━\u001b[0m \u001b[32m490.0/490.0 kB\u001b[0m \u001b[31m36.2 MB/s\u001b[0m eta \u001b[36m0:00:00\u001b[0m\n",
            "\u001b[2K     \u001b[90m━━━━━━━━━━━━━━━━━━━━━━━━━━━━━━━━━━━━━━━━\u001b[0m \u001b[32m57.5/57.5 kB\u001b[0m \u001b[31m5.2 MB/s\u001b[0m eta \u001b[36m0:00:00\u001b[0m\n",
            "\u001b[?25h  Building wheel for airbyte-lib (pyproject.toml) ... \u001b[?25l\u001b[?25hdone\n",
            "  Building wheel for genson (setup.py) ... \u001b[?25l\u001b[?25hdone\n",
            "  Building wheel for ulid (setup.py) ... \u001b[?25l\u001b[?25hdone\n",
            "  Building wheel for pendulum (pyproject.toml) ... \u001b[?25l\u001b[?25hdone\n",
            "\u001b[31mERROR: pip's dependency resolver does not currently take into account all the packages that are installed. This behaviour is the source of the following dependency conflicts.\n",
            "lida 0.0.10 requires fastapi, which is not installed.\n",
            "lida 0.0.10 requires kaleido, which is not installed.\n",
            "lida 0.0.10 requires python-multipart, which is not installed.\n",
            "lida 0.0.10 requires uvicorn, which is not installed.\n",
            "bigframes 0.20.0 requires pandas<2.1.4,>=1.5.0, but you have pandas 2.1.4 which is incompatible.\n",
            "google-colab 1.0.0 requires pandas==1.5.3, but you have pandas 2.1.4 which is incompatible.\n",
            "ipython-sql 0.5.0 requires sqlalchemy>=2.0, but you have sqlalchemy 1.4.51 which is incompatible.\u001b[0m\u001b[31m\n",
            "\u001b[0m"
          ]
        }
      ],
      "source": [
        "# Add virtual environment support for running in Google Colab ()\n",
        "!apt-get install -qq python3.10-venv\n",
        "\n",
        "# Install airbyte-lib\n",
        "%pip install --quiet 'git+https://github.com/airbytehq/airbyte.git@master#egg=airbyte-lib&subdirectory=airbyte-lib'"
      ]
    },
    {
      "cell_type": "code",
      "execution_count": 2,
      "metadata": {
        "id": "myO8qaSKt_S4"
      },
      "outputs": [],
      "source": [
        "# Test that the install was successful\n",
        "import airbyte_lib as ab"
      ]
    },
    {
      "cell_type": "markdown",
      "metadata": {},
      "source": [
        "## Locating your Data Source\n",
        "\n",
        "To see what data sources are available, you can check [our docs](https://docs.airbyte.com/using-airbyte/airbyte-lib/getting-started) or run the following:\n"
      ]
    },
    {
      "cell_type": "code",
      "execution_count": null,
      "metadata": {},
      "outputs": [],
      "source": [
        "ab."
      ]
    },
    {
      "cell_type": "markdown",
      "metadata": {
        "id": "JWWeEbTVEDFz"
      },
      "source": [
        "## Load the Source Data using AirbyteLib\n"
      ]
    },
    {
      "cell_type": "markdown",
      "metadata": {
        "id": "1PhfWpS8QVzE"
      },
      "source": [
        "Create and install a source connector:\n"
      ]
    },
    {
      "cell_type": "code",
      "execution_count": 3,
      "metadata": {
        "id": "5BI9hIeUvxXE"
      },
      "outputs": [],
      "source": [
        "import airbyte_lib as ab\n",
        "\n",
        "# Create and install the source:\n",
        "source: ab.Source = ab.get_source(\"source-faker\")"
      ]
    },
    {
      "cell_type": "code",
      "execution_count": 4,
      "metadata": {
        "id": "Ww7NA9cQQjQI"
      },
      "outputs": [],
      "source": [
        "# Configure the source\n",
        "source.set_config(\n",
        "    config={\n",
        "        \"count\": 50_000, # Adjust this to get a larger or smaller dataset\n",
        "        \"seed\": 123,\n",
        "    },\n",
        ")\n",
        "# Verify the config and creds by running `check`:\n",
        "source.check()"
      ]
    },
    {
      "cell_type": "markdown",
      "metadata": {
        "id": "Que5DAqtEJu0"
      },
      "source": [
        "## Read Data from the AirbyteLib Cache\n",
        "\n",
        "Once data is read, we can do anything we want to with the resulting streams. This includes `to_pandas()` which registers a Pandas dataframe and `to_sql_table()` which gives us a SQLAlchemy `Table` boject, which we can use to run SQL queries.\n"
      ]
    },
    {
      "cell_type": "code",
      "execution_count": 5,
      "metadata": {
        "colab": {
          "base_uri": "https://localhost:8080/",
          "height": 298
        },
        "id": "qQVRO69c2DoA",
        "outputId": "a6ba4470-846a-4768-90f8-141da9deff99"
      },
      "outputs": [
        {
          "data": {
            "text/markdown": [
              "## Read Progress\n",
              "\n",
              "Started reading at 01:50:52.\n",
              "\n",
              "Read **100,135** records over **1min 9s** (1,451.2 records / second).\n",
              "\n",
              "Wrote **100,100** records over 11 batches.\n",
              "\n",
              "Finished reading at 01:52:02.\n",
              "\n",
              "Started finalizing streams at 01:52:02.\n",
              "\n",
              "Finalized **11** batches over 1 seconds.\n",
              "\n",
              "Completed 3 streams:\n",
              "\n",
              "  - purchases\n",
              "  - users\n",
              "  - products\n",
              "\n",
              "\n",
              "\n",
              "------------------------------------------------\n"
            ],
            "text/plain": [
              "<IPython.core.display.Markdown object>"
            ]
          },
          "metadata": {},
          "output_type": "display_data"
        }
      ],
      "source": [
        "# Select all of the source's streams and read data into the internal cache:\n",
        "source.select_all_streams()\n",
        "read_result: ab.ReadResult = source.read()"
      ]
    },
    {
      "cell_type": "code",
      "execution_count": 6,
      "metadata": {
        "colab": {
          "base_uri": "https://localhost:8080/",
          "height": 424
        },
        "id": "gRuGVOoDEw1R",
        "outputId": "f44d0320-f5df-45d1-fe4e-0541e5f750f9"
      },
      "outputs": [
        {
          "data": {
            "text/html": [
              "\n",
              "  <div id=\"df-ce5dd50d-7f43-448f-bb86-c78f3a1079f6\" class=\"colab-df-container\">\n",
              "    <div>\n",
              "<style scoped>\n",
              "    .dataframe tbody tr th:only-of-type {\n",
              "        vertical-align: middle;\n",
              "    }\n",
              "\n",
              "    .dataframe tbody tr th {\n",
              "        vertical-align: top;\n",
              "    }\n",
              "\n",
              "    .dataframe thead th {\n",
              "        text-align: right;\n",
              "    }\n",
              "</style>\n",
              "<table border=\"1\" class=\"dataframe\">\n",
              "  <thead>\n",
              "    <tr style=\"text-align: right;\">\n",
              "      <th></th>\n",
              "      <th>id</th>\n",
              "      <th>make</th>\n",
              "      <th>model</th>\n",
              "      <th>year</th>\n",
              "      <th>price</th>\n",
              "      <th>created_at</th>\n",
              "      <th>updated_at</th>\n",
              "    </tr>\n",
              "  </thead>\n",
              "  <tbody>\n",
              "    <tr>\n",
              "      <th>0</th>\n",
              "      <td>1</td>\n",
              "      <td>Mazda</td>\n",
              "      <td>MX-5</td>\n",
              "      <td>2008</td>\n",
              "      <td>2869.0</td>\n",
              "      <td>2022-02-01 17:02:19</td>\n",
              "      <td>2024-02-03 01:50:54</td>\n",
              "    </tr>\n",
              "    <tr>\n",
              "      <th>1</th>\n",
              "      <td>2</td>\n",
              "      <td>Mercedes-Benz</td>\n",
              "      <td>C-Class</td>\n",
              "      <td>2009</td>\n",
              "      <td>42397.0</td>\n",
              "      <td>2021-01-25 14:31:33</td>\n",
              "      <td>2024-02-03 01:50:54</td>\n",
              "    </tr>\n",
              "    <tr>\n",
              "      <th>2</th>\n",
              "      <td>3</td>\n",
              "      <td>Honda</td>\n",
              "      <td>Accord Crosstour</td>\n",
              "      <td>2011</td>\n",
              "      <td>63293.0</td>\n",
              "      <td>2021-02-11 05:36:03</td>\n",
              "      <td>2024-02-03 01:50:54</td>\n",
              "    </tr>\n",
              "    <tr>\n",
              "      <th>3</th>\n",
              "      <td>4</td>\n",
              "      <td>GMC</td>\n",
              "      <td>Jimmy</td>\n",
              "      <td>1998</td>\n",
              "      <td>34079.0</td>\n",
              "      <td>2022-01-24 03:00:03</td>\n",
              "      <td>2024-02-03 01:50:54</td>\n",
              "    </tr>\n",
              "    <tr>\n",
              "      <th>4</th>\n",
              "      <td>5</td>\n",
              "      <td>Infiniti</td>\n",
              "      <td>FX</td>\n",
              "      <td>2004</td>\n",
              "      <td>17036.0</td>\n",
              "      <td>2021-10-02 03:55:44</td>\n",
              "      <td>2024-02-03 01:50:54</td>\n",
              "    </tr>\n",
              "    <tr>\n",
              "      <th>...</th>\n",
              "      <td>...</td>\n",
              "      <td>...</td>\n",
              "      <td>...</td>\n",
              "      <td>...</td>\n",
              "      <td>...</td>\n",
              "      <td>...</td>\n",
              "      <td>...</td>\n",
              "    </tr>\n",
              "    <tr>\n",
              "      <th>95</th>\n",
              "      <td>96</td>\n",
              "      <td>BMW</td>\n",
              "      <td>330</td>\n",
              "      <td>2006</td>\n",
              "      <td>14494.0</td>\n",
              "      <td>2021-09-17 20:52:48</td>\n",
              "      <td>2024-02-03 01:50:54</td>\n",
              "    </tr>\n",
              "    <tr>\n",
              "      <th>96</th>\n",
              "      <td>97</td>\n",
              "      <td>Audi</td>\n",
              "      <td>R8</td>\n",
              "      <td>2008</td>\n",
              "      <td>17642.0</td>\n",
              "      <td>2021-09-21 11:56:24</td>\n",
              "      <td>2024-02-03 01:50:54</td>\n",
              "    </tr>\n",
              "    <tr>\n",
              "      <th>97</th>\n",
              "      <td>98</td>\n",
              "      <td>Cadillac</td>\n",
              "      <td>CTS-V</td>\n",
              "      <td>2007</td>\n",
              "      <td>19914.0</td>\n",
              "      <td>2021-09-02 15:38:46</td>\n",
              "      <td>2024-02-03 01:50:54</td>\n",
              "    </tr>\n",
              "    <tr>\n",
              "      <th>98</th>\n",
              "      <td>99</td>\n",
              "      <td>GMC</td>\n",
              "      <td>1500 Club Coupe</td>\n",
              "      <td>1997</td>\n",
              "      <td>82288.0</td>\n",
              "      <td>2021-04-20 18:58:15</td>\n",
              "      <td>2024-02-03 01:50:54</td>\n",
              "    </tr>\n",
              "    <tr>\n",
              "      <th>99</th>\n",
              "      <td>100</td>\n",
              "      <td>Buick</td>\n",
              "      <td>Somerset</td>\n",
              "      <td>1986</td>\n",
              "      <td>64148.0</td>\n",
              "      <td>2021-06-10 19:07:38</td>\n",
              "      <td>2024-02-03 01:50:54</td>\n",
              "    </tr>\n",
              "  </tbody>\n",
              "</table>\n",
              "<p>100 rows × 7 columns</p>\n",
              "</div>\n",
              "    <div class=\"colab-df-buttons\">\n",
              "\n",
              "  <div class=\"colab-df-container\">\n",
              "    <button class=\"colab-df-convert\" onclick=\"convertToInteractive('df-ce5dd50d-7f43-448f-bb86-c78f3a1079f6')\"\n",
              "            title=\"Convert this dataframe to an interactive table.\"\n",
              "            style=\"display:none;\">\n",
              "\n",
              "  <svg xmlns=\"http://www.w3.org/2000/svg\" height=\"24px\" viewBox=\"0 -960 960 960\">\n",
              "    <path d=\"M120-120v-720h720v720H120Zm60-500h600v-160H180v160Zm220 220h160v-160H400v160Zm0 220h160v-160H400v160ZM180-400h160v-160H180v160Zm440 0h160v-160H620v160ZM180-180h160v-160H180v160Zm440 0h160v-160H620v160Z\"/>\n",
              "  </svg>\n",
              "    </button>\n",
              "\n",
              "  <style>\n",
              "    .colab-df-container {\n",
              "      display:flex;\n",
              "      gap: 12px;\n",
              "    }\n",
              "\n",
              "    .colab-df-convert {\n",
              "      background-color: #E8F0FE;\n",
              "      border: none;\n",
              "      border-radius: 50%;\n",
              "      cursor: pointer;\n",
              "      display: none;\n",
              "      fill: #1967D2;\n",
              "      height: 32px;\n",
              "      padding: 0 0 0 0;\n",
              "      width: 32px;\n",
              "    }\n",
              "\n",
              "    .colab-df-convert:hover {\n",
              "      background-color: #E2EBFA;\n",
              "      box-shadow: 0px 1px 2px rgba(60, 64, 67, 0.3), 0px 1px 3px 1px rgba(60, 64, 67, 0.15);\n",
              "      fill: #174EA6;\n",
              "    }\n",
              "\n",
              "    .colab-df-buttons div {\n",
              "      margin-bottom: 4px;\n",
              "    }\n",
              "\n",
              "    [theme=dark] .colab-df-convert {\n",
              "      background-color: #3B4455;\n",
              "      fill: #D2E3FC;\n",
              "    }\n",
              "\n",
              "    [theme=dark] .colab-df-convert:hover {\n",
              "      background-color: #434B5C;\n",
              "      box-shadow: 0px 1px 3px 1px rgba(0, 0, 0, 0.15);\n",
              "      filter: drop-shadow(0px 1px 2px rgba(0, 0, 0, 0.3));\n",
              "      fill: #FFFFFF;\n",
              "    }\n",
              "  </style>\n",
              "\n",
              "    <script>\n",
              "      const buttonEl =\n",
              "        document.querySelector('#df-ce5dd50d-7f43-448f-bb86-c78f3a1079f6 button.colab-df-convert');\n",
              "      buttonEl.style.display =\n",
              "        google.colab.kernel.accessAllowed ? 'block' : 'none';\n",
              "\n",
              "      async function convertToInteractive(key) {\n",
              "        const element = document.querySelector('#df-ce5dd50d-7f43-448f-bb86-c78f3a1079f6');\n",
              "        const dataTable =\n",
              "          await google.colab.kernel.invokeFunction('convertToInteractive',\n",
              "                                                    [key], {});\n",
              "        if (!dataTable) return;\n",
              "\n",
              "        const docLinkHtml = 'Like what you see? Visit the ' +\n",
              "          '<a target=\"_blank\" href=https://colab.research.google.com/notebooks/data_table.ipynb>data table notebook</a>'\n",
              "          + ' to learn more about interactive tables.';\n",
              "        element.innerHTML = '';\n",
              "        dataTable['output_type'] = 'display_data';\n",
              "        await google.colab.output.renderOutput(dataTable, element);\n",
              "        const docLink = document.createElement('div');\n",
              "        docLink.innerHTML = docLinkHtml;\n",
              "        element.appendChild(docLink);\n",
              "      }\n",
              "    </script>\n",
              "  </div>\n",
              "\n",
              "\n",
              "<div id=\"df-a8b14a11-eda7-426a-a4ee-b3a2e084aaea\">\n",
              "  <button class=\"colab-df-quickchart\" onclick=\"quickchart('df-a8b14a11-eda7-426a-a4ee-b3a2e084aaea')\"\n",
              "            title=\"Suggest charts\"\n",
              "            style=\"display:none;\">\n",
              "\n",
              "<svg xmlns=\"http://www.w3.org/2000/svg\" height=\"24px\"viewBox=\"0 0 24 24\"\n",
              "     width=\"24px\">\n",
              "    <g>\n",
              "        <path d=\"M19 3H5c-1.1 0-2 .9-2 2v14c0 1.1.9 2 2 2h14c1.1 0 2-.9 2-2V5c0-1.1-.9-2-2-2zM9 17H7v-7h2v7zm4 0h-2V7h2v10zm4 0h-2v-4h2v4z\"/>\n",
              "    </g>\n",
              "</svg>\n",
              "  </button>\n",
              "\n",
              "<style>\n",
              "  .colab-df-quickchart {\n",
              "      --bg-color: #E8F0FE;\n",
              "      --fill-color: #1967D2;\n",
              "      --hover-bg-color: #E2EBFA;\n",
              "      --hover-fill-color: #174EA6;\n",
              "      --disabled-fill-color: #AAA;\n",
              "      --disabled-bg-color: #DDD;\n",
              "  }\n",
              "\n",
              "  [theme=dark] .colab-df-quickchart {\n",
              "      --bg-color: #3B4455;\n",
              "      --fill-color: #D2E3FC;\n",
              "      --hover-bg-color: #434B5C;\n",
              "      --hover-fill-color: #FFFFFF;\n",
              "      --disabled-bg-color: #3B4455;\n",
              "      --disabled-fill-color: #666;\n",
              "  }\n",
              "\n",
              "  .colab-df-quickchart {\n",
              "    background-color: var(--bg-color);\n",
              "    border: none;\n",
              "    border-radius: 50%;\n",
              "    cursor: pointer;\n",
              "    display: none;\n",
              "    fill: var(--fill-color);\n",
              "    height: 32px;\n",
              "    padding: 0;\n",
              "    width: 32px;\n",
              "  }\n",
              "\n",
              "  .colab-df-quickchart:hover {\n",
              "    background-color: var(--hover-bg-color);\n",
              "    box-shadow: 0 1px 2px rgba(60, 64, 67, 0.3), 0 1px 3px 1px rgba(60, 64, 67, 0.15);\n",
              "    fill: var(--button-hover-fill-color);\n",
              "  }\n",
              "\n",
              "  .colab-df-quickchart-complete:disabled,\n",
              "  .colab-df-quickchart-complete:disabled:hover {\n",
              "    background-color: var(--disabled-bg-color);\n",
              "    fill: var(--disabled-fill-color);\n",
              "    box-shadow: none;\n",
              "  }\n",
              "\n",
              "  .colab-df-spinner {\n",
              "    border: 2px solid var(--fill-color);\n",
              "    border-color: transparent;\n",
              "    border-bottom-color: var(--fill-color);\n",
              "    animation:\n",
              "      spin 1s steps(1) infinite;\n",
              "  }\n",
              "\n",
              "  @keyframes spin {\n",
              "    0% {\n",
              "      border-color: transparent;\n",
              "      border-bottom-color: var(--fill-color);\n",
              "      border-left-color: var(--fill-color);\n",
              "    }\n",
              "    20% {\n",
              "      border-color: transparent;\n",
              "      border-left-color: var(--fill-color);\n",
              "      border-top-color: var(--fill-color);\n",
              "    }\n",
              "    30% {\n",
              "      border-color: transparent;\n",
              "      border-left-color: var(--fill-color);\n",
              "      border-top-color: var(--fill-color);\n",
              "      border-right-color: var(--fill-color);\n",
              "    }\n",
              "    40% {\n",
              "      border-color: transparent;\n",
              "      border-right-color: var(--fill-color);\n",
              "      border-top-color: var(--fill-color);\n",
              "    }\n",
              "    60% {\n",
              "      border-color: transparent;\n",
              "      border-right-color: var(--fill-color);\n",
              "    }\n",
              "    80% {\n",
              "      border-color: transparent;\n",
              "      border-right-color: var(--fill-color);\n",
              "      border-bottom-color: var(--fill-color);\n",
              "    }\n",
              "    90% {\n",
              "      border-color: transparent;\n",
              "      border-bottom-color: var(--fill-color);\n",
              "    }\n",
              "  }\n",
              "</style>\n",
              "\n",
              "  <script>\n",
              "    async function quickchart(key) {\n",
              "      const quickchartButtonEl =\n",
              "        document.querySelector('#' + key + ' button');\n",
              "      quickchartButtonEl.disabled = true;  // To prevent multiple clicks.\n",
              "      quickchartButtonEl.classList.add('colab-df-spinner');\n",
              "      try {\n",
              "        const charts = await google.colab.kernel.invokeFunction(\n",
              "            'suggestCharts', [key], {});\n",
              "      } catch (error) {\n",
              "        console.error('Error during call to suggestCharts:', error);\n",
              "      }\n",
              "      quickchartButtonEl.classList.remove('colab-df-spinner');\n",
              "      quickchartButtonEl.classList.add('colab-df-quickchart-complete');\n",
              "    }\n",
              "    (() => {\n",
              "      let quickchartButtonEl =\n",
              "        document.querySelector('#df-a8b14a11-eda7-426a-a4ee-b3a2e084aaea button');\n",
              "      quickchartButtonEl.style.display =\n",
              "        google.colab.kernel.accessAllowed ? 'block' : 'none';\n",
              "    })();\n",
              "  </script>\n",
              "</div>\n",
              "    </div>\n",
              "  </div>\n"
            ],
            "text/plain": [
              "     id           make             model  year    price          created_at  \\\n",
              "0     1          Mazda              MX-5  2008   2869.0 2022-02-01 17:02:19   \n",
              "1     2  Mercedes-Benz           C-Class  2009  42397.0 2021-01-25 14:31:33   \n",
              "2     3          Honda  Accord Crosstour  2011  63293.0 2021-02-11 05:36:03   \n",
              "3     4            GMC             Jimmy  1998  34079.0 2022-01-24 03:00:03   \n",
              "4     5       Infiniti                FX  2004  17036.0 2021-10-02 03:55:44   \n",
              "..  ...            ...               ...   ...      ...                 ...   \n",
              "95   96            BMW               330  2006  14494.0 2021-09-17 20:52:48   \n",
              "96   97           Audi                R8  2008  17642.0 2021-09-21 11:56:24   \n",
              "97   98       Cadillac             CTS-V  2007  19914.0 2021-09-02 15:38:46   \n",
              "98   99            GMC   1500 Club Coupe  1997  82288.0 2021-04-20 18:58:15   \n",
              "99  100          Buick          Somerset  1986  64148.0 2021-06-10 19:07:38   \n",
              "\n",
              "            updated_at  \n",
              "0  2024-02-03 01:50:54  \n",
              "1  2024-02-03 01:50:54  \n",
              "2  2024-02-03 01:50:54  \n",
              "3  2024-02-03 01:50:54  \n",
              "4  2024-02-03 01:50:54  \n",
              "..                 ...  \n",
              "95 2024-02-03 01:50:54  \n",
              "96 2024-02-03 01:50:54  \n",
              "97 2024-02-03 01:50:54  \n",
              "98 2024-02-03 01:50:54  \n",
              "99 2024-02-03 01:50:54  \n",
              "\n",
              "[100 rows x 7 columns]"
            ]
          },
          "metadata": {},
          "output_type": "display_data"
        }
      ],
      "source": [
        "# Display or transform the loaded data\n",
        "products_df = read_result[\"products\"].to_pandas()\n",
        "display(products_df)"
      ]
    },
    {
      "cell_type": "markdown",
      "metadata": {
        "id": "VJgl59hBF1rJ"
      },
      "source": [
        "## Creating graphs\n",
        "\n",
        "AirbyteLib integrates with Pandas, which integrates with `matplotlib` as well as many other popular libraries. We can use this as a means of quickly creating graphs.\n"
      ]
    },
    {
      "cell_type": "code",
      "execution_count": 7,
      "metadata": {
        "colab": {
          "base_uri": "https://localhost:8080/",
          "height": 724
        },
        "id": "XcQcBlYjF3oO",
        "outputId": "fd0bdfd5-6509-4b1e-aa1f-c690c25724b8"
      },
      "outputs": [
        {
          "name": "stdout",
          "output_type": "stream",
          "text": [
            "Requirement already satisfied: matplotlib in /usr/local/lib/python3.10/dist-packages (3.7.1)\n",
            "Requirement already satisfied: contourpy>=1.0.1 in /usr/local/lib/python3.10/dist-packages (from matplotlib) (1.2.0)\n",
            "Requirement already satisfied: cycler>=0.10 in /usr/local/lib/python3.10/dist-packages (from matplotlib) (0.12.1)\n",
            "Requirement already satisfied: fonttools>=4.22.0 in /usr/local/lib/python3.10/dist-packages (from matplotlib) (4.47.2)\n",
            "Requirement already satisfied: kiwisolver>=1.0.1 in /usr/local/lib/python3.10/dist-packages (from matplotlib) (1.4.5)\n",
            "Requirement already satisfied: numpy>=1.20 in /usr/local/lib/python3.10/dist-packages (from matplotlib) (1.23.5)\n",
            "Requirement already satisfied: packaging>=20.0 in /usr/local/lib/python3.10/dist-packages (from matplotlib) (23.2)\n",
            "Requirement already satisfied: pillow>=6.2.0 in /usr/local/lib/python3.10/dist-packages (from matplotlib) (9.4.0)\n",
            "Requirement already satisfied: pyparsing>=2.3.1 in /usr/local/lib/python3.10/dist-packages (from matplotlib) (3.1.1)\n",
            "Requirement already satisfied: python-dateutil>=2.7 in /usr/local/lib/python3.10/dist-packages (from matplotlib) (2.8.2)\n",
            "Requirement already satisfied: six>=1.5 in /usr/local/lib/python3.10/dist-packages (from python-dateutil>=2.7->matplotlib) (1.16.0)\n"
          ]
        },
        {
          "name": "stderr",
          "output_type": "stream",
          "text": [
            "/usr/local/lib/python3.10/dist-packages/duckdb_engine/__init__.py:178: DuckDBEngineWarning: duckdb-engine doesn't yet support reflection on indices\n",
            "  warnings.warn(\n"
          ]
        },
        {
          "data": {
            "image/png": "[encoded data removed]",
            "text/plain": [
              "<Figure size 640x480 with 1 Axes>"
            ]
          },
          "metadata": {},
          "output_type": "display_data"
        }
      ],
      "source": [
        "%pip install matplotlib\n",
        "\n",
        "import matplotlib.pyplot as plt\n",
        "\n",
        "users_df = read_result[\"users\"].to_pandas()\n",
        "\n",
        "plt.hist(users_df['age'], bins=10, edgecolor='black')\n",
        "plt.title('Histogram of Ages')\n",
        "plt.xlabel('Ages')\n",
        "plt.ylabel('Frequency')\n",
        "plt.show()"
      ]
    },
    {
      "cell_type": "markdown",
      "metadata": {
        "id": "wSru-wGpHZrh"
      },
      "source": [
        "## Working in SQL\n",
        "\n",
        "Since data is cached in a local DuckDB database, we can query the data with SQL.\n",
        "\n",
        "We can do this in multiple ways. One way is to use the [JupySQL Extension](https://jupysql.ploomber.io/en/latest/user-guide/template.html), which we'll use below.\n"
      ]
    },
    {
      "cell_type": "code",
      "execution_count": 8,
      "metadata": {
        "colab": {
          "base_uri": "https://localhost:8080/"
        },
        "id": "xdotIOg70nuL",
        "outputId": "7064ef6a-77ca-4b35-b082-4b7f503572f8"
      },
      "outputs": [
        {
          "name": "stdout",
          "output_type": "stream",
          "text": [
            "\u001b[2K     \u001b[90m━━━━━━━━━━━━━━━━━━━━━━━━━━━━━━━━━━━━━━━━\u001b[0m \u001b[32m95.7/95.7 kB\u001b[0m \u001b[31m1.6 MB/s\u001b[0m eta \u001b[36m0:00:00\u001b[0m\n",
            "\u001b[2K     \u001b[90m━━━━━━━━━━━━━━━━━━━━━━━━━━━━━━━━━━━━━━━━\u001b[0m \u001b[32m414.2/414.2 kB\u001b[0m \u001b[31m6.1 MB/s\u001b[0m eta \u001b[36m0:00:00\u001b[0m\n",
            "\u001b[2K     \u001b[90m━━━━━━━━━━━━━━━━━━━━━━━━━━━━━━━━━━━━━━━━\u001b[0m \u001b[32m40.8/40.8 kB\u001b[0m \u001b[31m3.4 MB/s\u001b[0m eta \u001b[36m0:00:00\u001b[0m\n",
            "\u001b[?25hDeploy FastAPI apps for free on Ploomber Cloud! Learn more: https://ploomber.io/s/signup\n"
          ]
        }
      ],
      "source": [
        "# Install JupySQL to enable SQL cell magics\n",
        "%pip install --quiet jupysql\n",
        "# Load JupySQL extension\n",
        "%load_ext sql\n",
        "# Configure max row limit (optional)\n",
        "%config SqlMagic.displaylimit = 200"
      ]
    },
    {
      "cell_type": "code",
      "execution_count": 9,
      "metadata": {
        "id": "2tA6L1dHZ2w0"
      },
      "outputs": [],
      "source": [
        "# Get the SQLAlchemy 'engine' object for the cache\n",
        "engine = read_result.cache.get_sql_engine()\n",
        "# Pass the engine to JupySQL\n",
        "%sql engine"
      ]
    },
    {
      "cell_type": "code",
      "execution_count": 10,
      "metadata": {
        "colab": {
          "base_uri": "https://localhost:8080/",
          "height": 91
        },
        "id": "0eaYnErPaFsH",
        "outputId": "bea4fd33-27b9-47a9-e7ba-684f9112071e"
      },
      "outputs": [
        {
          "name": "stderr",
          "output_type": "stream",
          "text": [
            "/usr/local/lib/python3.10/dist-packages/duckdb_engine/__init__.py:178: DuckDBEngineWarning: duckdb-engine doesn't yet support reflection on indices\n",
            "  warnings.warn(\n"
          ]
        },
        {
          "data": {
            "application/vnd.google.colaboratory.intrinsic+json": {
              "type": "string"
            },
            "text/plain": [
              "'main.users'"
            ]
          },
          "metadata": {},
          "output_type": "display_data"
        }
      ],
      "source": [
        "# Get the table for the 'users' stream\n",
        "users_table = read_result.cache.get_sql_table(\"users\")\n",
        "display(users_table.fullname)"
      ]
    },
    {
      "cell_type": "code",
      "execution_count": 11,
      "metadata": {
        "colab": {
          "base_uri": "https://localhost:8080/",
          "height": 485
        },
        "id": "VjeTOtKHHiA5",
        "outputId": "c2ecd894-ac08-47d6-95a0-4a74d6ee7125"
      },
      "outputs": [
        {
          "data": {
            "text/html": [
              "<span style=\"None\">Running query in &#x27;duckdb:///.cache/default_cache_db.duckdb&#x27;</span>"
            ],
            "text/plain": [
              "Running query in 'duckdb:///.cache/default_cache_db.duckdb'"
            ]
          },
          "metadata": {},
          "output_type": "display_data"
        },
        {
          "data": {
            "text/html": [
              "<table>\n",
              "    <thead>\n",
              "        <tr>\n",
              "            <th>name</th>\n",
              "            <th>occupation</th>\n",
              "            <th>age</th>\n",
              "            <th>nationality</th>\n",
              "        </tr>\n",
              "    </thead>\n",
              "    <tbody>\n",
              "        <tr>\n",
              "            <td>Murray</td>\n",
              "            <td>Reporter</td>\n",
              "            <td>36</td>\n",
              "            <td>Uruguayan</td>\n",
              "        </tr>\n",
              "        <tr>\n",
              "            <td>Danyell</td>\n",
              "            <td>Brewery Manager</td>\n",
              "            <td>63</td>\n",
              "            <td>Latvian</td>\n",
              "        </tr>\n",
              "        <tr>\n",
              "            <td>Shirleen</td>\n",
              "            <td>Recovery Vehicle Coordinator</td>\n",
              "            <td>46</td>\n",
              "            <td>Ecuadorian</td>\n",
              "        </tr>\n",
              "        <tr>\n",
              "            <td>Carroll</td>\n",
              "            <td>Tug Skipper</td>\n",
              "            <td>63</td>\n",
              "            <td>Bolivian</td>\n",
              "        </tr>\n",
              "        <tr>\n",
              "            <td>Osvaldo</td>\n",
              "            <td>Genealogist</td>\n",
              "            <td>63</td>\n",
              "            <td>Japanese</td>\n",
              "        </tr>\n",
              "        <tr>\n",
              "            <td>Cicely</td>\n",
              "            <td>Tattooist</td>\n",
              "            <td>59</td>\n",
              "            <td>Portuguese</td>\n",
              "        </tr>\n",
              "        <tr>\n",
              "            <td>Kyle</td>\n",
              "            <td>Park Attendant</td>\n",
              "            <td>65</td>\n",
              "            <td>Mexican</td>\n",
              "        </tr>\n",
              "        <tr>\n",
              "            <td>Leland</td>\n",
              "            <td>Turkey Farmer</td>\n",
              "            <td>20</td>\n",
              "            <td>Russian</td>\n",
              "        </tr>\n",
              "        <tr>\n",
              "            <td>Christia</td>\n",
              "            <td>Tour Guide</td>\n",
              "            <td>18</td>\n",
              "            <td>Spanish</td>\n",
              "        </tr>\n",
              "        <tr>\n",
              "            <td>Bennie</td>\n",
              "            <td>Cafe Worker</td>\n",
              "            <td>45</td>\n",
              "            <td>Costa Rican</td>\n",
              "        </tr>\n",
              "        <tr>\n",
              "            <td>Shanice</td>\n",
              "            <td>Refrigeration Engineer</td>\n",
              "            <td>52</td>\n",
              "            <td>Uruguayan</td>\n",
              "        </tr>\n",
              "        <tr>\n",
              "            <td>Marquitta</td>\n",
              "            <td>Travel Agent</td>\n",
              "            <td>42</td>\n",
              "            <td>Uruguayan</td>\n",
              "        </tr>\n",
              "        <tr>\n",
              "            <td>Gala</td>\n",
              "            <td>Body Fitter</td>\n",
              "            <td>46</td>\n",
              "            <td>Iranian</td>\n",
              "        </tr>\n",
              "        <tr>\n",
              "            <td>Tequila</td>\n",
              "            <td>Instrument Engineer</td>\n",
              "            <td>31</td>\n",
              "            <td>Canadian</td>\n",
              "        </tr>\n",
              "        <tr>\n",
              "            <td>Shizue</td>\n",
              "            <td>Laundry Worker</td>\n",
              "            <td>24</td>\n",
              "            <td>Dominican</td>\n",
              "        </tr>\n",
              "        <tr>\n",
              "            <td>Travis</td>\n",
              "            <td>Technical Clerk</td>\n",
              "            <td>42</td>\n",
              "            <td>Argentinian</td>\n",
              "        </tr>\n",
              "        <tr>\n",
              "            <td>Joan</td>\n",
              "            <td>Aerobic Instructor</td>\n",
              "            <td>49</td>\n",
              "            <td>Japanese</td>\n",
              "        </tr>\n",
              "        <tr>\n",
              "            <td>Enoch</td>\n",
              "            <td>Legal Executive</td>\n",
              "            <td>62</td>\n",
              "            <td>Greek</td>\n",
              "        </tr>\n",
              "        <tr>\n",
              "            <td>Shelby</td>\n",
              "            <td>Sales Assistant</td>\n",
              "            <td>61</td>\n",
              "            <td>Portuguese</td>\n",
              "        </tr>\n",
              "        <tr>\n",
              "            <td>Mitchel</td>\n",
              "            <td>Physician</td>\n",
              "            <td>20</td>\n",
              "            <td>Chilean</td>\n",
              "        </tr>\n",
              "    </tbody>\n",
              "</table>"
            ],
            "text/plain": [
              "+-----------+------------------------------+-----+-------------+\n",
              "|    name   |          occupation          | age | nationality |\n",
              "+-----------+------------------------------+-----+-------------+\n",
              "|   Murray  |           Reporter           |  36 |  Uruguayan  |\n",
              "|  Danyell  |       Brewery Manager        |  63 |   Latvian   |\n",
              "|  Shirleen | Recovery Vehicle Coordinator |  46 |  Ecuadorian |\n",
              "|  Carroll  |         Tug Skipper          |  63 |   Bolivian  |\n",
              "|  Osvaldo  |         Genealogist          |  63 |   Japanese  |\n",
              "|   Cicely  |          Tattooist           |  59 |  Portuguese |\n",
              "|    Kyle   |        Park Attendant        |  65 |   Mexican   |\n",
              "|   Leland  |        Turkey Farmer         |  20 |   Russian   |\n",
              "|  Christia |          Tour Guide          |  18 |   Spanish   |\n",
              "|   Bennie  |         Cafe Worker          |  45 | Costa Rican |\n",
              "|  Shanice  |    Refrigeration Engineer    |  52 |  Uruguayan  |\n",
              "| Marquitta |         Travel Agent         |  42 |  Uruguayan  |\n",
              "|    Gala   |         Body Fitter          |  46 |   Iranian   |\n",
              "|  Tequila  |     Instrument Engineer      |  31 |   Canadian  |\n",
              "|   Shizue  |        Laundry Worker        |  24 |  Dominican  |\n",
              "|   Travis  |       Technical Clerk        |  42 | Argentinian |\n",
              "|    Joan   |      Aerobic Instructor      |  49 |   Japanese  |\n",
              "|   Enoch   |       Legal Executive        |  62 |    Greek    |\n",
              "|   Shelby  |       Sales Assistant        |  61 |  Portuguese |\n",
              "|  Mitchel  |          Physician           |  20 |   Chilean   |\n",
              "+-----------+------------------------------+-----+-------------+"
            ]
          },
          "execution_count": 11,
          "metadata": {},
          "output_type": "execute_result"
        }
      ],
      "source": [
        "%%sql\n",
        "# We can now dynamically pass the table reference into a SQL query\n",
        "\n",
        "SELECT name, occupation, age, nationality\n",
        "FROM {{ users_table.fullname }}\n",
        "LIMIT 20"
      ]
    },
    {
      "cell_type": "code",
      "execution_count": 12,
      "metadata": {
        "colab": {
          "base_uri": "https://localhost:8080/",
          "height": 126
        },
        "id": "nSTpNpRHhk7F",
        "outputId": "86f4b7cd-c990-4969-915f-0d433ec2b7c9"
      },
      "outputs": [
        {
          "data": {
            "text/html": [
              "<table>\n",
              "    <thead>\n",
              "        <tr>\n",
              "            <th>Name</th>\n",
              "        </tr>\n",
              "    </thead>\n",
              "    <tbody>\n",
              "        <tr>\n",
              "            <td>products</td>\n",
              "        </tr>\n",
              "        <tr>\n",
              "            <td>purchases</td>\n",
              "        </tr>\n",
              "        <tr>\n",
              "            <td>users</td>\n",
              "        </tr>\n",
              "        <tr>\n",
              "            <td>_airbytelib_streams</td>\n",
              "        </tr>\n",
              "    </tbody>\n",
              "</table>"
            ],
            "text/plain": [
              "+---------------------+\n",
              "|         Name        |\n",
              "+---------------------+\n",
              "|       products      |\n",
              "|      purchases      |\n",
              "|        users        |\n",
              "| _airbytelib_streams |\n",
              "+---------------------+"
            ]
          },
          "execution_count": 12,
          "metadata": {},
          "output_type": "execute_result"
        }
      ],
      "source": [
        "# Show tables for the other streams\n",
        "%sqlcmd tables"
      ]
    }
  ],
  "metadata": {
    "colab": {
      "include_colab_link": true,
      "provenance": []
    },
    "kernelspec": {
      "display_name": "Python 3",
      "name": "python3"
    },
    "language_info": {
      "codemirror_mode": {
        "name": "ipython",
        "version": 3
      },
      "file_extension": ".py",
      "mimetype": "text/x-python",
      "name": "python",
      "nbconvert_exporter": "python",
      "pygments_lexer": "ipython3",
      "version": "3.9.6"
    }
  },
  "nbformat": 4,
  "nbformat_minor": 0
}
